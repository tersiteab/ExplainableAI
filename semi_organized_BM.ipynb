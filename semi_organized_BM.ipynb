{
 "cells": [
  {
   "cell_type": "code",
   "execution_count": 1,
   "metadata": {
    "id": "ku2okzxBLQOO"
   },
   "outputs": [],
   "source": [
    "import numpy as np"
   ]
  },
  {
   "cell_type": "code",
   "execution_count": null,
   "metadata": {
    "colab": {
     "base_uri": "https://localhost:8080/"
    },
    "id": "JD126gcjLUXG",
    "outputId": "4e7d0e5e-7b43-4e2a-dfed-b827dee822a1"
   },
   "outputs": [
    {
     "data": {
      "text/plain": [
       "0.9781826740728177"
      ]
     },
     "execution_count": 12,
     "metadata": {},
     "output_type": "execute_result"
    }
   ],
   "source": [
    "c = np.array([1, 3, 5,-2, 6, 2,-4, 9,10, 1, 4,-6])\n",
    "a = np.array([1, 2, 6, 3,-3, 4,-2,-8,-5,-7, 7,-1])\n",
    "b = np.array([6, 4, 1, 8, 9, 3, 2,12,10,11,0.9,5])\n",
    "d = [-1 if i<0 else 1 for i in c ]\n",
    "#print(d)\n",
    "-np.corrcoef(a*d,b)[0,1]"
   ]
  },
  {
   "cell_type": "code",
   "execution_count": null,
   "metadata": {
    "colab": {
     "base_uri": "https://localhost:8080/"
    },
    "id": "PsXdIDRUd5HZ",
    "outputId": "b8604d95-3086-4696-90ff-2598f781250c"
   },
   "outputs": [
    {
     "name": "stdout",
     "output_type": "stream",
     "text": [
      "Mounted at /content/gdrive\n"
     ]
    }
   ],
   "source": [
    "# from google.colab import drive\n",
    "# drive.mount('/content/gdrive')"
   ]
  },
  {
   "cell_type": "code",
   "execution_count": null,
   "metadata": {
    "colab": {
     "base_uri": "https://localhost:8080/"
    },
    "id": "1RzaFvXxfK4m",
    "outputId": "c74a543d-250d-4269-fe35-872dbd303c6c"
   },
   "outputs": [
    {
     "name": "stdout",
     "output_type": "stream",
     "text": [
      "/content/gdrive/My Drive\n"
     ]
    }
   ],
   "source": [
    "#  %cd /content/gdrive/My Drive"
   ]
  },
  {
   "cell_type": "code",
   "execution_count": null,
   "metadata": {
    "colab": {
     "base_uri": "https://localhost:8080/"
    },
    "id": "qMPxWWGhdzZP",
    "outputId": "ad97595f-d10c-4d58-c6f3-053508c956a9"
   },
   "outputs": [
    {
     "name": "stdout",
     "output_type": "stream",
     "text": [
      "Collecting lime\n",
      "  Downloading lime-0.2.0.1.tar.gz (275 kB)\n",
      "\u001b[?25l\r",
      "\u001b[K     |█▏                              | 10 kB 25.2 MB/s eta 0:00:01\r",
      "\u001b[K     |██▍                             | 20 kB 12.6 MB/s eta 0:00:01\r",
      "\u001b[K     |███▋                            | 30 kB 9.8 MB/s eta 0:00:01\r",
      "\u001b[K     |████▊                           | 40 kB 8.3 MB/s eta 0:00:01\r",
      "\u001b[K     |██████                          | 51 kB 4.6 MB/s eta 0:00:01\r",
      "\u001b[K     |███████▏                        | 61 kB 5.1 MB/s eta 0:00:01\r",
      "\u001b[K     |████████▎                       | 71 kB 5.1 MB/s eta 0:00:01\r",
      "\u001b[K     |█████████▌                      | 81 kB 5.7 MB/s eta 0:00:01\r",
      "\u001b[K     |██████████▊                     | 92 kB 5.7 MB/s eta 0:00:01\r",
      "\u001b[K     |███████████▉                    | 102 kB 4.7 MB/s eta 0:00:01\r",
      "\u001b[K     |█████████████                   | 112 kB 4.7 MB/s eta 0:00:01\r",
      "\u001b[K     |██████████████▎                 | 122 kB 4.7 MB/s eta 0:00:01\r",
      "\u001b[K     |███████████████▌                | 133 kB 4.7 MB/s eta 0:00:01\r",
      "\u001b[K     |████████████████▋               | 143 kB 4.7 MB/s eta 0:00:01\r",
      "\u001b[K     |█████████████████▉              | 153 kB 4.7 MB/s eta 0:00:01\r",
      "\u001b[K     |███████████████████             | 163 kB 4.7 MB/s eta 0:00:01\r",
      "\u001b[K     |████████████████████▏           | 174 kB 4.7 MB/s eta 0:00:01\r",
      "\u001b[K     |█████████████████████▍          | 184 kB 4.7 MB/s eta 0:00:01\r",
      "\u001b[K     |██████████████████████▋         | 194 kB 4.7 MB/s eta 0:00:01\r",
      "\u001b[K     |███████████████████████▊        | 204 kB 4.7 MB/s eta 0:00:01\r",
      "\u001b[K     |█████████████████████████       | 215 kB 4.7 MB/s eta 0:00:01\r",
      "\u001b[K     |██████████████████████████▏     | 225 kB 4.7 MB/s eta 0:00:01\r",
      "\u001b[K     |███████████████████████████▍    | 235 kB 4.7 MB/s eta 0:00:01\r",
      "\u001b[K     |████████████████████████████▌   | 245 kB 4.7 MB/s eta 0:00:01\r",
      "\u001b[K     |█████████████████████████████▊  | 256 kB 4.7 MB/s eta 0:00:01\r",
      "\u001b[K     |███████████████████████████████ | 266 kB 4.7 MB/s eta 0:00:01\r",
      "\u001b[K     |████████████████████████████████| 275 kB 4.7 MB/s \n",
      "\u001b[?25hRequirement already satisfied: matplotlib in /usr/local/lib/python3.7/dist-packages (from lime) (3.2.2)\n",
      "Requirement already satisfied: numpy in /usr/local/lib/python3.7/dist-packages (from lime) (1.19.5)\n",
      "Requirement already satisfied: scipy in /usr/local/lib/python3.7/dist-packages (from lime) (1.4.1)\n",
      "Requirement already satisfied: tqdm in /usr/local/lib/python3.7/dist-packages (from lime) (4.62.0)\n",
      "Requirement already satisfied: scikit-learn>=0.18 in /usr/local/lib/python3.7/dist-packages (from lime) (0.22.2.post1)\n",
      "Requirement already satisfied: scikit-image>=0.12 in /usr/local/lib/python3.7/dist-packages (from lime) (0.16.2)\n",
      "Requirement already satisfied: pillow>=4.3.0 in /usr/local/lib/python3.7/dist-packages (from scikit-image>=0.12->lime) (7.1.2)\n",
      "Requirement already satisfied: PyWavelets>=0.4.0 in /usr/local/lib/python3.7/dist-packages (from scikit-image>=0.12->lime) (1.1.1)\n",
      "Requirement already satisfied: imageio>=2.3.0 in /usr/local/lib/python3.7/dist-packages (from scikit-image>=0.12->lime) (2.4.1)\n",
      "Requirement already satisfied: networkx>=2.0 in /usr/local/lib/python3.7/dist-packages (from scikit-image>=0.12->lime) (2.6.2)\n",
      "Requirement already satisfied: kiwisolver>=1.0.1 in /usr/local/lib/python3.7/dist-packages (from matplotlib->lime) (1.3.1)\n",
      "Requirement already satisfied: cycler>=0.10 in /usr/local/lib/python3.7/dist-packages (from matplotlib->lime) (0.10.0)\n",
      "Requirement already satisfied: pyparsing!=2.0.4,!=2.1.2,!=2.1.6,>=2.0.1 in /usr/local/lib/python3.7/dist-packages (from matplotlib->lime) (2.4.7)\n",
      "Requirement already satisfied: python-dateutil>=2.1 in /usr/local/lib/python3.7/dist-packages (from matplotlib->lime) (2.8.2)\n",
      "Requirement already satisfied: six in /usr/local/lib/python3.7/dist-packages (from cycler>=0.10->matplotlib->lime) (1.15.0)\n",
      "Requirement already satisfied: joblib>=0.11 in /usr/local/lib/python3.7/dist-packages (from scikit-learn>=0.18->lime) (1.0.1)\n",
      "Building wheels for collected packages: lime\n",
      "  Building wheel for lime (setup.py) ... \u001b[?25l\u001b[?25hdone\n",
      "  Created wheel for lime: filename=lime-0.2.0.1-py3-none-any.whl size=283857 sha256=ad1be2f0ad52d2e8adb472de03d84073d68fc2a5cb7f7c84697199d1553b5a96\n",
      "  Stored in directory: /root/.cache/pip/wheels/ca/cb/e5/ac701e12d365a08917bf4c6171c0961bc880a8181359c66aa7\n",
      "Successfully built lime\n",
      "Installing collected packages: lime\n",
      "Successfully installed lime-0.2.0.1\n"
     ]
    }
   ],
   "source": [
    "# !pip install lime"
   ]
  },
  {
   "cell_type": "code",
   "execution_count": null,
   "metadata": {
    "colab": {
     "base_uri": "https://localhost:8080/"
    },
    "id": "QDV-CeQPdzN3",
    "outputId": "352b6406-4e2b-4dfe-bd78-81a78f7fb4c8"
   },
   "outputs": [
    {
     "name": "stdout",
     "output_type": "stream",
     "text": [
      "Collecting shap\n",
      "  Downloading shap-0.39.0.tar.gz (356 kB)\n",
      "\u001b[?25l\r",
      "\u001b[K     |█                               | 10 kB 19.4 MB/s eta 0:00:01\r",
      "\u001b[K     |█▉                              | 20 kB 7.6 MB/s eta 0:00:01\r",
      "\u001b[K     |██▊                             | 30 kB 9.8 MB/s eta 0:00:01\r",
      "\u001b[K     |███▊                            | 40 kB 9.7 MB/s eta 0:00:01\r",
      "\u001b[K     |████▋                           | 51 kB 5.3 MB/s eta 0:00:01\r",
      "\u001b[K     |█████▌                          | 61 kB 5.8 MB/s eta 0:00:01\r",
      "\u001b[K     |██████▍                         | 71 kB 5.3 MB/s eta 0:00:01\r",
      "\u001b[K     |███████▍                        | 81 kB 5.9 MB/s eta 0:00:01\r",
      "\u001b[K     |████████▎                       | 92 kB 4.7 MB/s eta 0:00:01\r",
      "\u001b[K     |█████████▏                      | 102 kB 5.1 MB/s eta 0:00:01\r",
      "\u001b[K     |██████████▏                     | 112 kB 5.1 MB/s eta 0:00:01\r",
      "\u001b[K     |███████████                     | 122 kB 5.1 MB/s eta 0:00:01\r",
      "\u001b[K     |████████████                    | 133 kB 5.1 MB/s eta 0:00:01\r",
      "\u001b[K     |████████████▉                   | 143 kB 5.1 MB/s eta 0:00:01\r",
      "\u001b[K     |█████████████▉                  | 153 kB 5.1 MB/s eta 0:00:01\r",
      "\u001b[K     |██████████████▊                 | 163 kB 5.1 MB/s eta 0:00:01\r",
      "\u001b[K     |███████████████▋                | 174 kB 5.1 MB/s eta 0:00:01\r",
      "\u001b[K     |████████████████▋               | 184 kB 5.1 MB/s eta 0:00:01\r",
      "\u001b[K     |█████████████████▌              | 194 kB 5.1 MB/s eta 0:00:01\r",
      "\u001b[K     |██████████████████▍             | 204 kB 5.1 MB/s eta 0:00:01\r",
      "\u001b[K     |███████████████████▎            | 215 kB 5.1 MB/s eta 0:00:01\r",
      "\u001b[K     |████████████████████▎           | 225 kB 5.1 MB/s eta 0:00:01\r",
      "\u001b[K     |█████████████████████▏          | 235 kB 5.1 MB/s eta 0:00:01\r",
      "\u001b[K     |██████████████████████          | 245 kB 5.1 MB/s eta 0:00:01\r",
      "\u001b[K     |███████████████████████         | 256 kB 5.1 MB/s eta 0:00:01\r",
      "\u001b[K     |████████████████████████        | 266 kB 5.1 MB/s eta 0:00:01\r",
      "\u001b[K     |████████████████████████▉       | 276 kB 5.1 MB/s eta 0:00:01\r",
      "\u001b[K     |█████████████████████████▊      | 286 kB 5.1 MB/s eta 0:00:01\r",
      "\u001b[K     |██████████████████████████▊     | 296 kB 5.1 MB/s eta 0:00:01\r",
      "\u001b[K     |███████████████████████████▋    | 307 kB 5.1 MB/s eta 0:00:01\r",
      "\u001b[K     |████████████████████████████▌   | 317 kB 5.1 MB/s eta 0:00:01\r",
      "\u001b[K     |█████████████████████████████▍  | 327 kB 5.1 MB/s eta 0:00:01\r",
      "\u001b[K     |██████████████████████████████▍ | 337 kB 5.1 MB/s eta 0:00:01\r",
      "\u001b[K     |███████████████████████████████▎| 348 kB 5.1 MB/s eta 0:00:01\r",
      "\u001b[K     |████████████████████████████████| 356 kB 5.1 MB/s \n",
      "\u001b[?25hRequirement already satisfied: numpy in /usr/local/lib/python3.7/dist-packages (from shap) (1.19.5)\n",
      "Requirement already satisfied: scipy in /usr/local/lib/python3.7/dist-packages (from shap) (1.4.1)\n",
      "Requirement already satisfied: scikit-learn in /usr/local/lib/python3.7/dist-packages (from shap) (0.22.2.post1)\n",
      "Requirement already satisfied: pandas in /usr/local/lib/python3.7/dist-packages (from shap) (1.1.5)\n",
      "Requirement already satisfied: tqdm>4.25.0 in /usr/local/lib/python3.7/dist-packages (from shap) (4.62.0)\n",
      "Collecting slicer==0.0.7\n",
      "  Downloading slicer-0.0.7-py3-none-any.whl (14 kB)\n",
      "Requirement already satisfied: numba in /usr/local/lib/python3.7/dist-packages (from shap) (0.51.2)\n",
      "Requirement already satisfied: cloudpickle in /usr/local/lib/python3.7/dist-packages (from shap) (1.3.0)\n",
      "Requirement already satisfied: setuptools in /usr/local/lib/python3.7/dist-packages (from numba->shap) (57.4.0)\n",
      "Requirement already satisfied: llvmlite<0.35,>=0.34.0.dev0 in /usr/local/lib/python3.7/dist-packages (from numba->shap) (0.34.0)\n",
      "Requirement already satisfied: pytz>=2017.2 in /usr/local/lib/python3.7/dist-packages (from pandas->shap) (2018.9)\n",
      "Requirement already satisfied: python-dateutil>=2.7.3 in /usr/local/lib/python3.7/dist-packages (from pandas->shap) (2.8.2)\n",
      "Requirement already satisfied: six>=1.5 in /usr/local/lib/python3.7/dist-packages (from python-dateutil>=2.7.3->pandas->shap) (1.15.0)\n",
      "Requirement already satisfied: joblib>=0.11 in /usr/local/lib/python3.7/dist-packages (from scikit-learn->shap) (1.0.1)\n",
      "Building wheels for collected packages: shap\n",
      "  Building wheel for shap (setup.py) ... \u001b[?25l\u001b[?25hdone\n",
      "  Created wheel for shap: filename=shap-0.39.0-cp37-cp37m-linux_x86_64.whl size=491648 sha256=755352eccb5136fc882aeb2a867166c3452f5bd7a695ade3abde3b98747d9de3\n",
      "  Stored in directory: /root/.cache/pip/wheels/ca/25/8f/6ae5df62c32651cd719e972e738a8aaa4a87414c4d2b14c9c0\n",
      "Successfully built shap\n",
      "Installing collected packages: slicer, shap\n",
      "Successfully installed shap-0.39.0 slicer-0.0.7\n"
     ]
    }
   ],
   "source": [
    "# !pip install shap"
   ]
  },
  {
   "cell_type": "code",
   "execution_count": 2,
   "metadata": {
    "id": "o0hpZO0kU39Y"
   },
   "outputs": [
    {
     "name": "stderr",
     "output_type": "stream",
     "text": [
      "/home/teadem/.local/lib/python3.6/site-packages/numba/core/errors.py:154: UserWarning: Insufficiently recent colorama version found. Numba requires colorama >= 0.3.9\n",
      "  warnings.warn(msg)\n"
     ]
    }
   ],
   "source": [
    "import pandas as pd\n",
    "import numpy as np\n",
    "import sklearn \n",
    "from sklearn.model_selection import train_test_split\n",
    "from sklearn.ensemble import RandomForestRegressor\n",
    "from sklearn.linear_model import LinearRegression\n",
    "from sklearn.svm import SVR\n",
    "import lime\n",
    "import shap\n",
    "import matplotlib as plot\n",
    "import sklearn.metrics\n",
    "import sklearn.datasets\n",
    "from sklearn.preprocessing import StandardScaler\n",
    "\n",
    "\n"
   ]
  },
  {
   "cell_type": "code",
   "execution_count": 3,
   "metadata": {
    "id": "eQiDq7VBdTvI"
   },
   "outputs": [],
   "source": [
    "def loadDataset(dataset):\n",
    "    if dataset == \"boston\":\n",
    "        boston = sklearn.datasets.load_boston()\n",
    "        boston_df = pd.DataFrame(boston['data'] )\n",
    "        boston_df.columns = boston['feature_names']\n",
    "        boston_df['PRICE']= boston['target']\n",
    "\n",
    "        y = boston_df['PRICE']\n",
    "        X = boston_df.iloc[:,0:13]\n",
    "        return X, y\n",
    "    elif dataset == \"superconductivity\":\n",
    "        df = pd.read_csv(\"train.csv\")\n",
    "        y = df['critical_temp']\n",
    "        X = df.drop('critical_temp',axis=1)\n",
    "\n",
    "        return X,y\n",
    "    elif dataset == \"diabetes\":\n",
    "        diabetes = sklearn.datasets.load_diabetes()\n",
    "        diabetes_df = pd.DataFrame(diabetes.data )\n",
    "        diabetes_df.columns = diabetes.feature_names\n",
    "        diabetes_df['target']= diabetes['target']\n",
    "\n",
    "        y = diabetes_df['target']\n",
    "        X = diabetes_df.drop('target',axis=1)\n",
    "        return X, y\n",
    "    else: \n",
    "        return None"
   ]
  },
  {
   "cell_type": "code",
   "execution_count": 4,
   "metadata": {
    "id": "voWLjq6rdPkQ"
   },
   "outputs": [],
   "source": [
    "\n",
    "def split_train_test(X,y,test_size=0.3,randomstate=42,scale=False):\n",
    "    if scale == False:\n",
    "        X_train,X_test,y_train,y_test = train_test_split(X,y,test_size=test_size,random_state=randomstate)\n",
    "        return X_train,X_test,y_train,y_test\n",
    "    else:\n",
    "        sc = StandardScaler()\n",
    "        X_scaled = sc.fit_transform(X)\n",
    "        y_scaled = sc.fit_transform(y)\n",
    "\n",
    "        return train_test_split(X_scaled,y_scaled,test_size=test_size,random_state=randomstate)\n"
   ]
  },
  {
   "cell_type": "code",
   "execution_count": 5,
   "metadata": {
    "id": "L5IkNC_RdLOi"
   },
   "outputs": [],
   "source": [
    "def train_model(model, X,y):\n",
    "    if model == \"Linear Regression\":\n",
    "        lr = LinearRegression()\n",
    "        lr.fit(X,y)\n",
    "        return lr\n",
    "    elif model == \"Random Forest Regressor\":\n",
    "        rf_r = RandomForestRegressor()\n",
    "        rf_r.fit(X,y)\n",
    "        return rf_r\n",
    "    elif model == \"SVR\":\n",
    "        svr = SVR()\n",
    "        svr.fit(X,y)\n",
    "        return svr\n",
    "    else:\n",
    "        return None\n"
   ]
  },
  {
   "cell_type": "code",
   "execution_count": 6,
   "metadata": {
    "id": "Vv9eaYq7dX4_"
   },
   "outputs": [],
   "source": [
    "\n",
    "def Explanation(explainer,model,X,X_ref):\n",
    "    if explainer == \"SHAP\":\n",
    "        exp = shap.Explainer(model.predict, X_ref)\n",
    "        shap_vals = exp(X)\n",
    "        base_val = shap_vals.base_values \n",
    "        return shap_vals,base_val\n",
    "    elif explainer == \"Kernel SHAP\":\n",
    "        exp = shap.KernelExplainer(model.predict, X_ref)\n",
    "        shap_vals = exp.shap_values(X)\n",
    "        expected_val = exp.expected_value\n",
    "        return shap_vals,expected_val\n",
    "    elif explainer == \"Tree SHAP\":\n",
    "        exp = shap.TreeExplainer(model,X_ref)\n",
    "        shap_vals = exp(X)\n",
    "        return shap_vals\n",
    "    elif explainer == \"LIME\":\n",
    "        X_np= X.to_numpy()\n",
    "        featureNames=X.columns\n",
    "        lime_exp = lime.lime_tabular.LimeTabularExplainer(\n",
    "            X_np,\n",
    "            feature_names=featureNames ,\n",
    "            class_names=['feature_names'], \n",
    "            verbose=True, \n",
    "            mode='regression') \n",
    "        exp_lime = []\n",
    "        for x in X:\n",
    "            ex = lime_exp.explain_instance(x, \n",
    "                model.predict, num_features=len(featureNames))\n",
    "            exp_lime.append(x)\n",
    "        return exp_lime\n",
    "    elif explainer == \"LIME-SHAP\":\n",
    "        exp_lime = []\n",
    "        X_np= X.to_numpy()\n",
    "        featureNames=X.columns\n",
    "        No_features = len(featureNames)\n",
    "        for x in X_np:\n",
    "          lime_explainer_shap = shap.other.LimeTabular(model.predict,x,mode = 'regression')\n",
    "          lime_attribs = lime_explainer_shap.attributions(x,num_features=No_features)\n",
    "    else:\n",
    "        return None\n"
   ]
  },
  {
   "cell_type": "code",
   "execution_count": 7,
   "metadata": {
    "id": "qVw7XhTbdbzA"
   },
   "outputs": [],
   "source": [
    "def visualize(model,X, shap_value,type_of_Vis,local_global):\n",
    "    if local_global == \"local\":\n",
    "        shap.initjs()\n",
    "        if type_of_Vis == \"force\":\n",
    "            shap.plots.force(shap_value)\n",
    "        \n",
    "    elif local_global == \"global\":\n",
    "        if type_of_Vis == \"plot bar\":\n",
    "            shap.plots.bar(shap_value)\n",
    "        elif type_of_Vis == \"heatmap\":\n",
    "            shap.plots.heatmap(shap_value)\n",
    "        elif type_of_Vis == \"summary plot\":\n",
    "            shap.summary_plot(shap_value, X)\n"
   ]
  },
  {
   "cell_type": "code",
   "execution_count": 8,
   "metadata": {
    "id": "ozYYGqyHpcb7"
   },
   "outputs": [],
   "source": [
    "import matplotlib.pyplot as pp\n",
    "def plot(x):\n",
    "  pp.plot(x,'-o')\n",
    "  pp.show()"
   ]
  },
  {
   "cell_type": "code",
   "execution_count": 9,
   "metadata": {
    "id": "fpj-h6wzdizX"
   },
   "outputs": [],
   "source": [
    "def faithfulness_metric(model, x, coefs, base):\n",
    "    predt = model.predict(np.transpose(x.reshape(-1,1)))\n",
    "    ar = np.argsort(coefs) \n",
    "    pred_ts = np.zeros(x.shape[0])\n",
    "    diff = []\n",
    "    for ind in np.nditer(ar):\n",
    "        x_copy = x.copy()\n",
    "        d = x_copy[ind]-base[ind]\n",
    "        if d<0:\n",
    "            diff.append(-1)\n",
    "        else:\n",
    "            diff.append(1)\n",
    "        x_copy[ind] = base[ind]\n",
    "        x_copy_ts = model.predict(np.transpose(x_copy.reshape(-1,1)))\n",
    "        pred_ts[ind] = x_copy_ts\n",
    "    \n",
    "    return -np.corrcoef(np.array(diff)*coefs, pred_ts)[0,1]\n"
   ]
  },
  {
   "cell_type": "code",
   "execution_count": 10,
   "metadata": {
    "id": "edbVwwrHv2Zv"
   },
   "outputs": [],
   "source": [
    "def faithfulness_metric_new(model, x, coefs, base):\n",
    "    predt = model.predict(np.transpose(x.reshape(-1,1)))\n",
    "    ar = np.argsort(coefs) \n",
    "    pred_ts = np.zeros(x.shape[0])\n",
    "    diff = []\n",
    "    for ind in np.nditer(ar):\n",
    "        x_copy = x.copy()\n",
    "        d = x_copy[ind]-base[ind]\n",
    "        if d<0:\n",
    "            diff.append(-1)\n",
    "        else:\n",
    "            diff.append(1)\n",
    "        x_copy[ind] = base[ind]\n",
    "        x_copy_ts = model.predict(np.transpose(x_copy.reshape(-1,1)))\n",
    "        pred_ts[ind] = x_copy_ts - predt\n",
    "    \n",
    "    return -np.corrcoef(coefs, pred_ts)[0,1]"
   ]
  },
  {
   "cell_type": "code",
   "execution_count": 11,
   "metadata": {
    "id": "qwVEvOf7doL_"
   },
   "outputs": [],
   "source": [
    "def monotonicity_metric(model, x, coefs, base):\n",
    "    predict_ = model.predict(np.transpose(x.reshape(-1,1)))\n",
    "    x_copy = base.copy()\n",
    "    ar = np.argsort(coefs)\n",
    "    isPos = [False for i in range(len(ar))]\n",
    "    pred_tss = np.zeros(x.shape[0])\n",
    "    \n",
    "    for ind in np.nditer(ar):\n",
    "        if coefs[ind]<0:\n",
    "            isPos[ind] = False\n",
    "        else:\n",
    "            isPos[ind] = True\n",
    "        x_copy[ind] = x[ind]\n",
    "        x_copy_pr = model.predict(np.transpose(x_copy.reshape(-1,1)))\n",
    "        pred_tss[ind] = x_copy_pr\n",
    "    diff = np.diff(pred_tss[ar])\n",
    "    final_ = []\n",
    "    for i in range(len(diff)):\n",
    "        if isPos[i] == False and diff[i] < 0:\n",
    "            final_.append(True)\n",
    "        elif isPos[i] == True and diff[i] >=0:\n",
    "            final_.append(True)\n",
    "        else:\n",
    "            final_.append(False)\n",
    "    return any(final_)\n"
   ]
  },
  {
   "cell_type": "code",
   "execution_count": null,
   "metadata": {
    "id": "7Ndt-g7dg6tX"
   },
   "outputs": [],
   "source": [
    "# X,y = loadDataset(\"boston\")\n",
    "# X_new = X.drop(columns=['ZN','CHAS','RAD'])\n",
    "# cols = X.columns\n",
    "# base1 = X[cols].mean()\n",
    "# base1['ZN'] = int(round(X['ZN'].mean()))\n",
    "# base1['CHAS'] = 0\n",
    "# base1['RAD'] = int(round(X['RAD'].mean()))\n",
    "# base = base1.values\n",
    "# base1\n",
    "# (X.to_numpy())[3:,]\n"
   ]
  },
  {
   "cell_type": "code",
   "execution_count": 12,
   "metadata": {
    "id": "lVK-TAzZdoJI"
   },
   "outputs": [],
   "source": [
    "def metrics(model,X,shap_val,explainer_type,metrics_type,dataset):\n",
    "    cols = X.columns\n",
    "    if dataset == \"boston\":\n",
    "      base1 = X[cols].mean()\n",
    "      base1['ZN'] = int(round(X['ZN'].mean()))\n",
    "      base1['CHAS'] = 0\n",
    "      base1['RAD'] = int(round(X['RAD'].mean()))\n",
    "      base = base1.values\n",
    "    else:\n",
    "      base = X[cols].mean().values\n",
    "    if metrics_type == \"faithfulness\":\n",
    "        faithfulness = []\n",
    "        if explainer_type == \"shap\":\n",
    "            for i in range(X.shape[0]):\n",
    "                x = np.array(X.iloc[i,:])\n",
    "                # print(shap_val[i])\n",
    "                coefs = shap_val[i].values\n",
    "                f = faithfulness_metric_new(model, x, coefs, base)\n",
    "                # print(f)\n",
    "                faithfulness.append(f)\n",
    "        elif explainer_type == \"lime\":\n",
    "            for i in range(X.shape[0]):\n",
    "                x = np.array(X.iloc[i,:])\n",
    "                coefs = np.array(shap_val)\n",
    "                f = faithfulness_metric_new(model, x, coefs, base)\n",
    "                # print(f)\n",
    "                faithfulness.append(f)\n",
    "        plot(faithfulness)\n",
    "        return np.array(faithfulness).mean()\n",
    "    elif metrics_type == \"monotonicity\":\n",
    "        monotonicity = []\n",
    "        if explainer_type == \"shap\":\n",
    "            for i in range(X.shape[0]):\n",
    "                x = np.array(X.iloc[i,:])\n",
    "                coefs = shap_val.values[i]\n",
    "                f = monotonicity_metric(model, x, coefs, base)\n",
    "                monotonicity.append(f)\n",
    "        elif explainer_type == \"lime\":\n",
    "            for i in range(X.shape[0]):\n",
    "                x = np.array(X.iloc[i,:])\n",
    "                coefs = np.array(shap_val)\n",
    "                f = monotonicity_metric(model, x, coefs, base)\n",
    "                monotonicity.append(f)\n",
    "        return monotonicity"
   ]
  },
  {
   "cell_type": "code",
   "execution_count": 13,
   "metadata": {
    "id": "LXLaEZNbhX3w"
   },
   "outputs": [],
   "source": [
    "def Main(dataset):\n",
    "  X,y = loadDataset(dataset)\n",
    "  X_train,X_test,y_train,y_test = train_test_split(X,y)\n",
    "  LR_model = train_model(\"Linear Regression\",X_train,y_train)\n",
    "  RF_model = train_model(\"Random Forest Regressor\",X_train,y_train)\n",
    "\n",
    "  X100 = shap.utils.sample(X, 100)\n",
    "  LR_shap,LR_baseVal = Explanation(\"SHAP\",LR_model,X_test.iloc[100:,],X100)\n",
    "  LR_shap_k,RF_expected_val_k = Explanation(\"Kernel SHAP\",LR_model,X_test.iloc[50:,],X100)\n",
    "  # LR_lime1 = Explanation(\"lime\",LR_model,X_test,X100)\n",
    "  # LR_lime = Explanation(\"LIME-SHAP\",LR_model,X_test,X100)\n",
    "\n",
    "  RF_shap, RF_baseVal = Explanation(\"SHAP\",RF_model,X_test.iloc[100:,],X100)\n",
    "  RF_shap_k,RF_expected_val_k = Explanation(\"Kernel SHAP\",RF_model,X_test.iloc[50:,],X100)\n",
    "  # RF_lime1 = Explanation(\"lime\",RF_model,X_test,X100)\n",
    "  # RF_lime = Explanation(\"LIME-SHAP\",RF_model,X_test,X100)\n",
    "\n",
    "  faithfulness_LR_shap = metrics(model=LR_model,X=X_test.iloc[100:,],shap_val=LR_shap,explainer_type=\"shap\",metrics_type=\"faithfulness\",dataset=dataset)\n",
    "  # faithfulness_LR_lime = metrics(model=LR_model,X=X_test.iloc[100:,],shap_val=LR_lime,explainer_type=\"lime\",metrics_type=\"faithfulness\",dataset=dataset)\n",
    "  faithfulness_RF_shap = metrics(model=RF_model,X=X_test.iloc[100:,],shap_val=RF_shap,explainer_type=\"shap\",metrics_type=\"faithfulness\",dataset=dataset)\n",
    "  # faithfulness_RF_lime = metrics(model=RF_model,X=X_test.iloc[100:,],shap_val=RF_lime,explainer_type=\"lime\",metrics_type=\"faithfulness\",dataset=dataset)\n",
    "\n",
    "  monotonicity_LR_shap = metrics(model=LR_model,X=X_test.iloc[100:,],shap_val=LR_shap,explainer_type=\"shap\",metrics_type=\"monotonicity\",dataset=dataset)\n",
    "  # monotonicity_LR_lime = metrics(model=LR_model,X=X_test.iloc[100:,],shap_val=LR_lime,explainer_type=\"lime\",metrics_type=\"monotonicity\",dataset=dataset)\n",
    "  monotonicity_RF_shap = metrics(model=RF_model,X=X_test.iloc[100:,],shap_val=RF_shap,explainer_type=\"shap\",metrics_type=\"monotonicity\",dataset=dataset)\n",
    "  # monotonicity_RF_lime = metrics(model=RF_model,X=X_test.iloc[100:,],shap_val=RF_lime,explainer_type=\"lime\",metrics_type=\"monotonicity\",dataset=dataset)\n",
    "\n",
    "\n",
    "  print(\"====================================================================\")\n",
    "  print(\"faithfulness for SHAP explainer for Linear regression\",faithfulness_LR_shap)\n",
    "  print(\"====================================================================\")\n",
    "  # print(\"faithfulness for lime explainer for Linear regression\",faithfulness_LR_lime)\n",
    "  print(\"====================================================================\")\n",
    "  print(\"faithfulness for SHAP explainer for Linear regression\",faithfulness_RF_shap)\n",
    "  print(\"====================================================================\")\n",
    "  # print(\"faithfulness for lime explainer for Linear regression\",faithfulness_RF_lime)\n",
    "  print(\"====================================================================\")\n",
    "  print(monotonicity_LR_shap)\n",
    "  print(\"====================================================================\")\n",
    "  # print(monotonicity_LR_lime.any())\n",
    "  print(\"====================================================================\")\n",
    "  print(monotonicity_RF_shap)\n",
    "  print(\"====================================================================\")\n",
    "  # print(monotonicity_RF_lime.any())\n",
    "  print(\"====================================================================\")\n",
    "#monotonicity_RF_lime,faithfulness_LR_lime,faithfulness_RF_lime,monotonicity_LR_lime\n",
    "  return faithfulness_RF_shap,monotonicity_LR_shap,monotonicity_RF_shap,faithfulness_LR_shap"
   ]
  },
  {
   "cell_type": "code",
   "execution_count": null,
   "metadata": {
    "colab": {
     "base_uri": "https://localhost:8080/",
     "height": 873,
     "referenced_widgets": [
      "5135f01074ab40bf9825fa4829ea0097",
      "b1f7611a8c874f648f29f9aa0f2bdc01",
      "c52e72148e2e48e2b050ff7a471dfb93",
      "ed56797a31984ac3be6ebf23bbb3047c",
      "cfa2ee487cd448b9ae1a554542a733ed",
      "a7f6195136bb413eabdad8c70312d295",
      "64e4db80312647a298b4b75de35b1c1f",
      "d294e3ec9e43454aa7636d44f74d5f10",
      "746245ec3e154fecb9a364ea73b547ef",
      "530d36cd6dea493dad71db84bfb6fc85",
      "6422e3c6b69d45f5b2eedec31ac47d05",
      "c7a66f7345f34d32b760689051f4adc7",
      "840d7d25f80f4d719852d434f7b1f957",
      "de449bfcb0e8444788f0815ea342a4d7",
      "d445ed28b6bc4d06b73447c1b3ca4dc3",
      "2efdeb7a0f434ec8a6d50fe10a326585",
      "0b4feac86f55400fb26be84d7009d6f9",
      "9669b637ee254eba84f83e8a412d2614",
      "50705c3be0f14076a9c1918404336a00",
      "c19e98939ae74a7aa9b6aaa4b41cb203",
      "1f99fee90a9547e996fe53f5c1bcb1a2",
      "af1ec1307b5e4118826d1b816d76bd60"
     ]
    },
    "id": "E1la-KWKsNhC",
    "outputId": "8a4c7c44-c0c7-4a6d-912a-56a8e15568d1"
   },
   "outputs": [
    {
     "metadata": {
      "tags": null
     },
     "name": "stderr",
     "output_type": "stream",
     "text": [
      "Using 506 background data samples could cause slower run times. Consider using shap.sample(data, K) or shap.kmeans(data, K) to summarize the background as K samples.\n"
     ]
    },
    {
     "data": {
      "application/vnd.jupyter.widget-view+json": {
       "model_id": "5135f01074ab40bf9825fa4829ea0097",
       "version_major": 2,
       "version_minor": 0
      },
      "text/plain": [
       "  0%|          | 0/27 [00:00<?, ?it/s]"
      ]
     },
     "metadata": {},
     "output_type": "display_data"
    },
    {
     "metadata": {
      "tags": null
     },
     "name": "stderr",
     "output_type": "stream",
     "text": [
      "Using 506 background data samples could cause slower run times. Consider using shap.sample(data, K) or shap.kmeans(data, K) to summarize the background as K samples.\n"
     ]
    },
    {
     "data": {
      "application/vnd.jupyter.widget-view+json": {
       "model_id": "c7a66f7345f34d32b760689051f4adc7",
       "version_major": 2,
       "version_minor": 0
      },
      "text/plain": [
       "  0%|          | 0/27 [00:00<?, ?it/s]"
      ]
     },
     "metadata": {},
     "output_type": "display_data"
    },
    {
     "data": {
      "image/png": "[encoded data removed]",
      "text/plain": [
       "<Figure size 432x288 with 1 Axes>"
      ]
     },
     "metadata": {
      "needs_background": "light"
     },
     "output_type": "display_data"
    },
    {
     "data": {
      "image/png": "[encoded data removed]",
      "text/plain": [
       "<Figure size 432x288 with 1 Axes>"
      ]
     },
     "metadata": {
      "needs_background": "light"
     },
     "output_type": "display_data"
    },
    {
     "name": "stdout",
     "output_type": "stream",
     "text": [
      "====================================================================\n",
      "faithfulness for SHAP explainer for Linear regression 0.9828780057539624\n",
      "====================================================================\n",
      "====================================================================\n",
      "faithfulness for SHAP explainer for Linear regression 0.6306657283747704\n",
      "====================================================================\n",
      "====================================================================\n",
      "[True, True, True, True, True, True, True, True, True, True, True, True, True, True, True, True, True, True, True, True, True, True, True, True, True, True, True]\n",
      "====================================================================\n",
      "====================================================================\n",
      "[True, True, True, True, True, True, True, True, True, True, True, True, True, True, True, True, True, True, True, True, True, True, True, True, True, True, True]\n",
      "====================================================================\n",
      "====================================================================\n"
     ]
    }
   ],
   "source": [
    "# x1,x2,x3,x4,\n",
    "x5,x6,x7,x8 = Main(\"boston\")"
   ]
  },
  {
   "cell_type": "code",
   "execution_count": null,
   "metadata": {
    "colab": {
     "base_uri": "https://localhost:8080/",
     "height": 452,
     "referenced_widgets": [
      "0a8cbaa80f5140c9aa4b759f6e6989fc",
      "a56564dcf64a4341a67dc14d9202600b",
      "03c91b79b7a44a9f8a2efb560e3f09d2",
      "6d17eaf6b21745d483cfd4d92886dcb9",
      "d01cf0226cf240829e4fce37916ab0d0",
      "f294ee8454fb467fb36890ea65037ad4",
      "254c89e7b3e84aff98bdb286006f784b",
      "261af3ea985e48a1b1aff542cee04fa1",
      "31d4d7e360ec4162acd80e79436a059d",
      "dd8e109d83224555b7c2378d6af19677",
      "924f50608ce347108084bb48b2294da7"
     ]
    },
    "id": "TZtYLqzyDQ9A",
    "outputId": "9ad5871e-61ad-4ba7-c3da-cc3f8b2c67e2"
   },
   "outputs": [
    {
     "name": "stderr",
     "output_type": "stream",
     "text": [
      "Permutation explainer: 5217it [09:18,  9.21it/s]\n",
      "Using 1000 background data samples could cause slower run times. Consider using shap.sample(data, K) or shap.kmeans(data, K) to summarize the background as K samples.\n"
     ]
    },
    {
     "data": {
      "application/vnd.jupyter.widget-view+json": {
       "model_id": "0a8cbaa80f5140c9aa4b759f6e6989fc",
       "version_major": 2,
       "version_minor": 0
      },
      "text/plain": [
       "  0%|          | 0/5216 [00:00<?, ?it/s]"
      ]
     },
     "metadata": {},
     "output_type": "display_data"
    },
    {
     "ename": "KeyboardInterrupt",
     "evalue": "ignored",
     "output_type": "error",
     "traceback": [
      "\u001b[0;31m---------------------------------------------------------------------------\u001b[0m",
      "\u001b[0;31mKeyboardInterrupt\u001b[0m                         Traceback (most recent call last)",
      "\u001b[0;32m<ipython-input-21-3ed93ddeb7c6>\u001b[0m in \u001b[0;36m<module>\u001b[0;34m()\u001b[0m\n\u001b[1;32m      1\u001b[0m \u001b[0;31m# x1,x2,x3,x4,\u001b[0m\u001b[0;34m\u001b[0m\u001b[0;34m\u001b[0m\u001b[0;34m\u001b[0m\u001b[0m\n\u001b[0;32m----> 2\u001b[0;31m \u001b[0mx5\u001b[0m\u001b[0;34m,\u001b[0m\u001b[0mx6\u001b[0m\u001b[0;34m,\u001b[0m\u001b[0mx7\u001b[0m\u001b[0;34m,\u001b[0m\u001b[0mx8\u001b[0m \u001b[0;34m=\u001b[0m \u001b[0mMain\u001b[0m\u001b[0;34m(\u001b[0m\u001b[0;34m\"superconductivity\"\u001b[0m\u001b[0;34m)\u001b[0m\u001b[0;34m\u001b[0m\u001b[0;34m\u001b[0m\u001b[0m\n\u001b[0m",
      "\u001b[0;32m<ipython-input-20-ead37a51e6d7>\u001b[0m in \u001b[0;36mMain\u001b[0;34m(dataset)\u001b[0m\n\u001b[1;32m      7\u001b[0m   \u001b[0mX100\u001b[0m \u001b[0;34m=\u001b[0m \u001b[0mshap\u001b[0m\u001b[0;34m.\u001b[0m\u001b[0mutils\u001b[0m\u001b[0;34m.\u001b[0m\u001b[0msample\u001b[0m\u001b[0;34m(\u001b[0m\u001b[0mX\u001b[0m\u001b[0;34m,\u001b[0m \u001b[0;36m1000\u001b[0m\u001b[0;34m)\u001b[0m\u001b[0;34m\u001b[0m\u001b[0;34m\u001b[0m\u001b[0m\n\u001b[1;32m      8\u001b[0m   \u001b[0mLR_shap\u001b[0m\u001b[0;34m,\u001b[0m\u001b[0mLR_baseVal\u001b[0m \u001b[0;34m=\u001b[0m \u001b[0mExplanation\u001b[0m\u001b[0;34m(\u001b[0m\u001b[0;34m\"SHAP\"\u001b[0m\u001b[0;34m,\u001b[0m\u001b[0mLR_model\u001b[0m\u001b[0;34m,\u001b[0m\u001b[0mX_test\u001b[0m\u001b[0;34m.\u001b[0m\u001b[0miloc\u001b[0m\u001b[0;34m[\u001b[0m\u001b[0;36m100\u001b[0m\u001b[0;34m:\u001b[0m\u001b[0;34m,\u001b[0m\u001b[0;34m]\u001b[0m\u001b[0;34m,\u001b[0m\u001b[0mX100\u001b[0m\u001b[0;34m)\u001b[0m\u001b[0;34m\u001b[0m\u001b[0;34m\u001b[0m\u001b[0m\n\u001b[0;32m----> 9\u001b[0;31m   \u001b[0mLR_shap_k\u001b[0m\u001b[0;34m,\u001b[0m\u001b[0mRF_expected_val_k\u001b[0m \u001b[0;34m=\u001b[0m \u001b[0mExplanation\u001b[0m\u001b[0;34m(\u001b[0m\u001b[0;34m\"Kernel SHAP\"\u001b[0m\u001b[0;34m,\u001b[0m\u001b[0mLR_model\u001b[0m\u001b[0;34m,\u001b[0m\u001b[0mX_test\u001b[0m\u001b[0;34m.\u001b[0m\u001b[0miloc\u001b[0m\u001b[0;34m[\u001b[0m\u001b[0;36m100\u001b[0m\u001b[0;34m:\u001b[0m\u001b[0;34m,\u001b[0m\u001b[0;34m]\u001b[0m\u001b[0;34m,\u001b[0m\u001b[0mX100\u001b[0m\u001b[0;34m)\u001b[0m\u001b[0;34m\u001b[0m\u001b[0;34m\u001b[0m\u001b[0m\n\u001b[0m\u001b[1;32m     10\u001b[0m   \u001b[0mLR_lime\u001b[0m \u001b[0;34m=\u001b[0m \u001b[0mExplanation\u001b[0m\u001b[0;34m(\u001b[0m\u001b[0;34m\"lime\"\u001b[0m\u001b[0;34m,\u001b[0m\u001b[0mLR_model\u001b[0m\u001b[0;34m,\u001b[0m\u001b[0mX_test\u001b[0m\u001b[0;34m,\u001b[0m\u001b[0mX100\u001b[0m\u001b[0;34m)\u001b[0m\u001b[0;34m\u001b[0m\u001b[0;34m\u001b[0m\u001b[0m\n\u001b[1;32m     11\u001b[0m \u001b[0;34m\u001b[0m\u001b[0m\n",
      "\u001b[0;32m<ipython-input-11-437eca57d6da>\u001b[0m in \u001b[0;36mExplanation\u001b[0;34m(explainer, model, X, X_ref)\u001b[0m\n\u001b[1;32m      8\u001b[0m     \u001b[0;32melif\u001b[0m \u001b[0mexplainer\u001b[0m \u001b[0;34m==\u001b[0m \u001b[0;34m\"Kernel SHAP\"\u001b[0m\u001b[0;34m:\u001b[0m\u001b[0;34m\u001b[0m\u001b[0;34m\u001b[0m\u001b[0m\n\u001b[1;32m      9\u001b[0m         \u001b[0mexp\u001b[0m \u001b[0;34m=\u001b[0m \u001b[0mshap\u001b[0m\u001b[0;34m.\u001b[0m\u001b[0mKernelExplainer\u001b[0m\u001b[0;34m(\u001b[0m\u001b[0mmodel\u001b[0m\u001b[0;34m.\u001b[0m\u001b[0mpredict\u001b[0m\u001b[0;34m,\u001b[0m \u001b[0mX_ref\u001b[0m\u001b[0;34m)\u001b[0m\u001b[0;34m\u001b[0m\u001b[0;34m\u001b[0m\u001b[0m\n\u001b[0;32m---> 10\u001b[0;31m         \u001b[0mshap_vals\u001b[0m \u001b[0;34m=\u001b[0m \u001b[0mexp\u001b[0m\u001b[0;34m.\u001b[0m\u001b[0mshap_values\u001b[0m\u001b[0;34m(\u001b[0m\u001b[0mX\u001b[0m\u001b[0;34m)\u001b[0m\u001b[0;34m\u001b[0m\u001b[0;34m\u001b[0m\u001b[0m\n\u001b[0m\u001b[1;32m     11\u001b[0m         \u001b[0mexpected_val\u001b[0m \u001b[0;34m=\u001b[0m \u001b[0mexp\u001b[0m\u001b[0;34m.\u001b[0m\u001b[0mexpected_value\u001b[0m\u001b[0;34m\u001b[0m\u001b[0;34m\u001b[0m\u001b[0m\n\u001b[1;32m     12\u001b[0m         \u001b[0;32mreturn\u001b[0m \u001b[0mshap_vals\u001b[0m\u001b[0;34m,\u001b[0m\u001b[0mexpected_val\u001b[0m\u001b[0;34m\u001b[0m\u001b[0;34m\u001b[0m\u001b[0m\n",
      "\u001b[0;32m/usr/local/lib/python3.7/dist-packages/shap/explainers/_kernel.py\u001b[0m in \u001b[0;36mshap_values\u001b[0;34m(self, X, **kwargs)\u001b[0m\n\u001b[1;32m    184\u001b[0m                 \u001b[0;32mif\u001b[0m \u001b[0mself\u001b[0m\u001b[0;34m.\u001b[0m\u001b[0mkeep_index\u001b[0m\u001b[0;34m:\u001b[0m\u001b[0;34m\u001b[0m\u001b[0;34m\u001b[0m\u001b[0m\n\u001b[1;32m    185\u001b[0m                     \u001b[0mdata\u001b[0m \u001b[0;34m=\u001b[0m \u001b[0mconvert_to_instance_with_index\u001b[0m\u001b[0;34m(\u001b[0m\u001b[0mdata\u001b[0m\u001b[0;34m,\u001b[0m \u001b[0mcolumn_name\u001b[0m\u001b[0;34m,\u001b[0m \u001b[0mindex_value\u001b[0m\u001b[0;34m[\u001b[0m\u001b[0mi\u001b[0m\u001b[0;34m:\u001b[0m\u001b[0mi\u001b[0m \u001b[0;34m+\u001b[0m \u001b[0;36m1\u001b[0m\u001b[0;34m]\u001b[0m\u001b[0;34m,\u001b[0m \u001b[0mindex_name\u001b[0m\u001b[0;34m)\u001b[0m\u001b[0;34m\u001b[0m\u001b[0;34m\u001b[0m\u001b[0m\n\u001b[0;32m--> 186\u001b[0;31m                 \u001b[0mexplanations\u001b[0m\u001b[0;34m.\u001b[0m\u001b[0mappend\u001b[0m\u001b[0;34m(\u001b[0m\u001b[0mself\u001b[0m\u001b[0;34m.\u001b[0m\u001b[0mexplain\u001b[0m\u001b[0;34m(\u001b[0m\u001b[0mdata\u001b[0m\u001b[0;34m,\u001b[0m \u001b[0;34m**\u001b[0m\u001b[0mkwargs\u001b[0m\u001b[0;34m)\u001b[0m\u001b[0;34m)\u001b[0m\u001b[0;34m\u001b[0m\u001b[0;34m\u001b[0m\u001b[0m\n\u001b[0m\u001b[1;32m    187\u001b[0m \u001b[0;34m\u001b[0m\u001b[0m\n\u001b[1;32m    188\u001b[0m             \u001b[0;31m# vector-output\u001b[0m\u001b[0;34m\u001b[0m\u001b[0;34m\u001b[0m\u001b[0;34m\u001b[0m\u001b[0m\n",
      "\u001b[0;32m/usr/local/lib/python3.7/dist-packages/shap/explainers/_kernel.py\u001b[0m in \u001b[0;36mexplain\u001b[0;34m(self, incoming_instance, **kwargs)\u001b[0m\n\u001b[1;32m    209\u001b[0m         \u001b[0;31m# find the feature groups we will test. If a feature does not change from its\u001b[0m\u001b[0;34m\u001b[0m\u001b[0;34m\u001b[0m\u001b[0;34m\u001b[0m\u001b[0m\n\u001b[1;32m    210\u001b[0m         \u001b[0;31m# current value then we know it doesn't impact the model\u001b[0m\u001b[0;34m\u001b[0m\u001b[0;34m\u001b[0m\u001b[0;34m\u001b[0m\u001b[0m\n\u001b[0;32m--> 211\u001b[0;31m         \u001b[0mself\u001b[0m\u001b[0;34m.\u001b[0m\u001b[0mvaryingInds\u001b[0m \u001b[0;34m=\u001b[0m \u001b[0mself\u001b[0m\u001b[0;34m.\u001b[0m\u001b[0mvarying_groups\u001b[0m\u001b[0;34m(\u001b[0m\u001b[0minstance\u001b[0m\u001b[0;34m.\u001b[0m\u001b[0mx\u001b[0m\u001b[0;34m)\u001b[0m\u001b[0;34m\u001b[0m\u001b[0;34m\u001b[0m\u001b[0m\n\u001b[0m\u001b[1;32m    212\u001b[0m         \u001b[0;32mif\u001b[0m \u001b[0mself\u001b[0m\u001b[0;34m.\u001b[0m\u001b[0mdata\u001b[0m\u001b[0;34m.\u001b[0m\u001b[0mgroups\u001b[0m \u001b[0;32mis\u001b[0m \u001b[0;32mNone\u001b[0m\u001b[0;34m:\u001b[0m\u001b[0;34m\u001b[0m\u001b[0;34m\u001b[0m\u001b[0m\n\u001b[1;32m    213\u001b[0m             \u001b[0mself\u001b[0m\u001b[0;34m.\u001b[0m\u001b[0mvaryingFeatureGroups\u001b[0m \u001b[0;34m=\u001b[0m \u001b[0mnp\u001b[0m\u001b[0;34m.\u001b[0m\u001b[0marray\u001b[0m\u001b[0;34m(\u001b[0m\u001b[0;34m[\u001b[0m\u001b[0mi\u001b[0m \u001b[0;32mfor\u001b[0m \u001b[0mi\u001b[0m \u001b[0;32min\u001b[0m \u001b[0mself\u001b[0m\u001b[0;34m.\u001b[0m\u001b[0mvaryingInds\u001b[0m\u001b[0;34m]\u001b[0m\u001b[0;34m)\u001b[0m\u001b[0;34m\u001b[0m\u001b[0;34m\u001b[0m\u001b[0m\n",
      "\u001b[0;32m/usr/local/lib/python3.7/dist-packages/shap/explainers/_kernel.py\u001b[0m in \u001b[0;36mvarying_groups\u001b[0;34m(self, x)\u001b[0m\n\u001b[1;32m    407\u001b[0m                         \u001b[0;32mcontinue\u001b[0m\u001b[0;34m\u001b[0m\u001b[0;34m\u001b[0m\u001b[0m\n\u001b[1;32m    408\u001b[0m                     \u001b[0mx_group\u001b[0m \u001b[0;34m=\u001b[0m \u001b[0mx_group\u001b[0m\u001b[0;34m.\u001b[0m\u001b[0mtodense\u001b[0m\u001b[0;34m(\u001b[0m\u001b[0;34m)\u001b[0m\u001b[0;34m\u001b[0m\u001b[0;34m\u001b[0m\u001b[0m\n\u001b[0;32m--> 409\u001b[0;31m                 \u001b[0mnum_mismatches\u001b[0m \u001b[0;34m=\u001b[0m \u001b[0mnp\u001b[0m\u001b[0;34m.\u001b[0m\u001b[0msum\u001b[0m\u001b[0;34m(\u001b[0m\u001b[0mnp\u001b[0m\u001b[0;34m.\u001b[0m\u001b[0mfrompyfunc\u001b[0m\u001b[0;34m(\u001b[0m\u001b[0mself\u001b[0m\u001b[0;34m.\u001b[0m\u001b[0mnot_equal\u001b[0m\u001b[0;34m,\u001b[0m \u001b[0;36m2\u001b[0m\u001b[0;34m,\u001b[0m \u001b[0;36m1\u001b[0m\u001b[0;34m)\u001b[0m\u001b[0;34m(\u001b[0m\u001b[0mx_group\u001b[0m\u001b[0;34m,\u001b[0m \u001b[0mself\u001b[0m\u001b[0;34m.\u001b[0m\u001b[0mdata\u001b[0m\u001b[0;34m.\u001b[0m\u001b[0mdata\u001b[0m\u001b[0;34m[\u001b[0m\u001b[0;34m:\u001b[0m\u001b[0;34m,\u001b[0m \u001b[0minds\u001b[0m\u001b[0;34m]\u001b[0m\u001b[0;34m)\u001b[0m\u001b[0;34m)\u001b[0m\u001b[0;34m\u001b[0m\u001b[0;34m\u001b[0m\u001b[0m\n\u001b[0m\u001b[1;32m    410\u001b[0m                 \u001b[0mvarying\u001b[0m\u001b[0;34m[\u001b[0m\u001b[0mi\u001b[0m\u001b[0;34m]\u001b[0m \u001b[0;34m=\u001b[0m \u001b[0mnum_mismatches\u001b[0m \u001b[0;34m>\u001b[0m \u001b[0;36m0\u001b[0m\u001b[0;34m\u001b[0m\u001b[0;34m\u001b[0m\u001b[0m\n\u001b[1;32m    411\u001b[0m             \u001b[0mvarying_indices\u001b[0m \u001b[0;34m=\u001b[0m \u001b[0mnp\u001b[0m\u001b[0;34m.\u001b[0m\u001b[0mnonzero\u001b[0m\u001b[0;34m(\u001b[0m\u001b[0mvarying\u001b[0m\u001b[0;34m)\u001b[0m\u001b[0;34m[\u001b[0m\u001b[0;36m0\u001b[0m\u001b[0;34m]\u001b[0m\u001b[0;34m\u001b[0m\u001b[0;34m\u001b[0m\u001b[0m\n",
      "\u001b[0;32m/usr/local/lib/python3.7/dist-packages/shap/explainers/_kernel.py\u001b[0m in \u001b[0;36mnot_equal\u001b[0;34m(i, j)\u001b[0m\n\u001b[1;32m    394\u001b[0m         \u001b[0;32mif\u001b[0m \u001b[0misinstance\u001b[0m\u001b[0;34m(\u001b[0m\u001b[0mi\u001b[0m\u001b[0;34m,\u001b[0m \u001b[0mstr\u001b[0m\u001b[0;34m)\u001b[0m \u001b[0;32mor\u001b[0m \u001b[0misinstance\u001b[0m\u001b[0;34m(\u001b[0m\u001b[0mj\u001b[0m\u001b[0;34m,\u001b[0m \u001b[0mstr\u001b[0m\u001b[0;34m)\u001b[0m\u001b[0;34m:\u001b[0m\u001b[0;34m\u001b[0m\u001b[0;34m\u001b[0m\u001b[0m\n\u001b[1;32m    395\u001b[0m             \u001b[0;32mreturn\u001b[0m \u001b[0;36m0\u001b[0m \u001b[0;32mif\u001b[0m \u001b[0mi\u001b[0m \u001b[0;34m==\u001b[0m \u001b[0mj\u001b[0m \u001b[0;32melse\u001b[0m \u001b[0;36m1\u001b[0m\u001b[0;34m\u001b[0m\u001b[0;34m\u001b[0m\u001b[0m\n\u001b[0;32m--> 396\u001b[0;31m         \u001b[0;32mreturn\u001b[0m \u001b[0;36m0\u001b[0m \u001b[0;32mif\u001b[0m \u001b[0mnp\u001b[0m\u001b[0;34m.\u001b[0m\u001b[0misclose\u001b[0m\u001b[0;34m(\u001b[0m\u001b[0mi\u001b[0m\u001b[0;34m,\u001b[0m \u001b[0mj\u001b[0m\u001b[0;34m,\u001b[0m \u001b[0mequal_nan\u001b[0m\u001b[0;34m=\u001b[0m\u001b[0;32mTrue\u001b[0m\u001b[0;34m)\u001b[0m \u001b[0;32melse\u001b[0m \u001b[0;36m1\u001b[0m\u001b[0;34m\u001b[0m\u001b[0;34m\u001b[0m\u001b[0m\n\u001b[0m\u001b[1;32m    397\u001b[0m \u001b[0;34m\u001b[0m\u001b[0m\n\u001b[1;32m    398\u001b[0m     \u001b[0;32mdef\u001b[0m \u001b[0mvarying_groups\u001b[0m\u001b[0;34m(\u001b[0m\u001b[0mself\u001b[0m\u001b[0;34m,\u001b[0m \u001b[0mx\u001b[0m\u001b[0;34m)\u001b[0m\u001b[0;34m:\u001b[0m\u001b[0;34m\u001b[0m\u001b[0;34m\u001b[0m\u001b[0m\n",
      "\u001b[0;32m<__array_function__ internals>\u001b[0m in \u001b[0;36misclose\u001b[0;34m(*args, **kwargs)\u001b[0m\n",
      "\u001b[0;32m/usr/local/lib/python3.7/dist-packages/numpy/core/numeric.py\u001b[0m in \u001b[0;36misclose\u001b[0;34m(a, b, rtol, atol, equal_nan)\u001b[0m\n\u001b[1;32m   2288\u001b[0m     \u001b[0myfin\u001b[0m \u001b[0;34m=\u001b[0m \u001b[0misfinite\u001b[0m\u001b[0;34m(\u001b[0m\u001b[0my\u001b[0m\u001b[0;34m)\u001b[0m\u001b[0;34m\u001b[0m\u001b[0;34m\u001b[0m\u001b[0m\n\u001b[1;32m   2289\u001b[0m     \u001b[0;32mif\u001b[0m \u001b[0mall\u001b[0m\u001b[0;34m(\u001b[0m\u001b[0mxfin\u001b[0m\u001b[0;34m)\u001b[0m \u001b[0;32mand\u001b[0m \u001b[0mall\u001b[0m\u001b[0;34m(\u001b[0m\u001b[0myfin\u001b[0m\u001b[0;34m)\u001b[0m\u001b[0;34m:\u001b[0m\u001b[0;34m\u001b[0m\u001b[0;34m\u001b[0m\u001b[0m\n\u001b[0;32m-> 2290\u001b[0;31m         \u001b[0;32mreturn\u001b[0m \u001b[0mwithin_tol\u001b[0m\u001b[0;34m(\u001b[0m\u001b[0mx\u001b[0m\u001b[0;34m,\u001b[0m \u001b[0my\u001b[0m\u001b[0;34m,\u001b[0m \u001b[0matol\u001b[0m\u001b[0;34m,\u001b[0m \u001b[0mrtol\u001b[0m\u001b[0;34m)\u001b[0m\u001b[0;34m\u001b[0m\u001b[0;34m\u001b[0m\u001b[0m\n\u001b[0m\u001b[1;32m   2291\u001b[0m     \u001b[0;32melse\u001b[0m\u001b[0;34m:\u001b[0m\u001b[0;34m\u001b[0m\u001b[0;34m\u001b[0m\u001b[0m\n\u001b[1;32m   2292\u001b[0m         \u001b[0mfinite\u001b[0m \u001b[0;34m=\u001b[0m \u001b[0mxfin\u001b[0m \u001b[0;34m&\u001b[0m \u001b[0myfin\u001b[0m\u001b[0;34m\u001b[0m\u001b[0;34m\u001b[0m\u001b[0m\n",
      "\u001b[0;32m/usr/local/lib/python3.7/dist-packages/numpy/core/numeric.py\u001b[0m in \u001b[0;36mwithin_tol\u001b[0;34m(x, y, atol, rtol)\u001b[0m\n\u001b[1;32m   2274\u001b[0m     \u001b[0;32mdef\u001b[0m \u001b[0mwithin_tol\u001b[0m\u001b[0;34m(\u001b[0m\u001b[0mx\u001b[0m\u001b[0;34m,\u001b[0m \u001b[0my\u001b[0m\u001b[0;34m,\u001b[0m \u001b[0matol\u001b[0m\u001b[0;34m,\u001b[0m \u001b[0mrtol\u001b[0m\u001b[0;34m)\u001b[0m\u001b[0;34m:\u001b[0m\u001b[0;34m\u001b[0m\u001b[0;34m\u001b[0m\u001b[0m\n\u001b[1;32m   2275\u001b[0m         \u001b[0;32mwith\u001b[0m \u001b[0merrstate\u001b[0m\u001b[0;34m(\u001b[0m\u001b[0minvalid\u001b[0m\u001b[0;34m=\u001b[0m\u001b[0;34m'ignore'\u001b[0m\u001b[0;34m)\u001b[0m\u001b[0;34m:\u001b[0m\u001b[0;34m\u001b[0m\u001b[0;34m\u001b[0m\u001b[0m\n\u001b[0;32m-> 2276\u001b[0;31m             \u001b[0;32mreturn\u001b[0m \u001b[0mless_equal\u001b[0m\u001b[0;34m(\u001b[0m\u001b[0mabs\u001b[0m\u001b[0;34m(\u001b[0m\u001b[0mx\u001b[0m\u001b[0;34m-\u001b[0m\u001b[0my\u001b[0m\u001b[0;34m)\u001b[0m\u001b[0;34m,\u001b[0m \u001b[0matol\u001b[0m \u001b[0;34m+\u001b[0m \u001b[0mrtol\u001b[0m \u001b[0;34m*\u001b[0m \u001b[0mabs\u001b[0m\u001b[0;34m(\u001b[0m\u001b[0my\u001b[0m\u001b[0;34m)\u001b[0m\u001b[0;34m)\u001b[0m\u001b[0;34m\u001b[0m\u001b[0;34m\u001b[0m\u001b[0m\n\u001b[0m\u001b[1;32m   2277\u001b[0m \u001b[0;34m\u001b[0m\u001b[0m\n\u001b[1;32m   2278\u001b[0m     \u001b[0mx\u001b[0m \u001b[0;34m=\u001b[0m \u001b[0masanyarray\u001b[0m\u001b[0;34m(\u001b[0m\u001b[0ma\u001b[0m\u001b[0;34m)\u001b[0m\u001b[0;34m\u001b[0m\u001b[0;34m\u001b[0m\u001b[0m\n",
      "\u001b[0;31mKeyboardInterrupt\u001b[0m: "
     ]
    }
   ],
   "source": [
    "# x1,x2,x3,x4,\n",
    "x5,x6,x7,x8 = Main(\"superconductivity\")"
   ]
  },
  {
   "cell_type": "code",
   "execution_count": null,
   "metadata": {
    "colab": {
     "base_uri": "https://localhost:8080/"
    },
    "id": "RBV8x4-IgZCY",
    "outputId": "dde7221a-7e30-4725-b530-f8847c630587"
   },
   "outputs": [
    {
     "data": {
      "text/plain": [
       "13"
      ]
     },
     "execution_count": 18,
     "metadata": {},
     "output_type": "execute_result"
    }
   ],
   "source": [
    "X,y = loadDataset(\"boston\")\n",
    "X_train,X_test,y_train,y_test = train_test_split(X,y)\n",
    "# LR_model = train_model(\"Linear Regression\",X_train,y_train)\n",
    "# X100 = shap.utils.sample(X, 1000)\n",
    "# LR_shap,LR_baseVal = Explanation(\"SHAP\",LR_model,X_test.iloc[100:,],X100)\n",
    "# LR_lime = Explanation(\"LIME-SHAP\",LR_model,X_test,X100)\n",
    "# LR_lime\n",
    "len(X.columns)"
   ]
  },
  {
   "cell_type": "code",
   "execution_count": null,
   "metadata": {
    "id": "EGP34ZHckbR5"
   },
   "outputs": [],
   "source": [
    "faithfulness_LR_shap = metrics(model=LR_model,X=X_test,shap_val=LR_shap,explainer_type=\"shap\",metrics_type=\"faithfulness\",dataset=dataset)\n",
    "  # faithfulness_LR_lime = metrics(model=LR_model,X=X_test,shap_val=LR_lime,explainer_type=\"lime\",metrics_type=\"faithfulness\",dataset=dataset)\n",
    "  faithfulness_RF_shap = metrics(model=RF_model,X=X_test,shap_val=RF_shap,explainer_type=\"shap\",metrics_type=\"faithfulness\",dataset=dataset)\n",
    "  # faithfulness_RF_lime = metrics(model=RF_model,X=X_test,shap_val=RF_lime,explainer_type=\"lime\",metrics_type=\"faithfulness\",dataset=dataset)\n",
    "\n",
    "  monotonicity_LR_shap = metrics(model=LR_model,X=X_test,shap_val=LR_shap,explainer_type=\"shap\",metrics_type=\"monotonicity\",dataset=dataset)\n",
    "  # monotonicity_LR_lime = metrics(model=LR_model,X=X_test,shap_val=LR_lime,explainer_type=\"lime\",metrics_type=\"monotonicity\",dataset=dataset)\n",
    "  monotonicity_RF_shap = metrics(model=RF_model,X=X_test,shap_val=RF_shap,explainer_type=\"shap\",metrics_type=\"monotonicity\",dataset=dataset)\n",
    "  # monotonicity_RF_lime = metrics(model=RF_model,X=X_test,shap_val=RF_lime,explainer_type=\"lime\",metrics_type=\"monotonicity\",dataset=dataset)\n",
    "\n",
    "  print(\"====================================================================\")\n",
    "  print(\"faithfulness for SHAP explainer for Linear regression\",faithfulness_LR_shap)\n",
    "  print(\"====================================================================\")\n",
    "  # print(faithfulness_LR_lime)\n",
    "  print(\"====================================================================\")\n",
    "  print(\"faithfulness for SHAP explainer for Linear regression\",faithfulness_RF_shap)\n",
    "  print(\"====================================================================\")\n",
    "  # print(faithfulness_RF_lime)\n",
    "  print(\"====================================================================\")\n",
    "  print(monotonicity_LR_shap)\n",
    "  print(\"====================================================================\")\n",
    "  # print(monotonicity_LR_lime)\n",
    "  print(\"====================================================================\")\n",
    "  print(monotonicity_RF_shap)\n",
    "  print(\"====================================================================\")\n",
    "  # print(monotonicity_RF_lime)\n",
    "  print(\"====================================================================\")\n",
    "#monotonicity_RF_lime,faithfulness_LR_lime,faithfulness_RF_lime,monotonicity_LR_lime"
   ]
  },
  {
   "cell_type": "code",
   "execution_count": null,
   "metadata": {
    "id": "5KpSM0VpINs6"
   },
   "outputs": [
    {
     "name": "stderr",
     "output_type": "stream",
     "text": [
      "Permutation explainer: 5217it [14:15,  6.03it/s]                          \n"
     ]
    },
    {
     "data": {
      "application/vnd.jupyter.widget-view+json": {
       "model_id": "1d24c0f3c65c451681aca058711d5f92",
       "version_major": 2,
       "version_minor": 0
      },
      "text/plain": [
       "  0%|          | 0/5266 [00:00<?, ?it/s]"
      ]
     },
     "metadata": {},
     "output_type": "display_data"
    },
    {
     "name": "stderr",
     "output_type": "stream",
     "text": [
      "Permutation explainer:  41%|████      | 2139/5216 [43:27<1:03:49,  1.24s/it]"
     ]
    }
   ],
   "source": [
    "# x1,x2,x3,x4,\n",
    "x5,x6,x6,x7,x8 = Main(\"superconductivity\")"
   ]
  },
  {
   "cell_type": "code",
   "execution_count": null,
   "metadata": {
    "id": "AZ6atcRFsY6_"
   },
   "outputs": [],
   "source": [
    "from __future__ import print_function\n",
    "\n",
    "from keras.preprocessing import sequence\n",
    "from keras.models import Sequential\n",
    "from keras.layers import Dense, Embedding\n",
    "from keras.layers import LSTM\n",
    "from keras.datasets import imdb"
   ]
  },
  {
   "cell_type": "code",
   "execution_count": null,
   "metadata": {
    "colab": {
     "base_uri": "https://localhost:8080/"
    },
    "id": "yT0hhqh53Fk0",
    "outputId": "90713fe4-5f39-41c2-9de1-72b4114ff0ab"
   },
   "outputs": [
    {
     "name": "stdout",
     "output_type": "stream",
     "text": [
      "Loading data...\n",
      "Downloading data from https://storage.googleapis.com/tensorflow/tf-keras-datasets/imdb.npz\n",
      "17465344/17464789 [==============================] - 0s 0us/step\n",
      "17473536/17464789 [==============================] - 0s 0us/step\n",
      "25000 train sequences\n",
      "25000 test sequences\n",
      "Pad sequences (samples x time)\n",
      "x_train shape: (25000, 80)\n",
      "x_test shape: (25000, 80)\n",
      "Build model...\n",
      "Train...\n",
      "Epoch 1/15\n",
      "782/782 [==============================] - 225s 284ms/step - loss: 0.4422 - accuracy: 0.7865 - val_loss: 0.3611 - val_accuracy: 0.8398\n",
      "Epoch 2/15\n",
      "782/782 [==============================] - 222s 284ms/step - loss: 0.2530 - accuracy: 0.8993 - val_loss: 0.3876 - val_accuracy: 0.8364\n",
      "Epoch 3/15\n",
      "782/782 [==============================] - 220s 281ms/step - loss: 0.1633 - accuracy: 0.9393 - val_loss: 0.4321 - val_accuracy: 0.8263\n",
      "Epoch 4/15\n",
      "782/782 [==============================] - 222s 284ms/step - loss: 0.1016 - accuracy: 0.9641 - val_loss: 0.6316 - val_accuracy: 0.8196\n",
      "Epoch 5/15\n",
      "782/782 [==============================] - 222s 283ms/step - loss: 0.0772 - accuracy: 0.9730 - val_loss: 0.6295 - val_accuracy: 0.8201\n",
      "Epoch 6/15\n",
      "782/782 [==============================] - 219s 281ms/step - loss: 0.0549 - accuracy: 0.9812 - val_loss: 0.7557 - val_accuracy: 0.8127\n",
      "Epoch 7/15\n",
      "782/782 [==============================] - 220s 282ms/step - loss: 0.0348 - accuracy: 0.9895 - val_loss: 0.8268 - val_accuracy: 0.8144\n",
      "Epoch 8/15\n",
      "782/782 [==============================] - 220s 282ms/step - loss: 0.0268 - accuracy: 0.9913 - val_loss: 0.8184 - val_accuracy: 0.8154\n",
      "Epoch 9/15\n",
      "713/782 [==========================>...] - ETA: 17s - loss: 0.0252 - accuracy: 0.9920"
     ]
    }
   ],
   "source": [
    "max_features = 20000\n",
    "maxlen = 80  # cut texts after this number of words (among top max_features most common words)\n",
    "batch_size = 32\n",
    "\n",
    "print('Loading data...')\n",
    "(x_train, y_train), (x_test, y_test) = imdb.load_data(num_words=max_features)\n",
    "print(len(x_train), 'train sequences')\n",
    "print(len(x_test), 'test sequences')\n",
    "\n",
    "print('Pad sequences (samples x time)')\n",
    "x_train = sequence.pad_sequences(x_train, maxlen=maxlen)\n",
    "x_test = sequence.pad_sequences(x_test, maxlen=maxlen)\n",
    "print('x_train shape:', x_train.shape)\n",
    "print('x_test shape:', x_test.shape)\n",
    "\n",
    "print('Build model...')\n",
    "model = Sequential()\n",
    "model.add(Embedding(max_features, 128))\n",
    "model.add(LSTM(128, dropout=0.2, recurrent_dropout=0.2))\n",
    "model.add(Dense(1, activation='sigmoid'))\n",
    "\n",
    "# try using different optimizers and different optimizer configs\n",
    "model.compile(loss='binary_crossentropy',\n",
    "              optimizer='adam',\n",
    "              metrics=['accuracy'])\n",
    "\n",
    "print('Train...')\n",
    "model.fit(x_train, y_train,\n",
    "          batch_size=batch_size,\n",
    "          epochs=15,\n",
    "          validation_data=(x_test, y_test))\n",
    "score, acc = model.evaluate(x_test, y_test,\n",
    "                            batch_size=batch_size)\n",
    "print('Test score:', score)\n",
    "print('Test accuracy:', acc)"
   ]
  },
  {
   "cell_type": "code",
   "execution_count": null,
   "metadata": {
    "colab": {
     "base_uri": "https://localhost:8080/",
     "height": 246
    },
    "id": "Jwo4EA-V3_jr",
    "outputId": "7f94542a-20da-43fb-8ee1-05cdb21ade65"
   },
   "outputs": [
    {
     "ename": "NameError",
     "evalue": "ignored",
     "output_type": "error",
     "traceback": [
      "\u001b[0;31m---------------------------------------------------------------------------\u001b[0m",
      "\u001b[0;31mNameError\u001b[0m                                 Traceback (most recent call last)",
      "\u001b[0;32m<ipython-input-55-94e0c0f5d484>\u001b[0m in \u001b[0;36m<module>\u001b[0;34m()\u001b[0m\n\u001b[1;32m      2\u001b[0m \u001b[0;34m\u001b[0m\u001b[0m\n\u001b[1;32m      3\u001b[0m \u001b[0;31m# we use the first 100 training examples as our background dataset to integrate over\u001b[0m\u001b[0;34m\u001b[0m\u001b[0;34m\u001b[0m\u001b[0;34m\u001b[0m\u001b[0m\n\u001b[0;32m----> 4\u001b[0;31m \u001b[0mexplainer\u001b[0m \u001b[0;34m=\u001b[0m \u001b[0mshap\u001b[0m\u001b[0;34m.\u001b[0m\u001b[0mDeepExplainer\u001b[0m\u001b[0;34m(\u001b[0m\u001b[0mmodel\u001b[0m\u001b[0;34m,\u001b[0m \u001b[0mx_train\u001b[0m\u001b[0;34m[\u001b[0m\u001b[0;34m:\u001b[0m\u001b[0;36m100\u001b[0m\u001b[0;34m]\u001b[0m\u001b[0;34m)\u001b[0m\u001b[0;34m\u001b[0m\u001b[0;34m\u001b[0m\u001b[0m\n\u001b[0m\u001b[1;32m      5\u001b[0m \u001b[0;34m\u001b[0m\u001b[0m\n\u001b[1;32m      6\u001b[0m \u001b[0;31m# explain the first 10 predictions\u001b[0m\u001b[0;34m\u001b[0m\u001b[0;34m\u001b[0m\u001b[0;34m\u001b[0m\u001b[0m\n",
      "\u001b[0;31mNameError\u001b[0m: name 'model' is not defined"
     ]
    }
   ],
   "source": [
    "import shap\n",
    "\n",
    "# we use the first 100 training examples as our background dataset to integrate over\n",
    "explainer = shap.DeepExplainer(model, x_train[:100])\n",
    "\n",
    "# explain the first 10 predictions\n",
    "# explaining each prediction requires 2 * background dataset size runs\n",
    "shap_values = explainer.shap_values(x_test[:10])\n",
    "\n",
    "# init the JS visualization code\n",
    "shap.initjs()\n",
    "\n",
    "# transform the indexes to words\n",
    "import numpy as np\n",
    "words = imdb.get_word_index()\n",
    "num2word = {}\n",
    "for w in words.keys():\n",
    "    num2word[words[w]] = w\n",
    "x_test_words = np.stack([np.array(list(map(lambda x: num2word.get(x, \"NONE\"), x_test[i]))) for i in range(10)])\n",
    "\n",
    "# plot the explanation of the first prediction\n",
    "# Note the model is \"multi-output\" because it is rank-2 but only has one column\n",
    "shap.force_plot(explainer.expected_value[0], shap_values[0][0], x_test_words[0])\n",
    "\n"
   ]
  },
  {
   "cell_type": "code",
   "execution_count": null,
   "metadata": {
    "colab": {
     "base_uri": "https://localhost:8080/",
     "height": 424
    },
    "id": "-XPIQW8wjXJt",
    "outputId": "0f4e2ca6-8cb1-4196-e49a-8efbc7c2286b"
   },
   "outputs": [
    {
     "data": {
      "text/html": [
       "<div>\n",
       "<style scoped>\n",
       "    .dataframe tbody tr th:only-of-type {\n",
       "        vertical-align: middle;\n",
       "    }\n",
       "\n",
       "    .dataframe tbody tr th {\n",
       "        vertical-align: top;\n",
       "    }\n",
       "\n",
       "    .dataframe thead th {\n",
       "        text-align: right;\n",
       "    }\n",
       "</style>\n",
       "<table border=\"1\" class=\"dataframe\">\n",
       "  <thead>\n",
       "    <tr style=\"text-align: right;\">\n",
       "      <th></th>\n",
       "      <th>CRIM</th>\n",
       "      <th>ZN</th>\n",
       "      <th>INDUS</th>\n",
       "      <th>CHAS</th>\n",
       "      <th>NOX</th>\n",
       "      <th>RM</th>\n",
       "      <th>AGE</th>\n",
       "      <th>DIS</th>\n",
       "      <th>RAD</th>\n",
       "      <th>TAX</th>\n",
       "      <th>PTRATIO</th>\n",
       "      <th>B</th>\n",
       "      <th>LSTAT</th>\n",
       "    </tr>\n",
       "  </thead>\n",
       "  <tbody>\n",
       "    <tr>\n",
       "      <th>0</th>\n",
       "      <td>0.00632</td>\n",
       "      <td>18.0</td>\n",
       "      <td>2.31</td>\n",
       "      <td>0.0</td>\n",
       "      <td>0.538</td>\n",
       "      <td>6.575</td>\n",
       "      <td>65.2</td>\n",
       "      <td>4.0900</td>\n",
       "      <td>1.0</td>\n",
       "      <td>296.0</td>\n",
       "      <td>15.3</td>\n",
       "      <td>396.90</td>\n",
       "      <td>4.98</td>\n",
       "    </tr>\n",
       "    <tr>\n",
       "      <th>1</th>\n",
       "      <td>0.02731</td>\n",
       "      <td>0.0</td>\n",
       "      <td>7.07</td>\n",
       "      <td>0.0</td>\n",
       "      <td>0.469</td>\n",
       "      <td>6.421</td>\n",
       "      <td>78.9</td>\n",
       "      <td>4.9671</td>\n",
       "      <td>2.0</td>\n",
       "      <td>242.0</td>\n",
       "      <td>17.8</td>\n",
       "      <td>396.90</td>\n",
       "      <td>9.14</td>\n",
       "    </tr>\n",
       "    <tr>\n",
       "      <th>2</th>\n",
       "      <td>0.02729</td>\n",
       "      <td>0.0</td>\n",
       "      <td>7.07</td>\n",
       "      <td>0.0</td>\n",
       "      <td>0.469</td>\n",
       "      <td>7.185</td>\n",
       "      <td>61.1</td>\n",
       "      <td>4.9671</td>\n",
       "      <td>2.0</td>\n",
       "      <td>242.0</td>\n",
       "      <td>17.8</td>\n",
       "      <td>392.83</td>\n",
       "      <td>4.03</td>\n",
       "    </tr>\n",
       "    <tr>\n",
       "      <th>3</th>\n",
       "      <td>0.03237</td>\n",
       "      <td>0.0</td>\n",
       "      <td>2.18</td>\n",
       "      <td>0.0</td>\n",
       "      <td>0.458</td>\n",
       "      <td>6.998</td>\n",
       "      <td>45.8</td>\n",
       "      <td>6.0622</td>\n",
       "      <td>3.0</td>\n",
       "      <td>222.0</td>\n",
       "      <td>18.7</td>\n",
       "      <td>394.63</td>\n",
       "      <td>2.94</td>\n",
       "    </tr>\n",
       "    <tr>\n",
       "      <th>4</th>\n",
       "      <td>0.06905</td>\n",
       "      <td>0.0</td>\n",
       "      <td>2.18</td>\n",
       "      <td>0.0</td>\n",
       "      <td>0.458</td>\n",
       "      <td>7.147</td>\n",
       "      <td>54.2</td>\n",
       "      <td>6.0622</td>\n",
       "      <td>3.0</td>\n",
       "      <td>222.0</td>\n",
       "      <td>18.7</td>\n",
       "      <td>396.90</td>\n",
       "      <td>5.33</td>\n",
       "    </tr>\n",
       "    <tr>\n",
       "      <th>...</th>\n",
       "      <td>...</td>\n",
       "      <td>...</td>\n",
       "      <td>...</td>\n",
       "      <td>...</td>\n",
       "      <td>...</td>\n",
       "      <td>...</td>\n",
       "      <td>...</td>\n",
       "      <td>...</td>\n",
       "      <td>...</td>\n",
       "      <td>...</td>\n",
       "      <td>...</td>\n",
       "      <td>...</td>\n",
       "      <td>...</td>\n",
       "    </tr>\n",
       "    <tr>\n",
       "      <th>501</th>\n",
       "      <td>0.06263</td>\n",
       "      <td>0.0</td>\n",
       "      <td>11.93</td>\n",
       "      <td>0.0</td>\n",
       "      <td>0.573</td>\n",
       "      <td>6.593</td>\n",
       "      <td>69.1</td>\n",
       "      <td>2.4786</td>\n",
       "      <td>1.0</td>\n",
       "      <td>273.0</td>\n",
       "      <td>21.0</td>\n",
       "      <td>391.99</td>\n",
       "      <td>9.67</td>\n",
       "    </tr>\n",
       "    <tr>\n",
       "      <th>502</th>\n",
       "      <td>0.04527</td>\n",
       "      <td>0.0</td>\n",
       "      <td>11.93</td>\n",
       "      <td>0.0</td>\n",
       "      <td>0.573</td>\n",
       "      <td>6.120</td>\n",
       "      <td>76.7</td>\n",
       "      <td>2.2875</td>\n",
       "      <td>1.0</td>\n",
       "      <td>273.0</td>\n",
       "      <td>21.0</td>\n",
       "      <td>396.90</td>\n",
       "      <td>9.08</td>\n",
       "    </tr>\n",
       "    <tr>\n",
       "      <th>503</th>\n",
       "      <td>0.06076</td>\n",
       "      <td>0.0</td>\n",
       "      <td>11.93</td>\n",
       "      <td>0.0</td>\n",
       "      <td>0.573</td>\n",
       "      <td>6.976</td>\n",
       "      <td>91.0</td>\n",
       "      <td>2.1675</td>\n",
       "      <td>1.0</td>\n",
       "      <td>273.0</td>\n",
       "      <td>21.0</td>\n",
       "      <td>396.90</td>\n",
       "      <td>5.64</td>\n",
       "    </tr>\n",
       "    <tr>\n",
       "      <th>504</th>\n",
       "      <td>0.10959</td>\n",
       "      <td>0.0</td>\n",
       "      <td>11.93</td>\n",
       "      <td>0.0</td>\n",
       "      <td>0.573</td>\n",
       "      <td>6.794</td>\n",
       "      <td>89.3</td>\n",
       "      <td>2.3889</td>\n",
       "      <td>1.0</td>\n",
       "      <td>273.0</td>\n",
       "      <td>21.0</td>\n",
       "      <td>393.45</td>\n",
       "      <td>6.48</td>\n",
       "    </tr>\n",
       "    <tr>\n",
       "      <th>505</th>\n",
       "      <td>0.04741</td>\n",
       "      <td>0.0</td>\n",
       "      <td>11.93</td>\n",
       "      <td>0.0</td>\n",
       "      <td>0.573</td>\n",
       "      <td>6.030</td>\n",
       "      <td>80.8</td>\n",
       "      <td>2.5050</td>\n",
       "      <td>1.0</td>\n",
       "      <td>273.0</td>\n",
       "      <td>21.0</td>\n",
       "      <td>396.90</td>\n",
       "      <td>7.88</td>\n",
       "    </tr>\n",
       "  </tbody>\n",
       "</table>\n",
       "<p>506 rows × 13 columns</p>\n",
       "</div>"
      ],
      "text/plain": [
       "        CRIM    ZN  INDUS  CHAS    NOX  ...  RAD    TAX  PTRATIO       B  LSTAT\n",
       "0    0.00632  18.0   2.31   0.0  0.538  ...  1.0  296.0     15.3  396.90   4.98\n",
       "1    0.02731   0.0   7.07   0.0  0.469  ...  2.0  242.0     17.8  396.90   9.14\n",
       "2    0.02729   0.0   7.07   0.0  0.469  ...  2.0  242.0     17.8  392.83   4.03\n",
       "3    0.03237   0.0   2.18   0.0  0.458  ...  3.0  222.0     18.7  394.63   2.94\n",
       "4    0.06905   0.0   2.18   0.0  0.458  ...  3.0  222.0     18.7  396.90   5.33\n",
       "..       ...   ...    ...   ...    ...  ...  ...    ...      ...     ...    ...\n",
       "501  0.06263   0.0  11.93   0.0  0.573  ...  1.0  273.0     21.0  391.99   9.67\n",
       "502  0.04527   0.0  11.93   0.0  0.573  ...  1.0  273.0     21.0  396.90   9.08\n",
       "503  0.06076   0.0  11.93   0.0  0.573  ...  1.0  273.0     21.0  396.90   5.64\n",
       "504  0.10959   0.0  11.93   0.0  0.573  ...  1.0  273.0     21.0  393.45   6.48\n",
       "505  0.04741   0.0  11.93   0.0  0.573  ...  1.0  273.0     21.0  396.90   7.88\n",
       "\n",
       "[506 rows x 13 columns]"
      ]
     },
     "execution_count": 8,
     "metadata": {},
     "output_type": "execute_result"
    }
   ],
   "source": [
    "X,y = loadDataset(\"boston\")\n",
    "X"
   ]
  },
  {
   "cell_type": "code",
   "execution_count": null,
   "metadata": {
    "id": "189dT3YER9ka"
   },
   "outputs": [],
   "source": [
    "X_new = X.drop(columns=['ZN','CHAS','RAD'])\n",
    "mean = X_new.mean(axis=0)\n",
    "std = X_new.std(axis=0)\n",
    "\n"
   ]
  },
  {
   "cell_type": "code",
   "execution_count": null,
   "metadata": {
    "id": "CXLsuFoVSG0R"
   },
   "outputs": [],
   "source": []
  }
 ],
 "metadata": {
  "colab": {
   "collapsed_sections": [],
   "name": "semi-organized BM.ipynb",
   "provenance": []
  },
  "kernelspec": {
   "display_name": "Python 3",
   "language": "python",
   "name": "python3"
  },
  "language_info": {
   "codemirror_mode": {
    "name": "ipython",
    "version": 3
   },
   "file_extension": ".py",
   "mimetype": "text/x-python",
   "name": "python",
   "nbconvert_exporter": "python",
   "pygments_lexer": "ipython3",
   "version": "3.6.9"
  },
  "widgets": {
   "application/vnd.jupyter.widget-state+json": {
    "03c91b79b7a44a9f8a2efb560e3f09d2": {
     "model_module": "@jupyter-widgets/controls",
     "model_module_version": "1.5.0",
     "model_name": "FloatProgressModel",
     "state": {
      "_dom_classes": [],
      "_model_module": "@jupyter-widgets/controls",
      "_model_module_version": "1.5.0",
      "_model_name": "FloatProgressModel",
      "_view_count": null,
      "_view_module": "@jupyter-widgets/controls",
      "_view_module_version": "1.5.0",
      "_view_name": "ProgressView",
      "bar_style": "danger",
      "description": "",
      "description_tooltip": null,
      "layout": "IPY_MODEL_261af3ea985e48a1b1aff542cee04fa1",
      "max": 5216,
      "min": 0,
      "orientation": "horizontal",
      "style": "IPY_MODEL_31d4d7e360ec4162acd80e79436a059d",
      "value": 258
     }
    },
    "0a8cbaa80f5140c9aa4b759f6e6989fc": {
     "model_module": "@jupyter-widgets/controls",
     "model_module_version": "1.5.0",
     "model_name": "HBoxModel",
     "state": {
      "_dom_classes": [],
      "_model_module": "@jupyter-widgets/controls",
      "_model_module_version": "1.5.0",
      "_model_name": "HBoxModel",
      "_view_count": null,
      "_view_module": "@jupyter-widgets/controls",
      "_view_module_version": "1.5.0",
      "_view_name": "HBoxView",
      "box_style": "",
      "children": [
       "IPY_MODEL_a56564dcf64a4341a67dc14d9202600b",
       "IPY_MODEL_03c91b79b7a44a9f8a2efb560e3f09d2",
       "IPY_MODEL_6d17eaf6b21745d483cfd4d92886dcb9"
      ],
      "layout": "IPY_MODEL_d01cf0226cf240829e4fce37916ab0d0"
     }
    },
    "0b4feac86f55400fb26be84d7009d6f9": {
     "model_module": "@jupyter-widgets/controls",
     "model_module_version": "1.5.0",
     "model_name": "DescriptionStyleModel",
     "state": {
      "_model_module": "@jupyter-widgets/controls",
      "_model_module_version": "1.5.0",
      "_model_name": "DescriptionStyleModel",
      "_view_count": null,
      "_view_module": "@jupyter-widgets/base",
      "_view_module_version": "1.2.0",
      "_view_name": "StyleView",
      "description_width": ""
     }
    },
    "1f99fee90a9547e996fe53f5c1bcb1a2": {
     "model_module": "@jupyter-widgets/controls",
     "model_module_version": "1.5.0",
     "model_name": "DescriptionStyleModel",
     "state": {
      "_model_module": "@jupyter-widgets/controls",
      "_model_module_version": "1.5.0",
      "_model_name": "DescriptionStyleModel",
      "_view_count": null,
      "_view_module": "@jupyter-widgets/base",
      "_view_module_version": "1.2.0",
      "_view_name": "StyleView",
      "description_width": ""
     }
    },
    "254c89e7b3e84aff98bdb286006f784b": {
     "model_module": "@jupyter-widgets/controls",
     "model_module_version": "1.5.0",
     "model_name": "DescriptionStyleModel",
     "state": {
      "_model_module": "@jupyter-widgets/controls",
      "_model_module_version": "1.5.0",
      "_model_name": "DescriptionStyleModel",
      "_view_count": null,
      "_view_module": "@jupyter-widgets/base",
      "_view_module_version": "1.2.0",
      "_view_name": "StyleView",
      "description_width": ""
     }
    },
    "261af3ea985e48a1b1aff542cee04fa1": {
     "model_module": "@jupyter-widgets/base",
     "model_module_version": "1.2.0",
     "model_name": "LayoutModel",
     "state": {
      "_model_module": "@jupyter-widgets/base",
      "_model_module_version": "1.2.0",
      "_model_name": "LayoutModel",
      "_view_count": null,
      "_view_module": "@jupyter-widgets/base",
      "_view_module_version": "1.2.0",
      "_view_name": "LayoutView",
      "align_content": null,
      "align_items": null,
      "align_self": null,
      "border": null,
      "bottom": null,
      "display": null,
      "flex": null,
      "flex_flow": null,
      "grid_area": null,
      "grid_auto_columns": null,
      "grid_auto_flow": null,
      "grid_auto_rows": null,
      "grid_column": null,
      "grid_gap": null,
      "grid_row": null,
      "grid_template_areas": null,
      "grid_template_columns": null,
      "grid_template_rows": null,
      "height": null,
      "justify_content": null,
      "justify_items": null,
      "left": null,
      "margin": null,
      "max_height": null,
      "max_width": null,
      "min_height": null,
      "min_width": null,
      "object_fit": null,
      "object_position": null,
      "order": null,
      "overflow": null,
      "overflow_x": null,
      "overflow_y": null,
      "padding": null,
      "right": null,
      "top": null,
      "visibility": null,
      "width": null
     }
    },
    "2efdeb7a0f434ec8a6d50fe10a326585": {
     "model_module": "@jupyter-widgets/controls",
     "model_module_version": "1.5.0",
     "model_name": "HTMLModel",
     "state": {
      "_dom_classes": [],
      "_model_module": "@jupyter-widgets/controls",
      "_model_module_version": "1.5.0",
      "_model_name": "HTMLModel",
      "_view_count": null,
      "_view_module": "@jupyter-widgets/controls",
      "_view_module_version": "1.5.0",
      "_view_name": "HTMLView",
      "description": "",
      "description_tooltip": null,
      "layout": "IPY_MODEL_af1ec1307b5e4118826d1b816d76bd60",
      "placeholder": "​",
      "style": "IPY_MODEL_1f99fee90a9547e996fe53f5c1bcb1a2",
      "value": " 27/27 [04:37&lt;00:00, 10.66s/it]"
     }
    },
    "31d4d7e360ec4162acd80e79436a059d": {
     "model_module": "@jupyter-widgets/controls",
     "model_module_version": "1.5.0",
     "model_name": "ProgressStyleModel",
     "state": {
      "_model_module": "@jupyter-widgets/controls",
      "_model_module_version": "1.5.0",
      "_model_name": "ProgressStyleModel",
      "_view_count": null,
      "_view_module": "@jupyter-widgets/base",
      "_view_module_version": "1.2.0",
      "_view_name": "StyleView",
      "bar_color": null,
      "description_width": ""
     }
    },
    "50705c3be0f14076a9c1918404336a00": {
     "model_module": "@jupyter-widgets/controls",
     "model_module_version": "1.5.0",
     "model_name": "ProgressStyleModel",
     "state": {
      "_model_module": "@jupyter-widgets/controls",
      "_model_module_version": "1.5.0",
      "_model_name": "ProgressStyleModel",
      "_view_count": null,
      "_view_module": "@jupyter-widgets/base",
      "_view_module_version": "1.2.0",
      "_view_name": "StyleView",
      "bar_color": null,
      "description_width": ""
     }
    },
    "5135f01074ab40bf9825fa4829ea0097": {
     "model_module": "@jupyter-widgets/controls",
     "model_module_version": "1.5.0",
     "model_name": "HBoxModel",
     "state": {
      "_dom_classes": [],
      "_model_module": "@jupyter-widgets/controls",
      "_model_module_version": "1.5.0",
      "_model_name": "HBoxModel",
      "_view_count": null,
      "_view_module": "@jupyter-widgets/controls",
      "_view_module_version": "1.5.0",
      "_view_name": "HBoxView",
      "box_style": "",
      "children": [
       "IPY_MODEL_c52e72148e2e48e2b050ff7a471dfb93",
       "IPY_MODEL_ed56797a31984ac3be6ebf23bbb3047c",
       "IPY_MODEL_cfa2ee487cd448b9ae1a554542a733ed"
      ],
      "layout": "IPY_MODEL_b1f7611a8c874f648f29f9aa0f2bdc01"
     }
    },
    "530d36cd6dea493dad71db84bfb6fc85": {
     "model_module": "@jupyter-widgets/controls",
     "model_module_version": "1.5.0",
     "model_name": "DescriptionStyleModel",
     "state": {
      "_model_module": "@jupyter-widgets/controls",
      "_model_module_version": "1.5.0",
      "_model_name": "DescriptionStyleModel",
      "_view_count": null,
      "_view_module": "@jupyter-widgets/base",
      "_view_module_version": "1.2.0",
      "_view_name": "StyleView",
      "description_width": ""
     }
    },
    "6422e3c6b69d45f5b2eedec31ac47d05": {
     "model_module": "@jupyter-widgets/base",
     "model_module_version": "1.2.0",
     "model_name": "LayoutModel",
     "state": {
      "_model_module": "@jupyter-widgets/base",
      "_model_module_version": "1.2.0",
      "_model_name": "LayoutModel",
      "_view_count": null,
      "_view_module": "@jupyter-widgets/base",
      "_view_module_version": "1.2.0",
      "_view_name": "LayoutView",
      "align_content": null,
      "align_items": null,
      "align_self": null,
      "border": null,
      "bottom": null,
      "display": null,
      "flex": null,
      "flex_flow": null,
      "grid_area": null,
      "grid_auto_columns": null,
      "grid_auto_flow": null,
      "grid_auto_rows": null,
      "grid_column": null,
      "grid_gap": null,
      "grid_row": null,
      "grid_template_areas": null,
      "grid_template_columns": null,
      "grid_template_rows": null,
      "height": null,
      "justify_content": null,
      "justify_items": null,
      "left": null,
      "margin": null,
      "max_height": null,
      "max_width": null,
      "min_height": null,
      "min_width": null,
      "object_fit": null,
      "object_position": null,
      "order": null,
      "overflow": null,
      "overflow_x": null,
      "overflow_y": null,
      "padding": null,
      "right": null,
      "top": null,
      "visibility": null,
      "width": null
     }
    },
    "64e4db80312647a298b4b75de35b1c1f": {
     "model_module": "@jupyter-widgets/base",
     "model_module_version": "1.2.0",
     "model_name": "LayoutModel",
     "state": {
      "_model_module": "@jupyter-widgets/base",
      "_model_module_version": "1.2.0",
      "_model_name": "LayoutModel",
      "_view_count": null,
      "_view_module": "@jupyter-widgets/base",
      "_view_module_version": "1.2.0",
      "_view_name": "LayoutView",
      "align_content": null,
      "align_items": null,
      "align_self": null,
      "border": null,
      "bottom": null,
      "display": null,
      "flex": null,
      "flex_flow": null,
      "grid_area": null,
      "grid_auto_columns": null,
      "grid_auto_flow": null,
      "grid_auto_rows": null,
      "grid_column": null,
      "grid_gap": null,
      "grid_row": null,
      "grid_template_areas": null,
      "grid_template_columns": null,
      "grid_template_rows": null,
      "height": null,
      "justify_content": null,
      "justify_items": null,
      "left": null,
      "margin": null,
      "max_height": null,
      "max_width": null,
      "min_height": null,
      "min_width": null,
      "object_fit": null,
      "object_position": null,
      "order": null,
      "overflow": null,
      "overflow_x": null,
      "overflow_y": null,
      "padding": null,
      "right": null,
      "top": null,
      "visibility": null,
      "width": null
     }
    },
    "6d17eaf6b21745d483cfd4d92886dcb9": {
     "model_module": "@jupyter-widgets/controls",
     "model_module_version": "1.5.0",
     "model_name": "HTMLModel",
     "state": {
      "_dom_classes": [],
      "_model_module": "@jupyter-widgets/controls",
      "_model_module_version": "1.5.0",
      "_model_name": "HTMLModel",
      "_view_count": null,
      "_view_module": "@jupyter-widgets/controls",
      "_view_module_version": "1.5.0",
      "_view_name": "HTMLView",
      "description": "",
      "description_tooltip": null,
      "layout": "IPY_MODEL_dd8e109d83224555b7c2378d6af19677",
      "placeholder": "​",
      "style": "IPY_MODEL_924f50608ce347108084bb48b2294da7",
      "value": " 258/5216 [50:28&lt;15:57:06, 11.58s/it]"
     }
    },
    "746245ec3e154fecb9a364ea73b547ef": {
     "model_module": "@jupyter-widgets/base",
     "model_module_version": "1.2.0",
     "model_name": "LayoutModel",
     "state": {
      "_model_module": "@jupyter-widgets/base",
      "_model_module_version": "1.2.0",
      "_model_name": "LayoutModel",
      "_view_count": null,
      "_view_module": "@jupyter-widgets/base",
      "_view_module_version": "1.2.0",
      "_view_name": "LayoutView",
      "align_content": null,
      "align_items": null,
      "align_self": null,
      "border": null,
      "bottom": null,
      "display": null,
      "flex": null,
      "flex_flow": null,
      "grid_area": null,
      "grid_auto_columns": null,
      "grid_auto_flow": null,
      "grid_auto_rows": null,
      "grid_column": null,
      "grid_gap": null,
      "grid_row": null,
      "grid_template_areas": null,
      "grid_template_columns": null,
      "grid_template_rows": null,
      "height": null,
      "justify_content": null,
      "justify_items": null,
      "left": null,
      "margin": null,
      "max_height": null,
      "max_width": null,
      "min_height": null,
      "min_width": null,
      "object_fit": null,
      "object_position": null,
      "order": null,
      "overflow": null,
      "overflow_x": null,
      "overflow_y": null,
      "padding": null,
      "right": null,
      "top": null,
      "visibility": null,
      "width": null
     }
    },
    "840d7d25f80f4d719852d434f7b1f957": {
     "model_module": "@jupyter-widgets/base",
     "model_module_version": "1.2.0",
     "model_name": "LayoutModel",
     "state": {
      "_model_module": "@jupyter-widgets/base",
      "_model_module_version": "1.2.0",
      "_model_name": "LayoutModel",
      "_view_count": null,
      "_view_module": "@jupyter-widgets/base",
      "_view_module_version": "1.2.0",
      "_view_name": "LayoutView",
      "align_content": null,
      "align_items": null,
      "align_self": null,
      "border": null,
      "bottom": null,
      "display": null,
      "flex": null,
      "flex_flow": null,
      "grid_area": null,
      "grid_auto_columns": null,
      "grid_auto_flow": null,
      "grid_auto_rows": null,
      "grid_column": null,
      "grid_gap": null,
      "grid_row": null,
      "grid_template_areas": null,
      "grid_template_columns": null,
      "grid_template_rows": null,
      "height": null,
      "justify_content": null,
      "justify_items": null,
      "left": null,
      "margin": null,
      "max_height": null,
      "max_width": null,
      "min_height": null,
      "min_width": null,
      "object_fit": null,
      "object_position": null,
      "order": null,
      "overflow": null,
      "overflow_x": null,
      "overflow_y": null,
      "padding": null,
      "right": null,
      "top": null,
      "visibility": null,
      "width": null
     }
    },
    "924f50608ce347108084bb48b2294da7": {
     "model_module": "@jupyter-widgets/controls",
     "model_module_version": "1.5.0",
     "model_name": "DescriptionStyleModel",
     "state": {
      "_model_module": "@jupyter-widgets/controls",
      "_model_module_version": "1.5.0",
      "_model_name": "DescriptionStyleModel",
      "_view_count": null,
      "_view_module": "@jupyter-widgets/base",
      "_view_module_version": "1.2.0",
      "_view_name": "StyleView",
      "description_width": ""
     }
    },
    "9669b637ee254eba84f83e8a412d2614": {
     "model_module": "@jupyter-widgets/base",
     "model_module_version": "1.2.0",
     "model_name": "LayoutModel",
     "state": {
      "_model_module": "@jupyter-widgets/base",
      "_model_module_version": "1.2.0",
      "_model_name": "LayoutModel",
      "_view_count": null,
      "_view_module": "@jupyter-widgets/base",
      "_view_module_version": "1.2.0",
      "_view_name": "LayoutView",
      "align_content": null,
      "align_items": null,
      "align_self": null,
      "border": null,
      "bottom": null,
      "display": null,
      "flex": null,
      "flex_flow": null,
      "grid_area": null,
      "grid_auto_columns": null,
      "grid_auto_flow": null,
      "grid_auto_rows": null,
      "grid_column": null,
      "grid_gap": null,
      "grid_row": null,
      "grid_template_areas": null,
      "grid_template_columns": null,
      "grid_template_rows": null,
      "height": null,
      "justify_content": null,
      "justify_items": null,
      "left": null,
      "margin": null,
      "max_height": null,
      "max_width": null,
      "min_height": null,
      "min_width": null,
      "object_fit": null,
      "object_position": null,
      "order": null,
      "overflow": null,
      "overflow_x": null,
      "overflow_y": null,
      "padding": null,
      "right": null,
      "top": null,
      "visibility": null,
      "width": null
     }
    },
    "a56564dcf64a4341a67dc14d9202600b": {
     "model_module": "@jupyter-widgets/controls",
     "model_module_version": "1.5.0",
     "model_name": "HTMLModel",
     "state": {
      "_dom_classes": [],
      "_model_module": "@jupyter-widgets/controls",
      "_model_module_version": "1.5.0",
      "_model_name": "HTMLModel",
      "_view_count": null,
      "_view_module": "@jupyter-widgets/controls",
      "_view_module_version": "1.5.0",
      "_view_name": "HTMLView",
      "description": "",
      "description_tooltip": null,
      "layout": "IPY_MODEL_f294ee8454fb467fb36890ea65037ad4",
      "placeholder": "​",
      "style": "IPY_MODEL_254c89e7b3e84aff98bdb286006f784b",
      "value": "  5%"
     }
    },
    "a7f6195136bb413eabdad8c70312d295": {
     "model_module": "@jupyter-widgets/controls",
     "model_module_version": "1.5.0",
     "model_name": "DescriptionStyleModel",
     "state": {
      "_model_module": "@jupyter-widgets/controls",
      "_model_module_version": "1.5.0",
      "_model_name": "DescriptionStyleModel",
      "_view_count": null,
      "_view_module": "@jupyter-widgets/base",
      "_view_module_version": "1.2.0",
      "_view_name": "StyleView",
      "description_width": ""
     }
    },
    "af1ec1307b5e4118826d1b816d76bd60": {
     "model_module": "@jupyter-widgets/base",
     "model_module_version": "1.2.0",
     "model_name": "LayoutModel",
     "state": {
      "_model_module": "@jupyter-widgets/base",
      "_model_module_version": "1.2.0",
      "_model_name": "LayoutModel",
      "_view_count": null,
      "_view_module": "@jupyter-widgets/base",
      "_view_module_version": "1.2.0",
      "_view_name": "LayoutView",
      "align_content": null,
      "align_items": null,
      "align_self": null,
      "border": null,
      "bottom": null,
      "display": null,
      "flex": null,
      "flex_flow": null,
      "grid_area": null,
      "grid_auto_columns": null,
      "grid_auto_flow": null,
      "grid_auto_rows": null,
      "grid_column": null,
      "grid_gap": null,
      "grid_row": null,
      "grid_template_areas": null,
      "grid_template_columns": null,
      "grid_template_rows": null,
      "height": null,
      "justify_content": null,
      "justify_items": null,
      "left": null,
      "margin": null,
      "max_height": null,
      "max_width": null,
      "min_height": null,
      "min_width": null,
      "object_fit": null,
      "object_position": null,
      "order": null,
      "overflow": null,
      "overflow_x": null,
      "overflow_y": null,
      "padding": null,
      "right": null,
      "top": null,
      "visibility": null,
      "width": null
     }
    },
    "b1f7611a8c874f648f29f9aa0f2bdc01": {
     "model_module": "@jupyter-widgets/base",
     "model_module_version": "1.2.0",
     "model_name": "LayoutModel",
     "state": {
      "_model_module": "@jupyter-widgets/base",
      "_model_module_version": "1.2.0",
      "_model_name": "LayoutModel",
      "_view_count": null,
      "_view_module": "@jupyter-widgets/base",
      "_view_module_version": "1.2.0",
      "_view_name": "LayoutView",
      "align_content": null,
      "align_items": null,
      "align_self": null,
      "border": null,
      "bottom": null,
      "display": null,
      "flex": null,
      "flex_flow": null,
      "grid_area": null,
      "grid_auto_columns": null,
      "grid_auto_flow": null,
      "grid_auto_rows": null,
      "grid_column": null,
      "grid_gap": null,
      "grid_row": null,
      "grid_template_areas": null,
      "grid_template_columns": null,
      "grid_template_rows": null,
      "height": null,
      "justify_content": null,
      "justify_items": null,
      "left": null,
      "margin": null,
      "max_height": null,
      "max_width": null,
      "min_height": null,
      "min_width": null,
      "object_fit": null,
      "object_position": null,
      "order": null,
      "overflow": null,
      "overflow_x": null,
      "overflow_y": null,
      "padding": null,
      "right": null,
      "top": null,
      "visibility": null,
      "width": null
     }
    },
    "c19e98939ae74a7aa9b6aaa4b41cb203": {
     "model_module": "@jupyter-widgets/base",
     "model_module_version": "1.2.0",
     "model_name": "LayoutModel",
     "state": {
      "_model_module": "@jupyter-widgets/base",
      "_model_module_version": "1.2.0",
      "_model_name": "LayoutModel",
      "_view_count": null,
      "_view_module": "@jupyter-widgets/base",
      "_view_module_version": "1.2.0",
      "_view_name": "LayoutView",
      "align_content": null,
      "align_items": null,
      "align_self": null,
      "border": null,
      "bottom": null,
      "display": null,
      "flex": null,
      "flex_flow": null,
      "grid_area": null,
      "grid_auto_columns": null,
      "grid_auto_flow": null,
      "grid_auto_rows": null,
      "grid_column": null,
      "grid_gap": null,
      "grid_row": null,
      "grid_template_areas": null,
      "grid_template_columns": null,
      "grid_template_rows": null,
      "height": null,
      "justify_content": null,
      "justify_items": null,
      "left": null,
      "margin": null,
      "max_height": null,
      "max_width": null,
      "min_height": null,
      "min_width": null,
      "object_fit": null,
      "object_position": null,
      "order": null,
      "overflow": null,
      "overflow_x": null,
      "overflow_y": null,
      "padding": null,
      "right": null,
      "top": null,
      "visibility": null,
      "width": null
     }
    },
    "c52e72148e2e48e2b050ff7a471dfb93": {
     "model_module": "@jupyter-widgets/controls",
     "model_module_version": "1.5.0",
     "model_name": "HTMLModel",
     "state": {
      "_dom_classes": [],
      "_model_module": "@jupyter-widgets/controls",
      "_model_module_version": "1.5.0",
      "_model_name": "HTMLModel",
      "_view_count": null,
      "_view_module": "@jupyter-widgets/controls",
      "_view_module_version": "1.5.0",
      "_view_name": "HTMLView",
      "description": "",
      "description_tooltip": null,
      "layout": "IPY_MODEL_64e4db80312647a298b4b75de35b1c1f",
      "placeholder": "​",
      "style": "IPY_MODEL_a7f6195136bb413eabdad8c70312d295",
      "value": "100%"
     }
    },
    "c7a66f7345f34d32b760689051f4adc7": {
     "model_module": "@jupyter-widgets/controls",
     "model_module_version": "1.5.0",
     "model_name": "HBoxModel",
     "state": {
      "_dom_classes": [],
      "_model_module": "@jupyter-widgets/controls",
      "_model_module_version": "1.5.0",
      "_model_name": "HBoxModel",
      "_view_count": null,
      "_view_module": "@jupyter-widgets/controls",
      "_view_module_version": "1.5.0",
      "_view_name": "HBoxView",
      "box_style": "",
      "children": [
       "IPY_MODEL_de449bfcb0e8444788f0815ea342a4d7",
       "IPY_MODEL_d445ed28b6bc4d06b73447c1b3ca4dc3",
       "IPY_MODEL_2efdeb7a0f434ec8a6d50fe10a326585"
      ],
      "layout": "IPY_MODEL_840d7d25f80f4d719852d434f7b1f957"
     }
    },
    "cfa2ee487cd448b9ae1a554542a733ed": {
     "model_module": "@jupyter-widgets/controls",
     "model_module_version": "1.5.0",
     "model_name": "HTMLModel",
     "state": {
      "_dom_classes": [],
      "_model_module": "@jupyter-widgets/controls",
      "_model_module_version": "1.5.0",
      "_model_name": "HTMLModel",
      "_view_count": null,
      "_view_module": "@jupyter-widgets/controls",
      "_view_module_version": "1.5.0",
      "_view_name": "HTMLView",
      "description": "",
      "description_tooltip": null,
      "layout": "IPY_MODEL_6422e3c6b69d45f5b2eedec31ac47d05",
      "placeholder": "​",
      "style": "IPY_MODEL_530d36cd6dea493dad71db84bfb6fc85",
      "value": " 27/27 [01:56&lt;00:00,  4.34s/it]"
     }
    },
    "d01cf0226cf240829e4fce37916ab0d0": {
     "model_module": "@jupyter-widgets/base",
     "model_module_version": "1.2.0",
     "model_name": "LayoutModel",
     "state": {
      "_model_module": "@jupyter-widgets/base",
      "_model_module_version": "1.2.0",
      "_model_name": "LayoutModel",
      "_view_count": null,
      "_view_module": "@jupyter-widgets/base",
      "_view_module_version": "1.2.0",
      "_view_name": "LayoutView",
      "align_content": null,
      "align_items": null,
      "align_self": null,
      "border": null,
      "bottom": null,
      "display": null,
      "flex": null,
      "flex_flow": null,
      "grid_area": null,
      "grid_auto_columns": null,
      "grid_auto_flow": null,
      "grid_auto_rows": null,
      "grid_column": null,
      "grid_gap": null,
      "grid_row": null,
      "grid_template_areas": null,
      "grid_template_columns": null,
      "grid_template_rows": null,
      "height": null,
      "justify_content": null,
      "justify_items": null,
      "left": null,
      "margin": null,
      "max_height": null,
      "max_width": null,
      "min_height": null,
      "min_width": null,
      "object_fit": null,
      "object_position": null,
      "order": null,
      "overflow": null,
      "overflow_x": null,
      "overflow_y": null,
      "padding": null,
      "right": null,
      "top": null,
      "visibility": null,
      "width": null
     }
    },
    "d294e3ec9e43454aa7636d44f74d5f10": {
     "model_module": "@jupyter-widgets/controls",
     "model_module_version": "1.5.0",
     "model_name": "ProgressStyleModel",
     "state": {
      "_model_module": "@jupyter-widgets/controls",
      "_model_module_version": "1.5.0",
      "_model_name": "ProgressStyleModel",
      "_view_count": null,
      "_view_module": "@jupyter-widgets/base",
      "_view_module_version": "1.2.0",
      "_view_name": "StyleView",
      "bar_color": null,
      "description_width": ""
     }
    },
    "d445ed28b6bc4d06b73447c1b3ca4dc3": {
     "model_module": "@jupyter-widgets/controls",
     "model_module_version": "1.5.0",
     "model_name": "FloatProgressModel",
     "state": {
      "_dom_classes": [],
      "_model_module": "@jupyter-widgets/controls",
      "_model_module_version": "1.5.0",
      "_model_name": "FloatProgressModel",
      "_view_count": null,
      "_view_module": "@jupyter-widgets/controls",
      "_view_module_version": "1.5.0",
      "_view_name": "ProgressView",
      "bar_style": "success",
      "description": "",
      "description_tooltip": null,
      "layout": "IPY_MODEL_c19e98939ae74a7aa9b6aaa4b41cb203",
      "max": 27,
      "min": 0,
      "orientation": "horizontal",
      "style": "IPY_MODEL_50705c3be0f14076a9c1918404336a00",
      "value": 27
     }
    },
    "dd8e109d83224555b7c2378d6af19677": {
     "model_module": "@jupyter-widgets/base",
     "model_module_version": "1.2.0",
     "model_name": "LayoutModel",
     "state": {
      "_model_module": "@jupyter-widgets/base",
      "_model_module_version": "1.2.0",
      "_model_name": "LayoutModel",
      "_view_count": null,
      "_view_module": "@jupyter-widgets/base",
      "_view_module_version": "1.2.0",
      "_view_name": "LayoutView",
      "align_content": null,
      "align_items": null,
      "align_self": null,
      "border": null,
      "bottom": null,
      "display": null,
      "flex": null,
      "flex_flow": null,
      "grid_area": null,
      "grid_auto_columns": null,
      "grid_auto_flow": null,
      "grid_auto_rows": null,
      "grid_column": null,
      "grid_gap": null,
      "grid_row": null,
      "grid_template_areas": null,
      "grid_template_columns": null,
      "grid_template_rows": null,
      "height": null,
      "justify_content": null,
      "justify_items": null,
      "left": null,
      "margin": null,
      "max_height": null,
      "max_width": null,
      "min_height": null,
      "min_width": null,
      "object_fit": null,
      "object_position": null,
      "order": null,
      "overflow": null,
      "overflow_x": null,
      "overflow_y": null,
      "padding": null,
      "right": null,
      "top": null,
      "visibility": null,
      "width": null
     }
    },
    "de449bfcb0e8444788f0815ea342a4d7": {
     "model_module": "@jupyter-widgets/controls",
     "model_module_version": "1.5.0",
     "model_name": "HTMLModel",
     "state": {
      "_dom_classes": [],
      "_model_module": "@jupyter-widgets/controls",
      "_model_module_version": "1.5.0",
      "_model_name": "HTMLModel",
      "_view_count": null,
      "_view_module": "@jupyter-widgets/controls",
      "_view_module_version": "1.5.0",
      "_view_name": "HTMLView",
      "description": "",
      "description_tooltip": null,
      "layout": "IPY_MODEL_9669b637ee254eba84f83e8a412d2614",
      "placeholder": "​",
      "style": "IPY_MODEL_0b4feac86f55400fb26be84d7009d6f9",
      "value": "100%"
     }
    },
    "ed56797a31984ac3be6ebf23bbb3047c": {
     "model_module": "@jupyter-widgets/controls",
     "model_module_version": "1.5.0",
     "model_name": "FloatProgressModel",
     "state": {
      "_dom_classes": [],
      "_model_module": "@jupyter-widgets/controls",
      "_model_module_version": "1.5.0",
      "_model_name": "FloatProgressModel",
      "_view_count": null,
      "_view_module": "@jupyter-widgets/controls",
      "_view_module_version": "1.5.0",
      "_view_name": "ProgressView",
      "bar_style": "success",
      "description": "",
      "description_tooltip": null,
      "layout": "IPY_MODEL_746245ec3e154fecb9a364ea73b547ef",
      "max": 27,
      "min": 0,
      "orientation": "horizontal",
      "style": "IPY_MODEL_d294e3ec9e43454aa7636d44f74d5f10",
      "value": 27
     }
    },
    "f294ee8454fb467fb36890ea65037ad4": {
     "model_module": "@jupyter-widgets/base",
     "model_module_version": "1.2.0",
     "model_name": "LayoutModel",
     "state": {
      "_model_module": "@jupyter-widgets/base",
      "_model_module_version": "1.2.0",
      "_model_name": "LayoutModel",
      "_view_count": null,
      "_view_module": "@jupyter-widgets/base",
      "_view_module_version": "1.2.0",
      "_view_name": "LayoutView",
      "align_content": null,
      "align_items": null,
      "align_self": null,
      "border": null,
      "bottom": null,
      "display": null,
      "flex": null,
      "flex_flow": null,
      "grid_area": null,
      "grid_auto_columns": null,
      "grid_auto_flow": null,
      "grid_auto_rows": null,
      "grid_column": null,
      "grid_gap": null,
      "grid_row": null,
      "grid_template_areas": null,
      "grid_template_columns": null,
      "grid_template_rows": null,
      "height": null,
      "justify_content": null,
      "justify_items": null,
      "left": null,
      "margin": null,
      "max_height": null,
      "max_width": null,
      "min_height": null,
      "min_width": null,
      "object_fit": null,
      "object_position": null,
      "order": null,
      "overflow": null,
      "overflow_x": null,
      "overflow_y": null,
      "padding": null,
      "right": null,
      "top": null,
      "visibility": null,
      "width": null
     }
    }
   }
  }
 },
 "nbformat": 4,
 "nbformat_minor": 1
}
