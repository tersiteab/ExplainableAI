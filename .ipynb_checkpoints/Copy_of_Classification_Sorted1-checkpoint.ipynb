{
 "cells": [
  {
   "cell_type": "code",
   "execution_count": 2,
   "metadata": {
    "id": "w_2PCUYCvVh-"
   },
   "outputs": [
    {
     "name": "stderr",
     "output_type": "stream",
     "text": [
      "/home/teadem/.local/lib/python3.6/site-packages/numba/core/errors.py:154: UserWarning: Insufficiently recent colorama version found. Numba requires colorama >= 0.3.9\n",
      "  warnings.warn(msg)\n"
     ]
    }
   ],
   "source": [
    "import pandas as pd\n",
    "import numpy as np\n",
    "import sklearn \n",
    "from sklearn.model_selection import train_test_split\n",
    "from sklearn.ensemble import RandomForestClassifier\n",
    "from sklearn.linear_model import LogisticRegression\n",
    "from sklearn.svm import SVC\n",
    "import lime\n",
    "import shap\n",
    "import matplotlib as plot\n",
    "import sklearn.metrics\n",
    "import sklearn.datasets\n",
    "from sklearn.preprocessing import StandardScaler\n",
    "\n",
    "from sklearn.metrics import r2_score"
   ]
  },
  {
   "cell_type": "code",
   "execution_count": 3,
   "metadata": {
    "id": "0RKtgAo-xasb"
   },
   "outputs": [],
   "source": [
    "def loadDataset(dataset):\n",
    "    if dataset == \"breast cancer\":\n",
    "        X, y = sklearn.datasets.load_breast_cancer(return_X_y=True)\n",
    "    \n",
    "        return X, y\n",
    "    elif dataset == \"wine\":\n",
    "        wine = sklearn.datasets.load_wine()\n",
    "        X = wine.data\n",
    "        y = wine.target\n",
    "        target_names = wine.target_names\n",
    "        feature_names = wine.feature_names\n",
    "\n",
    "        return X,y,target_names,feature_names\n",
    "    else: \n",
    "        return None"
   ]
  },
  {
   "cell_type": "code",
   "execution_count": 4,
   "metadata": {
    "id": "z34P7unOxgHL"
   },
   "outputs": [],
   "source": [
    "def split_train_test(X,y,test_size=0.3,randomstate=42,scale=False):\n",
    "    X_train,X_test,y_train,y_test = train_test_split(X,y,test_size=test_size,random_state=randomstate)\n",
    "    return X_train,X_test,y_train,y_test\n"
   ]
  },
  {
   "cell_type": "code",
   "execution_count": 5,
   "metadata": {
    "id": "ofPsjdZdyDns"
   },
   "outputs": [],
   "source": [
    "def train_model(model, X,y):\n",
    "    if model == \"Logistic Regression\":\n",
    "        lr = LogisticRegression(max_iter=10000)\n",
    "        lr.fit(X,y)\n",
    "        return lr\n",
    "    elif model == \"Random Forest Classifier\":\n",
    "        rf_c = RandomForestClassifier()\n",
    "        rf_c.fit(X,y)\n",
    "        return rf_c\n",
    "    elif model == \"SVC\":\n",
    "        svc = SVC(\n",
    "            kernel = 'rbf',\n",
    "            C=1,\n",
    "            probability=True,\n",
    "            gamma = 0.1,\n",
    "            decision_function_shape='ovr',  # n_cls trained with data from one class as postive and remainder of data as neg\n",
    "            random_state = 0,\n",
    "        )\n",
    "        svc.fit(X,y)\n",
    "        return svc\n",
    "    else:\n",
    "        return None\n"
   ]
  },
  {
   "cell_type": "code",
   "execution_count": 6,
   "metadata": {
    "colab": {
     "base_uri": "https://localhost:8080/",
     "height": 53
    },
    "id": "V-9SOckm0M9i",
    "outputId": "7446a694-1539-4f5a-e731-2199b603f51a"
   },
   "outputs": [
    {
     "data": {
      "text/plain": [
       "\"lime_exp = lime.lime_tabular.LimeTabularExplainer(\\n    X_train_np,\\n    feature_names=columns ,\\n    class_names=['feature_names'], \\n    verbose=True, \\n    mode='regression')\""
      ]
     },
     "execution_count": 6,
     "metadata": {},
     "output_type": "execute_result"
    }
   ],
   "source": [
    "\n",
    "def Explanation(explainer,model,X,X_ref):\n",
    "    \n",
    "    if explainer == \"SHAP\":\n",
    "        exp = shap.Explainer(model, X_ref)\n",
    "        shap_vals = exp(X)\n",
    "        base_val = shap_vals.base_values \n",
    "        return shap_vals,base_val\n",
    "    elif explainer == \"Kernel SHAP\":\n",
    "        exp = shap.KernelExplainer(model, X_ref)\n",
    "        shap_vals = exp.shap_values(X)\n",
    "        expected_val = exp.expected_value\n",
    "        return shap_vals,expected_val\n",
    "    elif explainer == \"Tree SHAP\":\n",
    "        exp = shap.TreeExplainer(model,X_ref)\n",
    "        shap_vals = exp(X)\n",
    "        return shap_vals\n",
    "    elif explainer == \"LIME\":\n",
    "       \n",
    "        lime_exp = lime.lime_tabular.LimeTabularExplainer(\n",
    "            X,\n",
    "            mode='classification') \n",
    "        exp_lime = []\n",
    "        for x in X:\n",
    "            ex = lime_exp.explain_instance(x, \n",
    "                model, num_features=x.shape[0])\n",
    "            exp_lime.append(x)\n",
    "        return exp_lime\n",
    "    elif explainer == \"LIME-SHAP\":\n",
    "        exp_lime = []\n",
    "        \n",
    "        lime_explainer_shap = shap.other.LimeTabular(model,X,mode = 'classification')\n",
    "        lime_attribs = lime_explainer_shap.attributions(X,num_features=X.shape[1])\n",
    "        return lime_attribs\n",
    "    else:\n",
    "        return None\n",
    "'''lime_exp = lime.lime_tabular.LimeTabularExplainer(\n",
    "    X_train_np,\n",
    "    feature_names=columns ,\n",
    "    class_names=['feature_names'], \n",
    "    verbose=True, \n",
    "    mode='regression')'''"
   ]
  },
  {
   "cell_type": "code",
   "execution_count": 7,
   "metadata": {
    "id": "B0e2YLanQvuF"
   },
   "outputs": [],
   "source": [
    "def visualize(model,X, shap_value,type_of_Vis,local_global):\n",
    "    if local_global == \"local\":\n",
    "        shap.initjs()\n",
    "        if type_of_Vis == \"force\":\n",
    "            shap.plots.force(shap_value)\n",
    "        \n",
    "    elif local_global == \"global\":\n",
    "        if type_of_Vis == \"plot bar\":\n",
    "            shap.plots.bar(shap_value)\n",
    "        elif type_of_Vis == \"heatmap\":\n",
    "            shap.plots.heatmap(shap_value)\n",
    "        elif type_of_Vis == \"summary plot\":\n",
    "            shap.summary_plot(shap_value, X)\n"
   ]
  },
  {
   "cell_type": "code",
   "execution_count": 8,
   "metadata": {
    "id": "hlsrD5ZnQyFs"
   },
   "outputs": [],
   "source": [
    "import matplotlib.pyplot as pp\n",
    "def plot(x):\n",
    "  pp.plot(x,'-o')\n",
    "  pp.show()"
   ]
  },
  {
   "cell_type": "code",
   "execution_count": 11,
   "metadata": {},
   "outputs": [],
   "source": [
    "# ar = np.argsort(-coefs)  #argsort returns indexes of values sorted in increasing order; so do it for negated array\n",
    "#     pred_probs = np.zeros(x.shape[0])\n",
    "#     for ind in np.nditer(ar):\n",
    "#         x_copy = x.copy()\n",
    "#         x_copy[ind] = base[ind]\n",
    "#         x_copy_pr = model.predict_proba(x_copy.reshape(1,-1))\n",
    "#         pred_probs[ind] = x_copy_pr[0][pred_class]\n",
    "\n",
    "#     return -np.corrcoef(coefs, pred_probs)[0,1]"
   ]
  },
  {
   "cell_type": "code",
   "execution_count": 12,
   "metadata": {
    "id": "Q32m3oCrQzcb"
   },
   "outputs": [],
   "source": [
    "def faithfulness_metrics_cls(model,x,coefs,base):\n",
    "    pred_class = np.argmax(model.predict_proba(np.transpose(x.reshape(-1,1))), axis=1)[0]\n",
    "    ar = np.argsort(-coefs)  #argsort returns indexes of values sorted in increasing order; so do it for negated array\n",
    "    pred_probs = np.zeros(x.shape[0])\n",
    "    diff = []\n",
    "    for ind in np.nditer(ar):\n",
    "        x_copy = x.copy()\n",
    "        x_copy[ind] = base[ind]\n",
    "        \n",
    "        x_copy_pr = model.predict_proba(x_copy.reshape(1,-1))\n",
    "        pred_probs[ind] = x_copy_pr[0][pred_class]\n",
    "        # print(pred_probs)\n",
    "        # print(pred_class)\n",
    "\n",
    "    return -np.corrcoef(coefs, pred_probs)[0,1]"
   ]
  },
  {
   "cell_type": "code",
   "execution_count": null,
   "metadata": {},
   "outputs": [],
   "source": [
    "def faithfulness_metrics_cls(model,x,coefs,base):\n",
    "    pred_class = np.argmax(model.predict_proba(np.transpose(x.reshape(-1,1))), axis=1)[0]\n",
    "    ar = np.argsort(-coefs)  #argsort returns indexes of values sorted in increasing order; so do it for negated array\n",
    "    pred_probs = np.zeros(x.shape[0])\n",
    "    diff = []\n",
    "    for ind in np.nditer(ar):\n",
    "        x_copy = x.copy()\n",
    "        d = x_copy[ind]-base[ind]\n",
    "        if d<0:\n",
    "            diff.append(-1)\n",
    "        else:\n",
    "            diff.append(1)\n",
    "        x_copy[ind] = base[ind]\n",
    "        \n",
    "        x_copy_pr = model.predict_proba(x_copy.reshape(1,-1))\n",
    "        pred_probs[ind] = x_copy_pr[0][pred_class]\n",
    "        # print(pred_probs)\n",
    "        # print(pred_class)\n",
    "\n",
    "    return -np.corrcoef(np.array(diff)*coefs, pred_probs)[0,1]"
   ]
  },
  {
   "cell_type": "code",
   "execution_count": 13,
   "metadata": {
    "id": "R15TT7FBRwhD"
   },
   "outputs": [],
   "source": [
    "def monotonicity(model, x, coef, base):\n",
    "    pred_class = np.argmax(model.predict_proba(np.transpose(x.reshape(1,-1))), axis=1)[0]\n",
    "    x_copy = base.copy()\n",
    "\n",
    "    #find indexs of coefficients in increasing order of value\n",
    "    ar = np.argsort(coefs)\n",
    "    pred_probs = np.zeros(x.shape[0])\n",
    "    for ind in np.nditer(ar):\n",
    "        x_copy[ind] = x[ind]\n",
    "        x_copy_pr = model.predict_proba(np.transpose(x_copy.reshape(1,-1)))\n",
    "        pred_probs[ind] = x_copy_pr[0][pred_class]\n",
    "\n",
    "    return -np.all(np.diff(pred_probs[ar]) >= 0)"
   ]
  },
  {
   "cell_type": "code",
   "execution_count": 14,
   "metadata": {
    "colab": {
     "base_uri": "https://localhost:8080/"
    },
    "id": "gGat-_R0wl4o",
    "outputId": "9b613205-caf6-42fb-f330-7272b575f437"
   },
   "outputs": [
    {
     "data": {
      "text/plain": [
       "array([[1, 2, 3],\n",
       "       [2, 3, 4]])"
      ]
     },
     "execution_count": 14,
     "metadata": {},
     "output_type": "execute_result"
    }
   ],
   "source": [
    "x=np.array([[1,2,3],[2,3,4]])\n",
    "x"
   ]
  },
  {
   "cell_type": "code",
   "execution_count": 15,
   "metadata": {
    "colab": {
     "base_uri": "https://localhost:8080/"
    },
    "id": "_UMeAv5NwtqN",
    "outputId": "b48dd63f-e74b-42ac-da76-85f777a315f0"
   },
   "outputs": [
    {
     "data": {
      "text/plain": [
       "array([1.5, 2.5, 3.5])"
      ]
     },
     "execution_count": 15,
     "metadata": {},
     "output_type": "execute_result"
    }
   ],
   "source": [
    "base = np.mean(x, axis=0)\n",
    "base"
   ]
  },
  {
   "cell_type": "code",
   "execution_count": 16,
   "metadata": {
    "id": "y-zjL1wcRx8j"
   },
   "outputs": [],
   "source": [
    "def metrics(model,X,shap_val,explainer_type,metrics_type,dataset):\n",
    "    # cols = X.columns\n",
    "    # if dataset == \"boston\":\n",
    "    #   base1 = X[cols].mean()\n",
    "    #   base1['ZN'] = int(round(X['ZN'].mean()))\n",
    "    #   base1['CHAS'] = 0\n",
    "    #   base1['RAD'] = int(round(X['RAD'].mean()))\n",
    "    #   base = base1.values\n",
    "    # else:\n",
    "    base = np.mean(X,axis=0)\n",
    "    if metrics_type == \"faithfulness\":\n",
    "        faithfulness = []\n",
    "        if explainer_type == \"shap\":\n",
    "            for i in range(X.shape[0]):\n",
    "                x = X[i,:]\n",
    "                \n",
    "                # print(shap_val[i])\n",
    "                coefs = shap_val[i].values\n",
    "                f = faithfulness_metrics_cls(model, x, coefs, base)\n",
    "                # print(f)\n",
    "                faithfulness.append(f)\n",
    "        elif explainer_type == \"kernel shap\":\n",
    "            for i in range(X.shape[0]):\n",
    "                x = X[i,:]\n",
    "                # print(shap_val[i])\n",
    "                coefs = shap_val[i]\n",
    "                f = faithfulness_metrics_cls(model, x, coefs, base)\n",
    "                # print(f)\n",
    "                faithfulness.append(f)\n",
    "        elif explainer_type == \"lime\":\n",
    "            for i in range(X.shape[0]):\n",
    "                x = X[i,:]\n",
    "                coefs = shap_val[i]\n",
    "                f = faithfulness_metrics_cls(model, x, coefs, base)\n",
    "                # print(f)\n",
    "                faithfulness.append(f)\n",
    "        plot(faithfulness)\n",
    "        return np.array(faithfulness).mean()\n",
    "    elif metrics_type == \"monotonicity\":\n",
    "        monotonicity = []\n",
    "        if explainer_type == \"shap\":\n",
    "            for i in range(X.shape[0]):\n",
    "                x = X[i,:]\n",
    "                coefs = shap_val.values[i]\n",
    "                f = monotonicity(model, x, coefs, base)\n",
    "                monotonicity.append(f)\n",
    "        elif explainer_type == \"lime\":\n",
    "            for i in range(X.shape[0]):\n",
    "                x = X[i,:]\n",
    "                coefs = shap_val[i]\n",
    "                f = monotonicity(model, x, coefs, base)\n",
    "                monotonicity.append(f)\n",
    "        return monotonicity"
   ]
  },
  {
   "cell_type": "code",
   "execution_count": 21,
   "metadata": {
    "id": "7F0GLmYNR0MT"
   },
   "outputs": [],
   "source": [
    "def Main(dataset):\n",
    "    if dataset == \"wine\":\n",
    "        X,y,target_names,feature_names = loadDataset(dataset)\n",
    "    X,y = loadDataset(dataset)\n",
    "    \n",
    "    sc = StandardScaler()\n",
    "    X_scaled = sc.fit_transform(X)\n",
    "    X_train,X_test,y_train,y_test = train_test_split(X,y)\n",
    "    X_trainS,X_testS,y_trainS,y_testS = train_test_split(X_scaled,y)\n",
    "\n",
    "    LR_model = train_model(\"Logistic Regression\",X_train,y_train)\n",
    "    RF_model = train_model(\"Random Forest Classifier\",X_train,y_train)\n",
    "    SVC_model = train_model(\"SVC\",X_trainS,y_trainS)\n",
    "\n",
    "    print('R2 for Train)', RF_model.score( X_train, y_train ))\n",
    "    print('R2 for Test (cross validation)', RF_model.score(X_test, y_test))\n",
    "    \n",
    "    print('R2 for Train)', LR_model.score( X_train, y_train ))\n",
    "    print('R2 for Test (cross validation)', LR_model.score(X_test, y_test))\n",
    "    \n",
    "    print('R2 for Train)', SVC_model.score( X_trainS, y_trainS))\n",
    "    \n",
    "    predict_fnLR = lambda x:LR_model.predict_proba(x)[:,1]\n",
    "    predict_fnRF = lambda x:RF_model.predict_proba(x)[:,1]\n",
    "    predict_fnSVC = SVC_model.decision_function \n",
    "\n",
    "    X100 = shap.maskers.Independent(X, max_samples=100)\n",
    "    X100_ = shap.utils.sample(X, 100)\n",
    "    \n",
    "    LR_shap,LR_baseVal = Explanation(\"SHAP\",predict_fnLR,X_test[10:,],X100)\n",
    "    LR_shap_k,LR_expected_val_k = Explanation(\"Kernel SHAP\",predict_fnLR,X_test[10:,],X100_)\n",
    "    LR_lime1 = Explanation(\"LIME\",LR_model.predict_proba,X_test,X100)\n",
    "    \n",
    "    RF_shap, RF_baseVal = Explanation(\"SHAP\",predict_fnRF,X_test[10:,],X100)\n",
    "    RF_shap_k,RF_expected_val_k = Explanation(\"Kernel SHAP\",predict_fnRF,X_test[10:,],X100_)\n",
    "    RF_lime1 = Explanation(\"LIME\",RF_model.predict_proba,X_test,X100)\n",
    "    \n",
    "    SVC_shap, SVC_baseVal = Explanation(\"SHAP\",predict_fnSVC,X_testS[10:,],X100)\n",
    "    SVC_shap_k,SVC_expected_val_k = Explanation(\"Kernel SHAP\",predict_fnSVC,X_testS[10:,],X100_)\n",
    "    SVC_lime1 = Explanation(\"LIME\",SVC_model.predict_proba,X_testS,X100)\n",
    "    \n",
    "    ################### evaluation#####################\n",
    "    \n",
    "    #faithfulness\n",
    "    faithfulness_LR_shap= metrics(model=LR_model,X=X_test[10:,],shap_val=LR_shap,explainer_type=\"shap\",metrics_type=\"faithfulness\",dataset=\"dataset\")\n",
    "    print(\"Mean Faithfulness for shap Logistic reg:\",np.mean(np.array(faithfulness_LR_shap)))\n",
    "    faithfulness_LR_shap_k = metrics(model=LR_model,X=X_test[10:,],shap_val=LR_shap_k,explainer_type=\"kernel shap\",metrics_type=\"faithfulness\",dataset=\"dataset\")\n",
    "    print(\"Mean Faithfulness for kernel shap Logistic reg:\",np.mean(np.array(faithfulness_LR_shap_k)))\n",
    "    faithfulness_LR_lime = metrics(model=LR_model,X=X_test[10:,],shap_val=LR_lime1,explainer_type=\"lime\",metrics_type=\"faithfulness\",dataset=\"dataset\")\n",
    "    print(\"Mean Faithfulness for lime Logistic Reg:\",np.mean(np.array(faithfulness_LR_lime)))\n",
    "    faithfulness_RF_shap = metrics(model=RF_model,X=X_test[10:,],shap_val=RF_shap,explainer_type=\"shap\",metrics_type=\"faithfulness\",dataset=\"dataset\")\n",
    "    print(\"Mean Faithfulness for shap RF Classification:\",np.mean(np.array(faithfulness_RF_shap)))\n",
    "    faithfulness_RF_shap_k = metrics(model=RF_model,X=X_test[10:,],shap_val=RF_shap_k,explainer_type=\"kernel shap\",metrics_type=\"faithfulness\",dataset=\"dataset\")\n",
    "    print(\"Mean Faithfulness for kernel shap RF Classification:\",np.mean(np.array(faithfulness_RF_shap_k)))\n",
    "    faithfulness_RF_lime = metrics(model=LR_model,X=X_test[10:,],shap_val=RF_lime1,explainer_type=\"lime\",metrics_type=\"faithfulness\",dataset=\"dataset\")\n",
    "    print(\"Mean Faithfulness for lime RF Classification:\",np.mean(np.array(faithfulness_RF_lime)))\n",
    "    #TODO svc\n",
    "    \n",
    "    "
   ]
  },
  {
   "cell_type": "code",
   "execution_count": 18,
   "metadata": {
    "scrolled": false
   },
   "outputs": [
    {
     "name": "stdout",
     "output_type": "stream",
     "text": [
      "R2 for Train) 1.0\n",
      "R2 for Test (cross validation) 1.0\n",
      "R2 for Train) 0.9924812030075187\n",
      "R2 for Test (cross validation) 0.9777777777777777\n",
      "R2 for Train) 1.0\n"
     ]
    },
    {
     "data": {
      "application/vnd.jupyter.widget-view+json": {
       "model_id": "882a12e6d19e4230925969ea3e55bd81",
       "version_major": 2,
       "version_minor": 0
      },
      "text/plain": [
       "  0%|          | 0/35 [00:00<?, ?it/s]"
      ]
     },
     "metadata": {},
     "output_type": "display_data"
    },
    {
     "data": {
      "application/vnd.jupyter.widget-view+json": {
       "model_id": "6b15b848796c480091ecae44699b09f1",
       "version_major": 2,
       "version_minor": 0
      },
      "text/plain": [
       "  0%|          | 0/35 [00:00<?, ?it/s]"
      ]
     },
     "metadata": {},
     "output_type": "display_data"
    },
    {
     "data": {
      "application/vnd.jupyter.widget-view+json": {
       "model_id": "253a4c8f8816431ab0a3be9d50c79fc4",
       "version_major": 2,
       "version_minor": 0
      },
      "text/plain": [
       "  0%|          | 0/35 [00:00<?, ?it/s]"
      ]
     },
     "metadata": {},
     "output_type": "display_data"
    },
    {
     "data": {
      "image/png": "[encoded data removed]",
      "text/plain": [
       "<Figure size 432x288 with 1 Axes>"
      ]
     },
     "metadata": {
      "needs_background": "light"
     },
     "output_type": "display_data"
    },
    {
     "name": "stdout",
     "output_type": "stream",
     "text": [
      "Mean Faithfulness for shap Logistic reg: -0.2045064261605168\n"
     ]
    },
    {
     "data": {
      "image/png": "[encoded data removed]",
      "text/plain": [
       "<Figure size 432x288 with 1 Axes>"
      ]
     },
     "metadata": {
      "needs_background": "light"
     },
     "output_type": "display_data"
    },
    {
     "name": "stdout",
     "output_type": "stream",
     "text": [
      "Mean Faithfulness for kernel shap Logistic reg: -0.22587782108759683\n"
     ]
    },
    {
     "data": {
      "image/png": "[encoded data removed]",
      "text/plain": [
       "<Figure size 432x288 with 1 Axes>"
      ]
     },
     "metadata": {
      "needs_background": "light"
     },
     "output_type": "display_data"
    },
    {
     "name": "stdout",
     "output_type": "stream",
     "text": [
      "Mean Faithfulness for lime Logistic Reg: 0.4167609071902833\n"
     ]
    },
    {
     "data": {
      "image/png": "[encoded data removed]",
      "text/plain": [
       "<Figure size 432x288 with 1 Axes>"
      ]
     },
     "metadata": {
      "needs_background": "light"
     },
     "output_type": "display_data"
    },
    {
     "name": "stdout",
     "output_type": "stream",
     "text": [
      "Mean Faithfulness for shap RF Classification: 0.015127920896796024\n"
     ]
    },
    {
     "data": {
      "image/png": "[encoded data removed]",
      "text/plain": [
       "<Figure size 432x288 with 1 Axes>"
      ]
     },
     "metadata": {
      "needs_background": "light"
     },
     "output_type": "display_data"
    },
    {
     "name": "stdout",
     "output_type": "stream",
     "text": [
      "Mean Faithfulness for kernel shap RF Classification: 0.007561284360076771\n"
     ]
    },
    {
     "data": {
      "image/png": "[encoded data removed]",
      "text/plain": [
       "<Figure size 432x288 with 1 Axes>"
      ]
     },
     "metadata": {
      "needs_background": "light"
     },
     "output_type": "display_data"
    },
    {
     "name": "stdout",
     "output_type": "stream",
     "text": [
      "Mean Faithfulness for lime RF Classification: 0.4167609071902833\n"
     ]
    }
   ],
   "source": [
    "dataset = \"wine\"\n",
    "Main(dataset)"
   ]
  },
  {
   "cell_type": "code",
   "execution_count": 22,
   "metadata": {},
   "outputs": [],
   "source": [
    "dataset1 = \"breast cancer\""
   ]
  },
  {
   "cell_type": "code",
   "execution_count": null,
   "metadata": {},
   "outputs": [
    {
     "name": "stdout",
     "output_type": "stream",
     "text": [
      "R2 for Train) 1.0\n",
      "R2 for Test (cross validation) 0.9440559440559441\n",
      "R2 for Train) 0.9741784037558685\n",
      "R2 for Test (cross validation) 0.9300699300699301\n",
      "R2 for Train) 0.9906103286384976\n"
     ]
    },
    {
     "name": "stderr",
     "output_type": "stream",
     "text": [
      "Permutation explainer: 134it [00:12,  2.24it/s]                         \n"
     ]
    },
    {
     "data": {
      "application/vnd.jupyter.widget-view+json": {
       "model_id": "d2c620a3583a4b46b42624b7e4164293",
       "version_major": 2,
       "version_minor": 0
      },
      "text/plain": [
       "  0%|          | 0/133 [00:00<?, ?it/s]"
      ]
     },
     "metadata": {},
     "output_type": "display_data"
    },
    {
     "name": "stderr",
     "output_type": "stream",
     "text": [
      "Permutation explainer: 134it [00:59,  1.92it/s]                         \n"
     ]
    },
    {
     "data": {
      "application/vnd.jupyter.widget-view+json": {
       "model_id": "f35f64f5aa0a45aca804d4944384175f",
       "version_major": 2,
       "version_minor": 0
      },
      "text/plain": [
       "  0%|          | 0/133 [00:00<?, ?it/s]"
      ]
     },
     "metadata": {},
     "output_type": "display_data"
    }
   ],
   "source": [
    "Main(dataset1)"
   ]
  },
  {
   "cell_type": "code",
   "execution_count": 14,
   "metadata": {
    "id": "IJX3KXP8UtnB"
   },
   "outputs": [],
   "source": [
    "X,y,target_names,feature_names = loadDataset(\"wine\")\n",
    "sc = StandardScaler()\n",
    "X_scaled = sc.fit_transform(X)\n",
    "X_train,X_test,y_train,y_test = train_test_split(X,y)\n",
    "X_trainS,X_testS,y_trainS,y_testS = train_test_split(X_scaled,y)"
   ]
  },
  {
   "cell_type": "code",
   "execution_count": 15,
   "metadata": {
    "colab": {
     "base_uri": "https://localhost:8080/"
    },
    "id": "0MSnVp0Vb-nu",
    "outputId": "98385b47-59c1-46b0-f4ea-3fec6c67f66a"
   },
   "outputs": [
    {
     "data": {
      "text/plain": [
       "(178, 13)"
      ]
     },
     "execution_count": 15,
     "metadata": {},
     "output_type": "execute_result"
    }
   ],
   "source": [
    "X.shape"
   ]
  },
  {
   "cell_type": "code",
   "execution_count": 16,
   "metadata": {
    "colab": {
     "base_uri": "https://localhost:8080/"
    },
    "id": "GDDWQTHh_zYO",
    "outputId": "9661a2b6-f1bf-4229-98e2-2fdb616b285e"
   },
   "outputs": [
    {
     "data": {
      "text/plain": [
       "array([1.351e+01, 1.800e+00, 2.650e+00, 1.900e+01, 1.100e+02, 2.350e+00,\n",
       "       2.530e+00, 2.900e-01, 1.540e+00, 4.200e+00, 1.100e+00, 2.870e+00,\n",
       "       1.095e+03])"
      ]
     },
     "execution_count": 16,
     "metadata": {},
     "output_type": "execute_result"
    }
   ],
   "source": [
    "X_train[0]"
   ]
  },
  {
   "cell_type": "code",
   "execution_count": 17,
   "metadata": {
    "id": "s1CDJS56VXYB"
   },
   "outputs": [],
   "source": [
    "LR_model = train_model(\"Logistic Regression\",X_train,y_train)\n",
    "RF_model = train_model(\"Random Forest Classifier\",X_train,y_train)\n",
    "SVC_model = train_model(\"SVC\",X_trainS,y_trainS)"
   ]
  },
  {
   "cell_type": "code",
   "execution_count": 18,
   "metadata": {
    "colab": {
     "base_uri": "https://localhost:8080/"
    },
    "id": "FM68SobzWhTG",
    "outputId": "9e165af9-a567-433a-eff3-3b2a0bd5f248"
   },
   "outputs": [
    {
     "name": "stdout",
     "output_type": "stream",
     "text": [
      "R2 for Train) 1.0\n",
      "R2 for Test (cross validation) 0.9777777777777777\n"
     ]
    }
   ],
   "source": [
    "print('R2 for Train)', RF_model.score( X_train, y_train ))\n",
    "print('R2 for Test (cross validation)', RF_model.score(X_test, y_test))"
   ]
  },
  {
   "cell_type": "code",
   "execution_count": 19,
   "metadata": {
    "colab": {
     "base_uri": "https://localhost:8080/"
    },
    "id": "aneoLfcWXXoY",
    "outputId": "3f7aa9cd-4e1b-49ba-bb2a-9b61474d25c7"
   },
   "outputs": [
    {
     "name": "stdout",
     "output_type": "stream",
     "text": [
      "R2 for Train) 1.0\n",
      "R2 for Test (cross validation) 0.9555555555555556\n"
     ]
    }
   ],
   "source": [
    "print('R2 for Train)', LR_model.score( X_train, y_train ))\n",
    "print('R2 for Test (cross validation)', LR_model.score(X_test, y_test))"
   ]
  },
  {
   "cell_type": "code",
   "execution_count": 20,
   "metadata": {
    "colab": {
     "base_uri": "https://localhost:8080/"
    },
    "id": "rsMS-eKuXh5Q",
    "outputId": "e408366e-94f7-401c-b3c9-44fc6c73e4da"
   },
   "outputs": [
    {
     "name": "stdout",
     "output_type": "stream",
     "text": [
      "R2 for Train) 1.0\n"
     ]
    }
   ],
   "source": [
    "print('R2 for Train)', SVC_model.score( X_trainS, y_trainS))\n",
    "# print('R2 for Test (cross validation)', r2_score(y_testS, sc.inverse_transform(SVC_model.predict(X_testS))))\n"
   ]
  },
  {
   "cell_type": "code",
   "execution_count": 25,
   "metadata": {
    "id": "dCiQluTZInpm"
   },
   "outputs": [],
   "source": [
    "predict_fnLR = lambda x:LR_model.predict_proba(x)[:,1]\n",
    "predict_fnRF = lambda x:RF_model.predict_proba(x)[:,1]\n",
    "predict_fnSVC = SVC_model.decision_function "
   ]
  },
  {
   "cell_type": "code",
   "execution_count": 64,
   "metadata": {},
   "outputs": [
    {
     "data": {
      "text/plain": [
       "array([0.98292184])"
      ]
     },
     "execution_count": 64,
     "metadata": {},
     "output_type": "execute_result"
    }
   ],
   "source": [
    "predict_fnSVC1 = SVC_model.predict_proba (np.transpose(X_testS[0].reshape(-1, 1)) )\n",
    "predict_fnSVC1[:,1]"
   ]
  },
  {
   "cell_type": "code",
   "execution_count": 27,
   "metadata": {
    "colab": {
     "base_uri": "https://localhost:8080/",
     "height": 449,
     "referenced_widgets": [
      "ba5714339ae54d678747bcbc307a107c",
      "72f2662dc57c4b5abbccecadec6a78f4",
      "0a3bec78d9094c98afad9f96acdb9a89",
      "ce02c13c02274b3f9765783f6ef4a645",
      "77af77ed10c643a4ae44c27c045bbcf1",
      "4e4b4398c3d74c5eaf3e5bcd4d28b34a",
      "9082d964f2e04d939cb84b368c9bbc84",
      "1eaf1758e9f0446fa1851ba9b403f80b",
      "a27df1d3c53049978014da57683fecfc",
      "566f6034008c4231b450fb08565075d6",
      "b40ff12d19d0469fa14a53a768b7b68b"
     ]
    },
    "id": "mcYI30joYMO5",
    "outputId": "b79af0cf-a247-464f-b88b-e70f0f29ccd5"
   },
   "outputs": [
    {
     "data": {
      "application/vnd.jupyter.widget-view+json": {
       "model_id": "8ca7ecd1350142789038abd2d5597dd9",
       "version_major": 2,
       "version_minor": 0
      },
      "text/plain": [
       "  0%|          | 0/35 [00:00<?, ?it/s]"
      ]
     },
     "metadata": {},
     "output_type": "display_data"
    }
   ],
   "source": [
    "X100 = shap.maskers.Independent(X, max_samples=100)\n",
    "X100_ = shap.utils.sample(X, 100)\n",
    "\n",
    "LR_shap,RF_expected_val = Explanation(\"Kernel SHAP\",predict_fnLR,X_test[10:,],X100_)\n",
    "\n",
    "\n"
   ]
  },
  {
   "cell_type": "code",
   "execution_count": 28,
   "metadata": {
    "id": "KzBYfD0cHgAC"
   },
   "outputs": [],
   "source": [
    "LR_lime1 = Explanation(\"LIME\",LR_model.predict_proba,X_test,X100)\n",
    "# LR_lime = Explanation(\"LIME-SHAP\",predict_fnLR,X_test,X100)"
   ]
  },
  {
   "cell_type": "code",
   "execution_count": 29,
   "metadata": {},
   "outputs": [],
   "source": [
    "X_10 = shap.maskers.Independent(X, max_samples=10)"
   ]
  },
  {
   "cell_type": "code",
   "execution_count": 30,
   "metadata": {
    "colab": {
     "base_uri": "https://localhost:8080/",
     "height": 348
    },
    "id": "R-GmxOU7MsDP",
    "outputId": "b227bf6a-8403-4531-ca3d-edba74bf4364"
   },
   "outputs": [],
   "source": [
    "# LR_lime = Explanation(\"LIME-SHAP\",predict_fnLR,X_test[:10,],X_10)"
   ]
  },
  {
   "cell_type": "code",
   "execution_count": 31,
   "metadata": {
    "colab": {
     "base_uri": "https://localhost:8080/",
     "height": 86,
     "referenced_widgets": [
      "99ac208fcd544253bc047a0ccd926892",
      "162bcda80ce849a4bea6a9305e26da99",
      "a68b205948e648d98f0512d3279b0d0e",
      "bddc36ff9ab6414a804b2f5a1fa577b0",
      "b0b8b0c360b746af884778e5c6d7ab90",
      "969280785e6c4c6eacd8c558001bf928",
      "c748524ef78c4aa78f64fc527f6ef005",
      "839792f21fcc4bc89ef943c50f3b69c1",
      "18e08b4879f44c1d95f2a411f0aa789a",
      "63743e39e6574e7da2f2ce60027d2e9d",
      "021298ab8a394a4f9ac10124645a8049"
     ]
    },
    "id": "xU5TURerKAkk",
    "outputId": "7267b21d-a4a9-48c5-c199-cad031c9c46c"
   },
   "outputs": [
    {
     "name": "stderr",
     "output_type": "stream",
     "text": [
      "Using 178 background data samples could cause slower run times. Consider using shap.sample(data, K) or shap.kmeans(data, K) to summarize the background as K samples.\n"
     ]
    },
    {
     "data": {
      "application/vnd.jupyter.widget-view+json": {
       "model_id": "594aab95d73c48ea98d5a9b0681f8c46",
       "version_major": 2,
       "version_minor": 0
      },
      "text/plain": [
       "  0%|          | 0/35 [00:00<?, ?it/s]"
      ]
     },
     "metadata": {},
     "output_type": "display_data"
    }
   ],
   "source": [
    "X100 = shap.utils.sample(X, 1000)\n",
    "LR_shap_k,RF_expected_val_k = Explanation(\"Kernel SHAP\",predict_fnLR,X_test[10:,],X100)\n"
   ]
  },
  {
   "cell_type": "code",
   "execution_count": 32,
   "metadata": {},
   "outputs": [],
   "source": [
    "LR_shap,LR_baseVal = Explanation(\"SHAP\",predict_fnLR,X_test[10:,],X100)"
   ]
  },
  {
   "cell_type": "code",
   "execution_count": 33,
   "metadata": {
    "colab": {
     "base_uri": "https://localhost:8080/",
     "height": 86,
     "referenced_widgets": [
      "160d400cf5894cb8bc5e45a179ca6420",
      "d3dc6f267ab342669925e6c7003c1967",
      "cc6ff8f32b0c442e859c330291e471f0",
      "6cc376fb246f4b24989bf1f69b4fc448",
      "74ef79ad2dc74a4fa6ca4837b783ccbb",
      "5625f22f9e9248d5b1d46a58c2166988",
      "503a97c95e8341a5854d7b0e5dfe24dd",
      "337a64444ff34d01afc19a094c4edbd9",
      "fdf6cfcba8ac4b3a81980c489494d21f",
      "d2adc350fb024f58b3d2b43248a778fd",
      "b3e2fa0544d74656a610780983434e19"
     ]
    },
    "id": "54gGC3rVY0jp",
    "outputId": "db39fb41-28be-4698-eec6-88168f961ddc"
   },
   "outputs": [
    {
     "name": "stderr",
     "output_type": "stream",
     "text": [
      "Using 178 background data samples could cause slower run times. Consider using shap.sample(data, K) or shap.kmeans(data, K) to summarize the background as K samples.\n"
     ]
    },
    {
     "data": {
      "application/vnd.jupyter.widget-view+json": {
       "model_id": "b7f39be3ff9c45198d666d78ebf65643",
       "version_major": 2,
       "version_minor": 0
      },
      "text/plain": [
       "  0%|          | 0/35 [00:00<?, ?it/s]"
      ]
     },
     "metadata": {},
     "output_type": "display_data"
    }
   ],
   "source": [
    "RF_shap, RF_baseVal = Explanation(\"SHAP\",predict_fnRF,X_test[10:,],X100)\n",
    "RF_shap_k,RF_expected_val_k = Explanation(\"Kernel SHAP\",predict_fnRF,X_test[10:,],X100)\n"
   ]
  },
  {
   "cell_type": "code",
   "execution_count": 34,
   "metadata": {
    "colab": {
     "base_uri": "https://localhost:8080/",
     "height": 365
    },
    "id": "kapp7Yq9bccS",
    "outputId": "769bfd2c-b142-47fd-d1ea-b5d3c88d7ab1"
   },
   "outputs": [],
   "source": [
    "RF_lime1 = Explanation(\"LIME\",RF_model.predict_proba,X_test,X100)\n"
   ]
  },
  {
   "cell_type": "code",
   "execution_count": 35,
   "metadata": {},
   "outputs": [],
   "source": [
    "# RF_lime = Explanation(\"LIME-SHAP\",predict_fnRF,X_test,X100)"
   ]
  },
  {
   "cell_type": "code",
   "execution_count": 36,
   "metadata": {
    "colab": {
     "base_uri": "https://localhost:8080/",
     "height": 86,
     "referenced_widgets": [
      "cc0bbef99373496c841d678d0134d196",
      "95864384b7404946ab8747f050163616",
      "38f30df3f3f441ebba71a1d4b3205a26",
      "bc62848a1cad4537a7d4fd2cf831167a",
      "18d938dd12da4106995c7c9b6bb48adc",
      "544e513adb5d43f4a1d043ea90c1ed9f",
      "7e11a7689077498296035cc731a15228",
      "f9921c30813b427eaa900dc074d7a318",
      "279ba8f7bbdf471a8d81a17e0c5dc3ae",
      "8fd7e5af873843b4a830126fb8742331",
      "82cd9960ec3e40fbb244dec0f2b86eae"
     ]
    },
    "id": "V_F_4xxFZ6qg",
    "outputId": "2f92b5a4-3a3a-42e3-d28e-85c40d1adf75"
   },
   "outputs": [
    {
     "name": "stderr",
     "output_type": "stream",
     "text": [
      "Using 178 background data samples could cause slower run times. Consider using shap.sample(data, K) or shap.kmeans(data, K) to summarize the background as K samples.\n"
     ]
    },
    {
     "data": {
      "application/vnd.jupyter.widget-view+json": {
       "model_id": "3dd1d1eb0fbf4ef1842a7eff457e8412",
       "version_major": 2,
       "version_minor": 0
      },
      "text/plain": [
       "  0%|          | 0/35 [00:00<?, ?it/s]"
      ]
     },
     "metadata": {},
     "output_type": "display_data"
    }
   ],
   "source": [
    "SVC_shap, SVC_baseVal = Explanation(\"SHAP\",predict_fnSVC,X_testS[10:,],X100)\n",
    "SVC_shap_k,SVC_expected_val_k = Explanation(\"Kernel SHAP\",predict_fnSVC,X_testS[10:,],X100)\n"
   ]
  },
  {
   "cell_type": "code",
   "execution_count": 37,
   "metadata": {
    "id": "4USymTD-gtCm"
   },
   "outputs": [],
   "source": [
    "SVC_lime1 = Explanation(\"LIME\",SVC_model.predict_proba,X_testS,X100)\n",
    "# SVC_lime = Explanation(\"LIME-SHAP\",predict_fnSVC,X_testS,X100)"
   ]
  },
  {
   "cell_type": "code",
   "execution_count": 38,
   "metadata": {
    "id": "NmlQDjjYBEVY"
   },
   "outputs": [
    {
     "name": "stdout",
     "output_type": "stream",
     "text": [
      "(13, 1)\n"
     ]
    }
   ],
   "source": [
    "print((X_test[0].reshape(-1,1)).shape)"
   ]
  },
  {
   "cell_type": "code",
   "execution_count": 39,
   "metadata": {
    "id": "A0yOrxw5CBbL"
   },
   "outputs": [
    {
     "data": {
      "text/plain": [
       "(45, 13)"
      ]
     },
     "execution_count": 39,
     "metadata": {},
     "output_type": "execute_result"
    }
   ],
   "source": [
    "X_test.shape"
   ]
  },
  {
   "cell_type": "code",
   "execution_count": 40,
   "metadata": {
    "colab": {
     "base_uri": "https://localhost:8080/"
    },
    "id": "W9NNOdb2CQ4S",
    "outputId": "ac09524c-4030-4fb0-fdbe-4f0bc0d6eac5"
   },
   "outputs": [
    {
     "data": {
      "text/plain": [
       "array([[0.98323381, 0.0154647 , 0.00130149]])"
      ]
     },
     "execution_count": 40,
     "metadata": {},
     "output_type": "execute_result"
    }
   ],
   "source": [
    "LR_model.predict_proba(np.transpose(X_test[0].reshape(-1,1)))"
   ]
  },
  {
   "cell_type": "code",
   "execution_count": 41,
   "metadata": {
    "colab": {
     "base_uri": "https://localhost:8080/"
    },
    "id": "aVDS2BcHBob8",
    "outputId": "55c5b5c5-0b82-40e1-d543-9ad09e2fe371",
    "scrolled": true
   },
   "outputs": [
    {
     "data": {
      "text/plain": [
       "(13,)"
      ]
     },
     "execution_count": 41,
     "metadata": {},
     "output_type": "execute_result"
    }
   ],
   "source": [
    "RF_shap[0].shape"
   ]
  },
  {
   "cell_type": "code",
   "execution_count": 42,
   "metadata": {},
   "outputs": [
    {
     "data": {
      "text/plain": [
       "(13,)"
      ]
     },
     "execution_count": 42,
     "metadata": {},
     "output_type": "execute_result"
    }
   ],
   "source": [
    "LR_shap[0].shape"
   ]
  },
  {
   "cell_type": "code",
   "execution_count": 43,
   "metadata": {},
   "outputs": [
    {
     "data": {
      "text/plain": [
       "(13,)"
      ]
     },
     "execution_count": 43,
     "metadata": {},
     "output_type": "execute_result"
    }
   ],
   "source": [
    "LR_shap_k[0].shape"
   ]
  },
  {
   "cell_type": "code",
   "execution_count": 44,
   "metadata": {},
   "outputs": [
    {
     "data": {
      "text/plain": [
       "(13,)"
      ]
     },
     "execution_count": 44,
     "metadata": {},
     "output_type": "execute_result"
    }
   ],
   "source": [
    "RF_shap_k[0].shape"
   ]
  },
  {
   "cell_type": "code",
   "execution_count": 45,
   "metadata": {},
   "outputs": [
    {
     "data": {
      "text/plain": [
       "(13, 3)"
      ]
     },
     "execution_count": 45,
     "metadata": {},
     "output_type": "execute_result"
    }
   ],
   "source": [
    "SVC_shap[0].shape"
   ]
  },
  {
   "cell_type": "code",
   "execution_count": 46,
   "metadata": {},
   "outputs": [
    {
     "data": {
      "text/plain": [
       "(35, 13)"
      ]
     },
     "execution_count": 46,
     "metadata": {},
     "output_type": "execute_result"
    }
   ],
   "source": [
    "SVC_shap_k[0].shape"
   ]
  },
  {
   "cell_type": "code",
   "execution_count": null,
   "metadata": {},
   "outputs": [],
   "source": []
  },
  {
   "cell_type": "code",
   "execution_count": 53,
   "metadata": {
    "colab": {
     "base_uri": "https://localhost:8080/",
     "height": 265
    },
    "id": "6HY473crTgxg",
    "outputId": "f7e7642e-44fc-4820-a9bb-08a3aa51fb15"
   },
   "outputs": [
    {
     "data": {
      "image/png": "[encoded data removed]",
      "text/plain": [
       "<Figure size 432x288 with 1 Axes>"
      ]
     },
     "metadata": {
      "needs_background": "light"
     },
     "output_type": "display_data"
    }
   ],
   "source": [
    "faithfulness_LR_shap= metrics(model=LR_model,X=X_test[10:,],shap_val=LR_shap,explainer_type=\"shap\",metrics_type=\"faithfulness\",dataset=\"dataset\")\n",
    "# faithfulness_RF_shap = metrics(model=RF_model,X=X_test[10:,],shap_val=LR_shap,explainer_type=\"shap\",metrics_type=\"faithfulness\",dataset=\"dataset\")\n",
    "# faithfulness_RF_lime = metrics(model=RF_model,X=X_test[100:,],shap_val=RF_lime,explainer_type=\"lime\",metrics_type=\"faithfulness\",dataset=dataset)\n",
    "# faithfulness_LR_shap_k = metrics(model=LR_model,X=X_test[10:,],shap_val=LR_shap_k,explainer_type=\"shap\",metrics_type=\"faithfulness\",dataset=\"dataset\")\n",
    "# faithfulness_RF_shap_k = metrics(model=RF_model,X=X_test[100:,],shap_val=RF_shap_k,explainer_type=\"shap\",metrics_type=\"faithfulness\",dataset=\"dataset\")\n",
    "\n",
    "# monotonicity_LR_lime = metrics(model=LR_model,X=X_test[100:,],shap_val=LR_lime,explainer_type=\"lime\",metrics_type=\"monotonicity\",dataset=dataset)\n",
    "# monotonicity_RF_shap = metrics(model=RF_model,X=X_test[100:,],shap_val=RF_shap,explainer_type=\"shap\",metrics_type=\"monotonicity\",dataset=dataset)\n",
    "# monotoni"
   ]
  },
  {
   "cell_type": "code",
   "execution_count": 65,
   "metadata": {},
   "outputs": [
    {
     "data": {
      "text/plain": [
       "-0.13183368610140456"
      ]
     },
     "execution_count": 65,
     "metadata": {},
     "output_type": "execute_result"
    }
   ],
   "source": [
    "np.mean(np.array(faithfulness_LR_shap))"
   ]
  },
  {
   "cell_type": "code",
   "execution_count": 54,
   "metadata": {
    "id": "ufUZ02pVJ1Wq",
    "scrolled": true
   },
   "outputs": [
    {
     "data": {
      "image/png": "[encoded data removed]",
      "text/plain": [
       "<Figure size 432x288 with 1 Axes>"
      ]
     },
     "metadata": {
      "needs_background": "light"
     },
     "output_type": "display_data"
    }
   ],
   "source": [
    "faithfulness_LR_shap_k = metrics(model=LR_model,X=X_test[10:,],shap_val=LR_shap_k,explainer_type=\"kernel shap\",metrics_type=\"faithfulness\",dataset=\"dataset\")\n"
   ]
  },
  {
   "cell_type": "code",
   "execution_count": 66,
   "metadata": {},
   "outputs": [
    {
     "data": {
      "text/plain": [
       "-0.15884822922728817"
      ]
     },
     "execution_count": 66,
     "metadata": {},
     "output_type": "execute_result"
    }
   ],
   "source": [
    "np.mean(np.array(faithfulness_LR_shap_k))"
   ]
  },
  {
   "cell_type": "code",
   "execution_count": 56,
   "metadata": {
    "id": "hWCFv_ZZUjJb"
   },
   "outputs": [],
   "source": [
    "# LR_shap_k"
   ]
  },
  {
   "cell_type": "code",
   "execution_count": 57,
   "metadata": {
    "colab": {
     "base_uri": "https://localhost:8080/",
     "height": 513
    },
    "id": "9-C7gpUPUikY",
    "outputId": "d047f5f4-ada9-4b27-a5bf-3b3d59918f1c",
    "scrolled": true
   },
   "outputs": [
    {
     "data": {
      "image/png": "[encoded data removed]",
      "text/plain": [
       "<Figure size 432x288 with 1 Axes>"
      ]
     },
     "metadata": {
      "needs_background": "light"
     },
     "output_type": "display_data"
    },
    {
     "data": {
      "image/png": "[encoded data removed]",
      "text/plain": [
       "<Figure size 432x288 with 1 Axes>"
      ]
     },
     "metadata": {
      "needs_background": "light"
     },
     "output_type": "display_data"
    }
   ],
   "source": [
    "faithfulness_RF_shap = metrics(model=RF_model,X=X_test[10:,],shap_val=RF_shap,explainer_type=\"shap\",metrics_type=\"faithfulness\",dataset=\"dataset\")\n",
    "faithfulness_RF_shap_k = metrics(model=RF_model,X=X_test[10:,],shap_val=RF_shap_k,explainer_type=\"kernel shap\",metrics_type=\"faithfulness\",dataset=\"dataset\")\n"
   ]
  },
  {
   "cell_type": "code",
   "execution_count": 68,
   "metadata": {},
   "outputs": [
    {
     "data": {
      "text/plain": [
       "-0.0380167896335335"
      ]
     },
     "execution_count": 68,
     "metadata": {},
     "output_type": "execute_result"
    }
   ],
   "source": [
    "np.mean(np.array(faithfulness_RF_shap))"
   ]
  },
  {
   "cell_type": "code",
   "execution_count": 67,
   "metadata": {},
   "outputs": [
    {
     "data": {
      "text/plain": [
       "-0.04092136789680185"
      ]
     },
     "execution_count": 67,
     "metadata": {},
     "output_type": "execute_result"
    }
   ],
   "source": [
    "np.mean(np.array(faithfulness_RF_shap_k))"
   ]
  },
  {
   "cell_type": "code",
   "execution_count": 60,
   "metadata": {
    "colab": {
     "base_uri": "https://localhost:8080/",
     "height": 265
    },
    "id": "yKRs9yrzZLxx",
    "outputId": "a0afe0c9-8e0e-4219-9c5e-c2b3671e6ae8",
    "scrolled": false
   },
   "outputs": [
    {
     "data": {
      "image/png": "[encoded data removed]",
      "text/plain": [
       "<Figure size 432x288 with 1 Axes>"
      ]
     },
     "metadata": {
      "needs_background": "light"
     },
     "output_type": "display_data"
    }
   ],
   "source": [
    "# faithfulness_SVC_shap = metrics(model=SVC_model,X=X_testS[10:,],shap_val=SVC_shap,explainer_type=\"shap\",metrics_type=\"faithfulness\",dataset=\"\")\n",
    "faithfulness_LR_lime = metrics(model=LR_model,X=X_test[10:,],shap_val=LR_lime1,explainer_type=\"lime\",metrics_type=\"faithfulness\",dataset=\"dataset\")\n",
    "# faithfulness_RF_shap = metrics(model=RF_model,X=X_test[100:,],shap_val=RF_shap,explainer_type=\"shap\",metrics_type=\"faithfulness\",dataset=\"dataset\")\n",
    "# faithfulness_RF_lime = metrics(model=RF_model,X=X_test[100:,],shap_val=RF_lime,explainer_type=\"lime\",metrics_type=\"faithfulness\",dataset=dataset)\n",
    "# faithfulness_LR_shap_k = metrics(model=LR_model,X=X_test[100:,],shap_val=LR_shap_k,explainer_type=\"shap\",metrics_type=\"faithfulness\",dataset=\"dataset\")\n",
    "# faithfulness_RF_shap_k = metrics(model=RF_model,X=X_test[100:,],shap_val=RF_shap_k,explainer_type=\"shap\",metrics_type=\"faithfulness\",dataset=\"dataset\")\n",
    "\n",
    "# monotonicity_LR_lime = metrics(model=LR_model,X=X_test[100:,],shap_val=LR_lime,explainer_type=\"lime\",metrics_type=\"monotonicity\",dataset=dataset)\n",
    "# monotonicity_RF_shap = metrics(model=RF_model,X=X_test[100:,],shap_val=RF_shap,explainer_type=\"shap\",metrics_type=\"monotonicity\",dataset=dataset)\n",
    "# monotonicity_RF_lime = metrics(model=RF_model,X=X_test[100:,],shap_val=RF_lime,explainer_type=\"lime\",metrics_type=\"monotonicity\",dataset=dataset)\n"
   ]
  },
  {
   "cell_type": "code",
   "execution_count": 69,
   "metadata": {},
   "outputs": [
    {
     "data": {
      "text/plain": [
       "0.2153411196486147"
      ]
     },
     "execution_count": 69,
     "metadata": {},
     "output_type": "execute_result"
    }
   ],
   "source": [
    "np.mean(np.array(faithfulness_LR_lime))"
   ]
  },
  {
   "cell_type": "code",
   "execution_count": 71,
   "metadata": {},
   "outputs": [
    {
     "data": {
      "image/png": "[encoded data removed]",
      "text/plain": [
       "<Figure size 432x288 with 1 Axes>"
      ]
     },
     "metadata": {
      "needs_background": "light"
     },
     "output_type": "display_data"
    },
    {
     "data": {
      "text/plain": [
       "0.2153411196486147"
      ]
     },
     "execution_count": 71,
     "metadata": {},
     "output_type": "execute_result"
    }
   ],
   "source": [
    "faithfulness_RF_lime = metrics(model=LR_model,X=X_test[10:,],shap_val=RF_lime1,explainer_type=\"lime\",metrics_type=\"faithfulness\",dataset=\"dataset\")\n",
    "np.mean(np.array(faithfulness_RF_lime))"
   ]
  },
  {
   "cell_type": "code",
   "execution_count": 61,
   "metadata": {
    "id": "zduEeWJrXF-V"
   },
   "outputs": [
    {
     "data": {
      "text/plain": [
       "(13,)"
      ]
     },
     "execution_count": 61,
     "metadata": {},
     "output_type": "execute_result"
    }
   ],
   "source": [
    "LR_shap[0].shape"
   ]
  },
  {
   "cell_type": "code",
   "execution_count": 63,
   "metadata": {
    "id": "4zGGiwR4Mlrm"
   },
   "outputs": [],
   "source": [
    "x = X_test[0]\n",
    "coefs = LR_shap.values[0]\n",
    "base = np.mean(X_test,axis=0)\n",
    "\n",
    "# monotonicity(LR_model, x, coefs, base)"
   ]
  },
  {
   "cell_type": "code",
   "execution_count": null,
   "metadata": {
    "id": "4xNFlq0VML5e"
   },
   "outputs": [],
   "source": [
    "monotonicity_LR_shap = metrics(model=LR_model,X=X_test[100:,],shap_val=LR_shap,explainer_type=\"shap\",metrics_type=\"monotonicity\",dataset=\"dataset\")\n"
   ]
  },
  {
   "cell_type": "code",
   "execution_count": null,
   "metadata": {
    "id": "yutVL_lWMcMv"
   },
   "outputs": [],
   "source": [
    "monotonicity(model, x, coefs, base)"
   ]
  },
  {
   "cell_type": "code",
   "execution_count": null,
   "metadata": {
    "id": "WnJZID8iogbY"
   },
   "outputs": [],
   "source": [
    "# faithfulness_LR_shap = metrics(model=LR_model,X=X_test[100:,],shap_val=LR_shap,explainer_type=\"shap\",metrics_type=\"faithfulness\",dataset=dataset)\n",
    "faithfulness_LR_lime = metrics(model=LR_model,X=X_test[10:,],shap_val=LR_lime1,explainer_type=\"lime\",metrics_type=\"faithfulness\",dataset=dataset)\n",
    "# faithfulness_RF_shap = metrics(model=RF_model,X=X_test[100:,],shap_val=RF_shap,explainer_type=\"shap\",metrics_type=\"faithfulness\",dataset=dataset)\n",
    "faithfulness_RF_lime = metrics(model=RF_model,X=X_test[10:,],shap_val=RF_lime1,explainer_type=\"lime\",metrics_type=\"faithfulness\",dataset=dataset)\n",
    "# faithfulness_LR_shap_k = metrics(model=LR_model,X=X_test[100:,],shap_val=LR_shap_k,explainer_type=\"shap\",metrics_type=\"faithfulness\",dataset=dataset)\n",
    "# faithfulness_RF_shap_k = metrics(model=RF_model,X=X_test[100:,],shap_val=RF_shap_k,explainer_type=\"shap\",metrics_type=\"faithfulness\",dataset=dataset)\n",
    "\n",
    "# monotonicity_LR_shap = metrics(model=LR_model,X=X_test[100:,],shap_val=LR_shap,explainer_type=\"shap\",metrics_type=\"monotonicity\",dataset=dataset)\n",
    "# monotonicity_LR_lime = metrics(model=LR_model,X=X_test[100:,],shap_val=LR_lime,explainer_type=\"lime\",metrics_type=\"monotonicity\",dataset=dataset)\n",
    "# monotonicity_RF_shap = metrics(model=RF_model,X=X_test[100:,],shap_val=RF_shap,explainer_type=\"shap\",metrics_type=\"monotonicity\",dataset=dataset)\n",
    "# monotonicity_RF_lime = metrics(model=RF_model,X=X_test[100:,],shap_val=RF_lime,explainer_type=\"lime\",metrics_type=\"monotonicity\",dataset=dataset)\n"
   ]
  },
  {
   "cell_type": "code",
   "execution_count": null,
   "metadata": {
    "id": "Mwz0Hb_Yfpqw"
   },
   "outputs": [],
   "source": []
  },
  {
   "cell_type": "code",
   "execution_count": null,
   "metadata": {
    "id": "XuifC499YMqV"
   },
   "outputs": [],
   "source": [
    "def Main(dataset):\n",
    "  X,y = loadDataset(dataset)\n",
    "  sc = StandardScaler()\n",
    "  X_scaled = sc.fit_transform(X)\n",
    "  X_train,X_test,y_train,y_test = train_test_split(X,y)\n",
    "  X_trainS,X_testS,y_trainS,y_testS = train_test_split(X_scaled,y)\n",
    "  \n",
    "  LR_model = train_model(\"Logistic Regression\",X_train,y_train)\n",
    "  RF_model = train_model(\"Random Forest Classifier\",X_train,y_train)\n",
    "  SVC_model = train_model(\"SVC\",X_trainS,y_trainS)\n",
    "\n",
    "  print(\"====================================================================\")\n",
    "  print(\"Logistic Regression:\")\n",
    "  print('R2 for Train)', RF_model.score( X_train, y_train ))\n",
    "  print('R2 for Test (cross validation)', RF_model.score(X_test, y_test))\n",
    "  print(\"====================================================================\")\n",
    "  print(\"Random Forest Classifier:\")\n",
    "  print('R2 for Train)', LR_model.score( X_train, y_train ))\n",
    "  print('R2 for Test (cross validation)', LR_model.score(X_test, y_test)) \n",
    "  print(\"====================================================================\")\n",
    "  print(\"SVM Classifier:\")\n",
    "  print('R2 for Train)', SVC_model.score( X_trainS, y_trainS))\n",
    "  print(\"====================================================================\")\n",
    "  predict_fnLR = lambda x:LR_model.predict_proba(x)[:,1]\n",
    "  predict_fnRF = lambda x:RF_model.predict_proba(x)[:,1]\n",
    "  predict_fnSVC = SVC_model.decision_function \n",
    "\n",
    "  X100 = shap.maskers.Independent(X, max_samples=100)\n",
    "  X_100 = shap.utils.sample(X, 1000)\n",
    "  LR_shap,LR_baseVal = Explanation(\"SHAP\",LR_model,X_test.iloc[100:,],X100)\n",
    "  LR_shap_k,RF_expected_val_k = Explanation(\"Kernel SHAP\",LR_model,X_test.iloc[100:,],X100)\n",
    "  LR_lime1 = Explanation(\"LIME\",LR_model,X_test,X100)\n",
    "  LR_lime = Explanation(\"LIME-SHAP\",LR_model,X_test,X100)\n",
    "\n",
    "  RF_shap, RF_baseVal = Explanation(\"SHAP\",RF_model,X_test.iloc[100:,],X100)\n",
    "  RF_shap_k,RF_expected_val_k = Explanation(\"Kernel SHAP\",RF_model,X_test.iloc[100:,],X100)\n",
    "  RF_lime1 = Explanation(\"LIME\",RF_model,X_test,X100)\n",
    "  RF_lime = Explanation(\"LIME-SHAP\",RF_model,X_test,X100)\n",
    "\n",
    "  faithfulness_LR_shap = metrics(model=LR_model,X=X_test.iloc[100:,],shap_val=LR_shap,explainer_type=\"shap\",metrics_type=\"faithfulness\",dataset=dataset)\n",
    "  # faithfulness_LR_lime = metrics(model=LR_model,X=X_test.iloc[100:,],shap_val=LR_lime,explainer_type=\"lime\",metrics_type=\"faithfulness\",dataset=dataset)\n",
    "  faithfulness_RF_shap = metrics(model=RF_model,X=X_test.iloc[100:,],shap_val=RF_shap,explainer_type=\"shap\",metrics_type=\"faithfulness\",dataset=dataset)\n",
    "  # faithfulness_RF_lime = metrics(model=RF_model,X=X_test.iloc[100:,],shap_val=RF_lime,explainer_type=\"lime\",metrics_type=\"faithfulness\",dataset=dataset)\n",
    "  faithfulness_LR_shap_k = metrics(model=LR_model,X=X_test.iloc[100:,],shap_val=LR_shap_k,explainer_type=\"shap\",metrics_type=\"faithfulness\",dataset=dataset)\n",
    "  faithfulness_RF_shap_k = metrics(model=RF_model,X=X_test.iloc[100:,],shap_val=RF_shap_k,explainer_type=\"shap\",metrics_type=\"faithfulness\",dataset=dataset)\n",
    "\n",
    "  monotonicity_LR_shap = metrics(model=LR_model,X=X_test.iloc[100:,],shap_val=LR_shap,explainer_type=\"shap\",metrics_type=\"monotonicity\",dataset=dataset)\n",
    "  # monotonicity_LR_lime = metrics(model=LR_model,X=X_test.iloc[100:,],shap_val=LR_lime,explainer_type=\"lime\",metrics_type=\"monotonicity\",dataset=dataset)\n",
    "  monotonicity_RF_shap = metrics(model=RF_model,X=X_test.iloc[100:,],shap_val=RF_shap,explainer_type=\"shap\",metrics_type=\"monotonicity\",dataset=dataset)\n",
    "  # monotonicity_RF_lime = metrics(model=RF_model,X=X_test.iloc[100:,],shap_val=RF_lime,explainer_type=\"lime\",metrics_type=\"monotonicity\",dataset=dataset)\n",
    "\n",
    "\n",
    "  print(\"====================================================================\")\n",
    "  print(\"faithfulness for SHAP explainer for Linear regression\",faithfulness_LR_shap)\n",
    "  print(\"====================================================================\")\n",
    "  # print(\"faithfulness for lime explainer for Linear regression\",faithfulness_LR_lime)\n",
    "  print(\"====================================================================\")\n",
    "  print(\"faithfulness for SHAP explainer for Linear regression\",faithfulness_RF_shap)\n",
    "  print(\"====================================================================\")\n",
    "  # print(\"faithfulness for lime explainer for Linear regression\",faithfulness_RF_lime)\n",
    "  print(\"====================================================================\")\n",
    "  print(monotonicity_LR_shap)\n",
    "  print(\"====================================================================\")\n",
    "  # print(monotonicity_LR_lime.any())\n",
    "  print(\"====================================================================\")\n",
    "  print(monotonicity_RF_shap)\n",
    "  print(\"====================================================================\")\n",
    "  # print(monotonicity_RF_lime.any())\n",
    "  print(\"====================================================================\")\n",
    "#monotonicity_RF_lime,faithfulness_LR_lime,faithfulness_RF_lime,monotonicity_LR_lime\n",
    "  return faithfulness_RF_shap,monotonicity_LR_shap,monotonicity_RF_shap,faithfulness_LR_shap"
   ]
  },
  {
   "cell_type": "code",
   "execution_count": null,
   "metadata": {
    "id": "FHxgtec1aljv"
   },
   "outputs": [],
   "source": []
  },
  {
   "cell_type": "code",
   "execution_count": null,
   "metadata": {
    "id": "uLJSaLZfR2eC"
   },
   "outputs": [],
   "source": []
  }
 ],
 "metadata": {
  "colab": {
   "collapsed_sections": [],
   "name": "Copy of Classification Sorted1.ipynb",
   "provenance": []
  },
  "kernelspec": {
   "display_name": "Python 3",
   "language": "python",
   "name": "python3"
  },
  "language_info": {
   "codemirror_mode": {
    "name": "ipython",
    "version": 3
   },
   "file_extension": ".py",
   "mimetype": "text/x-python",
   "name": "python",
   "nbconvert_exporter": "python",
   "pygments_lexer": "ipython3",
   "version": "3.6.9"
  },
  "widgets": {
   "application/vnd.jupyter.widget-state+json": {
    "021298ab8a394a4f9ac10124645a8049": {
     "model_module": "@jupyter-widgets/base",
     "model_module_version": "1.2.0",
     "model_name": "LayoutModel",
     "state": {
      "_model_module": "@jupyter-widgets/base",
      "_model_module_version": "1.2.0",
      "_model_name": "LayoutModel",
      "_view_count": null,
      "_view_module": "@jupyter-widgets/base",
      "_view_module_version": "1.2.0",
      "_view_name": "LayoutView",
      "align_content": null,
      "align_items": null,
      "align_self": null,
      "border": null,
      "bottom": null,
      "display": null,
      "flex": null,
      "flex_flow": null,
      "grid_area": null,
      "grid_auto_columns": null,
      "grid_auto_flow": null,
      "grid_auto_rows": null,
      "grid_column": null,
      "grid_gap": null,
      "grid_row": null,
      "grid_template_areas": null,
      "grid_template_columns": null,
      "grid_template_rows": null,
      "height": null,
      "justify_content": null,
      "justify_items": null,
      "left": null,
      "margin": null,
      "max_height": null,
      "max_width": null,
      "min_height": null,
      "min_width": null,
      "object_fit": null,
      "object_position": null,
      "order": null,
      "overflow": null,
      "overflow_x": null,
      "overflow_y": null,
      "padding": null,
      "right": null,
      "top": null,
      "visibility": null,
      "width": null
     }
    },
    "0a3bec78d9094c98afad9f96acdb9a89": {
     "model_module": "@jupyter-widgets/controls",
     "model_module_version": "1.5.0",
     "model_name": "HTMLModel",
     "state": {
      "_dom_classes": [],
      "_model_module": "@jupyter-widgets/controls",
      "_model_module_version": "1.5.0",
      "_model_name": "HTMLModel",
      "_view_count": null,
      "_view_module": "@jupyter-widgets/controls",
      "_view_module_version": "1.5.0",
      "_view_name": "HTMLView",
      "description": "",
      "description_tooltip": null,
      "layout": "IPY_MODEL_9082d964f2e04d939cb84b368c9bbc84",
      "placeholder": "​",
      "style": "IPY_MODEL_4e4b4398c3d74c5eaf3e5bcd4d28b34a",
      "value": "100%"
     }
    },
    "160d400cf5894cb8bc5e45a179ca6420": {
     "model_module": "@jupyter-widgets/controls",
     "model_module_version": "1.5.0",
     "model_name": "HBoxModel",
     "state": {
      "_dom_classes": [],
      "_model_module": "@jupyter-widgets/controls",
      "_model_module_version": "1.5.0",
      "_model_name": "HBoxModel",
      "_view_count": null,
      "_view_module": "@jupyter-widgets/controls",
      "_view_module_version": "1.5.0",
      "_view_name": "HBoxView",
      "box_style": "",
      "children": [
       "IPY_MODEL_cc6ff8f32b0c442e859c330291e471f0",
       "IPY_MODEL_6cc376fb246f4b24989bf1f69b4fc448",
       "IPY_MODEL_74ef79ad2dc74a4fa6ca4837b783ccbb"
      ],
      "layout": "IPY_MODEL_d3dc6f267ab342669925e6c7003c1967"
     }
    },
    "162bcda80ce849a4bea6a9305e26da99": {
     "model_module": "@jupyter-widgets/base",
     "model_module_version": "1.2.0",
     "model_name": "LayoutModel",
     "state": {
      "_model_module": "@jupyter-widgets/base",
      "_model_module_version": "1.2.0",
      "_model_name": "LayoutModel",
      "_view_count": null,
      "_view_module": "@jupyter-widgets/base",
      "_view_module_version": "1.2.0",
      "_view_name": "LayoutView",
      "align_content": null,
      "align_items": null,
      "align_self": null,
      "border": null,
      "bottom": null,
      "display": null,
      "flex": null,
      "flex_flow": null,
      "grid_area": null,
      "grid_auto_columns": null,
      "grid_auto_flow": null,
      "grid_auto_rows": null,
      "grid_column": null,
      "grid_gap": null,
      "grid_row": null,
      "grid_template_areas": null,
      "grid_template_columns": null,
      "grid_template_rows": null,
      "height": null,
      "justify_content": null,
      "justify_items": null,
      "left": null,
      "margin": null,
      "max_height": null,
      "max_width": null,
      "min_height": null,
      "min_width": null,
      "object_fit": null,
      "object_position": null,
      "order": null,
      "overflow": null,
      "overflow_x": null,
      "overflow_y": null,
      "padding": null,
      "right": null,
      "top": null,
      "visibility": null,
      "width": null
     }
    },
    "18d938dd12da4106995c7c9b6bb48adc": {
     "model_module": "@jupyter-widgets/controls",
     "model_module_version": "1.5.0",
     "model_name": "HTMLModel",
     "state": {
      "_dom_classes": [],
      "_model_module": "@jupyter-widgets/controls",
      "_model_module_version": "1.5.0",
      "_model_name": "HTMLModel",
      "_view_count": null,
      "_view_module": "@jupyter-widgets/controls",
      "_view_module_version": "1.5.0",
      "_view_name": "HTMLView",
      "description": "",
      "description_tooltip": null,
      "layout": "IPY_MODEL_82cd9960ec3e40fbb244dec0f2b86eae",
      "placeholder": "​",
      "style": "IPY_MODEL_8fd7e5af873843b4a830126fb8742331",
      "value": " 12/35 [00:30&lt;00:57,  2.51s/it]"
     }
    },
    "18e08b4879f44c1d95f2a411f0aa789a": {
     "model_module": "@jupyter-widgets/base",
     "model_module_version": "1.2.0",
     "model_name": "LayoutModel",
     "state": {
      "_model_module": "@jupyter-widgets/base",
      "_model_module_version": "1.2.0",
      "_model_name": "LayoutModel",
      "_view_count": null,
      "_view_module": "@jupyter-widgets/base",
      "_view_module_version": "1.2.0",
      "_view_name": "LayoutView",
      "align_content": null,
      "align_items": null,
      "align_self": null,
      "border": null,
      "bottom": null,
      "display": null,
      "flex": null,
      "flex_flow": null,
      "grid_area": null,
      "grid_auto_columns": null,
      "grid_auto_flow": null,
      "grid_auto_rows": null,
      "grid_column": null,
      "grid_gap": null,
      "grid_row": null,
      "grid_template_areas": null,
      "grid_template_columns": null,
      "grid_template_rows": null,
      "height": null,
      "justify_content": null,
      "justify_items": null,
      "left": null,
      "margin": null,
      "max_height": null,
      "max_width": null,
      "min_height": null,
      "min_width": null,
      "object_fit": null,
      "object_position": null,
      "order": null,
      "overflow": null,
      "overflow_x": null,
      "overflow_y": null,
      "padding": null,
      "right": null,
      "top": null,
      "visibility": null,
      "width": null
     }
    },
    "1eaf1758e9f0446fa1851ba9b403f80b": {
     "model_module": "@jupyter-widgets/controls",
     "model_module_version": "1.5.0",
     "model_name": "ProgressStyleModel",
     "state": {
      "_model_module": "@jupyter-widgets/controls",
      "_model_module_version": "1.5.0",
      "_model_name": "ProgressStyleModel",
      "_view_count": null,
      "_view_module": "@jupyter-widgets/base",
      "_view_module_version": "1.2.0",
      "_view_name": "StyleView",
      "bar_color": null,
      "description_width": ""
     }
    },
    "279ba8f7bbdf471a8d81a17e0c5dc3ae": {
     "model_module": "@jupyter-widgets/base",
     "model_module_version": "1.2.0",
     "model_name": "LayoutModel",
     "state": {
      "_model_module": "@jupyter-widgets/base",
      "_model_module_version": "1.2.0",
      "_model_name": "LayoutModel",
      "_view_count": null,
      "_view_module": "@jupyter-widgets/base",
      "_view_module_version": "1.2.0",
      "_view_name": "LayoutView",
      "align_content": null,
      "align_items": null,
      "align_self": null,
      "border": null,
      "bottom": null,
      "display": null,
      "flex": null,
      "flex_flow": null,
      "grid_area": null,
      "grid_auto_columns": null,
      "grid_auto_flow": null,
      "grid_auto_rows": null,
      "grid_column": null,
      "grid_gap": null,
      "grid_row": null,
      "grid_template_areas": null,
      "grid_template_columns": null,
      "grid_template_rows": null,
      "height": null,
      "justify_content": null,
      "justify_items": null,
      "left": null,
      "margin": null,
      "max_height": null,
      "max_width": null,
      "min_height": null,
      "min_width": null,
      "object_fit": null,
      "object_position": null,
      "order": null,
      "overflow": null,
      "overflow_x": null,
      "overflow_y": null,
      "padding": null,
      "right": null,
      "top": null,
      "visibility": null,
      "width": null
     }
    },
    "337a64444ff34d01afc19a094c4edbd9": {
     "model_module": "@jupyter-widgets/controls",
     "model_module_version": "1.5.0",
     "model_name": "ProgressStyleModel",
     "state": {
      "_model_module": "@jupyter-widgets/controls",
      "_model_module_version": "1.5.0",
      "_model_name": "ProgressStyleModel",
      "_view_count": null,
      "_view_module": "@jupyter-widgets/base",
      "_view_module_version": "1.2.0",
      "_view_name": "StyleView",
      "bar_color": null,
      "description_width": ""
     }
    },
    "38f30df3f3f441ebba71a1d4b3205a26": {
     "model_module": "@jupyter-widgets/controls",
     "model_module_version": "1.5.0",
     "model_name": "HTMLModel",
     "state": {
      "_dom_classes": [],
      "_model_module": "@jupyter-widgets/controls",
      "_model_module_version": "1.5.0",
      "_model_name": "HTMLModel",
      "_view_count": null,
      "_view_module": "@jupyter-widgets/controls",
      "_view_module_version": "1.5.0",
      "_view_name": "HTMLView",
      "description": "",
      "description_tooltip": null,
      "layout": "IPY_MODEL_7e11a7689077498296035cc731a15228",
      "placeholder": "​",
      "style": "IPY_MODEL_544e513adb5d43f4a1d043ea90c1ed9f",
      "value": " 34%"
     }
    },
    "4e4b4398c3d74c5eaf3e5bcd4d28b34a": {
     "model_module": "@jupyter-widgets/controls",
     "model_module_version": "1.5.0",
     "model_name": "DescriptionStyleModel",
     "state": {
      "_model_module": "@jupyter-widgets/controls",
      "_model_module_version": "1.5.0",
      "_model_name": "DescriptionStyleModel",
      "_view_count": null,
      "_view_module": "@jupyter-widgets/base",
      "_view_module_version": "1.2.0",
      "_view_name": "StyleView",
      "description_width": ""
     }
    },
    "503a97c95e8341a5854d7b0e5dfe24dd": {
     "model_module": "@jupyter-widgets/base",
     "model_module_version": "1.2.0",
     "model_name": "LayoutModel",
     "state": {
      "_model_module": "@jupyter-widgets/base",
      "_model_module_version": "1.2.0",
      "_model_name": "LayoutModel",
      "_view_count": null,
      "_view_module": "@jupyter-widgets/base",
      "_view_module_version": "1.2.0",
      "_view_name": "LayoutView",
      "align_content": null,
      "align_items": null,
      "align_self": null,
      "border": null,
      "bottom": null,
      "display": null,
      "flex": null,
      "flex_flow": null,
      "grid_area": null,
      "grid_auto_columns": null,
      "grid_auto_flow": null,
      "grid_auto_rows": null,
      "grid_column": null,
      "grid_gap": null,
      "grid_row": null,
      "grid_template_areas": null,
      "grid_template_columns": null,
      "grid_template_rows": null,
      "height": null,
      "justify_content": null,
      "justify_items": null,
      "left": null,
      "margin": null,
      "max_height": null,
      "max_width": null,
      "min_height": null,
      "min_width": null,
      "object_fit": null,
      "object_position": null,
      "order": null,
      "overflow": null,
      "overflow_x": null,
      "overflow_y": null,
      "padding": null,
      "right": null,
      "top": null,
      "visibility": null,
      "width": null
     }
    },
    "544e513adb5d43f4a1d043ea90c1ed9f": {
     "model_module": "@jupyter-widgets/controls",
     "model_module_version": "1.5.0",
     "model_name": "DescriptionStyleModel",
     "state": {
      "_model_module": "@jupyter-widgets/controls",
      "_model_module_version": "1.5.0",
      "_model_name": "DescriptionStyleModel",
      "_view_count": null,
      "_view_module": "@jupyter-widgets/base",
      "_view_module_version": "1.2.0",
      "_view_name": "StyleView",
      "description_width": ""
     }
    },
    "5625f22f9e9248d5b1d46a58c2166988": {
     "model_module": "@jupyter-widgets/controls",
     "model_module_version": "1.5.0",
     "model_name": "DescriptionStyleModel",
     "state": {
      "_model_module": "@jupyter-widgets/controls",
      "_model_module_version": "1.5.0",
      "_model_name": "DescriptionStyleModel",
      "_view_count": null,
      "_view_module": "@jupyter-widgets/base",
      "_view_module_version": "1.2.0",
      "_view_name": "StyleView",
      "description_width": ""
     }
    },
    "566f6034008c4231b450fb08565075d6": {
     "model_module": "@jupyter-widgets/controls",
     "model_module_version": "1.5.0",
     "model_name": "DescriptionStyleModel",
     "state": {
      "_model_module": "@jupyter-widgets/controls",
      "_model_module_version": "1.5.0",
      "_model_name": "DescriptionStyleModel",
      "_view_count": null,
      "_view_module": "@jupyter-widgets/base",
      "_view_module_version": "1.2.0",
      "_view_name": "StyleView",
      "description_width": ""
     }
    },
    "63743e39e6574e7da2f2ce60027d2e9d": {
     "model_module": "@jupyter-widgets/controls",
     "model_module_version": "1.5.0",
     "model_name": "DescriptionStyleModel",
     "state": {
      "_model_module": "@jupyter-widgets/controls",
      "_model_module_version": "1.5.0",
      "_model_name": "DescriptionStyleModel",
      "_view_count": null,
      "_view_module": "@jupyter-widgets/base",
      "_view_module_version": "1.2.0",
      "_view_name": "StyleView",
      "description_width": ""
     }
    },
    "6cc376fb246f4b24989bf1f69b4fc448": {
     "model_module": "@jupyter-widgets/controls",
     "model_module_version": "1.5.0",
     "model_name": "FloatProgressModel",
     "state": {
      "_dom_classes": [],
      "_model_module": "@jupyter-widgets/controls",
      "_model_module_version": "1.5.0",
      "_model_name": "FloatProgressModel",
      "_view_count": null,
      "_view_module": "@jupyter-widgets/controls",
      "_view_module_version": "1.5.0",
      "_view_name": "ProgressView",
      "bar_style": "success",
      "description": "",
      "description_tooltip": null,
      "layout": "IPY_MODEL_fdf6cfcba8ac4b3a81980c489494d21f",
      "max": 35,
      "min": 0,
      "orientation": "horizontal",
      "style": "IPY_MODEL_337a64444ff34d01afc19a094c4edbd9",
      "value": 35
     }
    },
    "72f2662dc57c4b5abbccecadec6a78f4": {
     "model_module": "@jupyter-widgets/base",
     "model_module_version": "1.2.0",
     "model_name": "LayoutModel",
     "state": {
      "_model_module": "@jupyter-widgets/base",
      "_model_module_version": "1.2.0",
      "_model_name": "LayoutModel",
      "_view_count": null,
      "_view_module": "@jupyter-widgets/base",
      "_view_module_version": "1.2.0",
      "_view_name": "LayoutView",
      "align_content": null,
      "align_items": null,
      "align_self": null,
      "border": null,
      "bottom": null,
      "display": null,
      "flex": null,
      "flex_flow": null,
      "grid_area": null,
      "grid_auto_columns": null,
      "grid_auto_flow": null,
      "grid_auto_rows": null,
      "grid_column": null,
      "grid_gap": null,
      "grid_row": null,
      "grid_template_areas": null,
      "grid_template_columns": null,
      "grid_template_rows": null,
      "height": null,
      "justify_content": null,
      "justify_items": null,
      "left": null,
      "margin": null,
      "max_height": null,
      "max_width": null,
      "min_height": null,
      "min_width": null,
      "object_fit": null,
      "object_position": null,
      "order": null,
      "overflow": null,
      "overflow_x": null,
      "overflow_y": null,
      "padding": null,
      "right": null,
      "top": null,
      "visibility": null,
      "width": null
     }
    },
    "74ef79ad2dc74a4fa6ca4837b783ccbb": {
     "model_module": "@jupyter-widgets/controls",
     "model_module_version": "1.5.0",
     "model_name": "HTMLModel",
     "state": {
      "_dom_classes": [],
      "_model_module": "@jupyter-widgets/controls",
      "_model_module_version": "1.5.0",
      "_model_name": "HTMLModel",
      "_view_count": null,
      "_view_module": "@jupyter-widgets/controls",
      "_view_module_version": "1.5.0",
      "_view_name": "HTMLView",
      "description": "",
      "description_tooltip": null,
      "layout": "IPY_MODEL_b3e2fa0544d74656a610780983434e19",
      "placeholder": "​",
      "style": "IPY_MODEL_d2adc350fb024f58b3d2b43248a778fd",
      "value": " 35/35 [02:11&lt;00:00,  3.77s/it]"
     }
    },
    "77af77ed10c643a4ae44c27c045bbcf1": {
     "model_module": "@jupyter-widgets/controls",
     "model_module_version": "1.5.0",
     "model_name": "HTMLModel",
     "state": {
      "_dom_classes": [],
      "_model_module": "@jupyter-widgets/controls",
      "_model_module_version": "1.5.0",
      "_model_name": "HTMLModel",
      "_view_count": null,
      "_view_module": "@jupyter-widgets/controls",
      "_view_module_version": "1.5.0",
      "_view_name": "HTMLView",
      "description": "",
      "description_tooltip": null,
      "layout": "IPY_MODEL_b40ff12d19d0469fa14a53a768b7b68b",
      "placeholder": "​",
      "style": "IPY_MODEL_566f6034008c4231b450fb08565075d6",
      "value": " 35/35 [00:35&lt;00:00,  1.01it/s]"
     }
    },
    "7e11a7689077498296035cc731a15228": {
     "model_module": "@jupyter-widgets/base",
     "model_module_version": "1.2.0",
     "model_name": "LayoutModel",
     "state": {
      "_model_module": "@jupyter-widgets/base",
      "_model_module_version": "1.2.0",
      "_model_name": "LayoutModel",
      "_view_count": null,
      "_view_module": "@jupyter-widgets/base",
      "_view_module_version": "1.2.0",
      "_view_name": "LayoutView",
      "align_content": null,
      "align_items": null,
      "align_self": null,
      "border": null,
      "bottom": null,
      "display": null,
      "flex": null,
      "flex_flow": null,
      "grid_area": null,
      "grid_auto_columns": null,
      "grid_auto_flow": null,
      "grid_auto_rows": null,
      "grid_column": null,
      "grid_gap": null,
      "grid_row": null,
      "grid_template_areas": null,
      "grid_template_columns": null,
      "grid_template_rows": null,
      "height": null,
      "justify_content": null,
      "justify_items": null,
      "left": null,
      "margin": null,
      "max_height": null,
      "max_width": null,
      "min_height": null,
      "min_width": null,
      "object_fit": null,
      "object_position": null,
      "order": null,
      "overflow": null,
      "overflow_x": null,
      "overflow_y": null,
      "padding": null,
      "right": null,
      "top": null,
      "visibility": null,
      "width": null
     }
    },
    "82cd9960ec3e40fbb244dec0f2b86eae": {
     "model_module": "@jupyter-widgets/base",
     "model_module_version": "1.2.0",
     "model_name": "LayoutModel",
     "state": {
      "_model_module": "@jupyter-widgets/base",
      "_model_module_version": "1.2.0",
      "_model_name": "LayoutModel",
      "_view_count": null,
      "_view_module": "@jupyter-widgets/base",
      "_view_module_version": "1.2.0",
      "_view_name": "LayoutView",
      "align_content": null,
      "align_items": null,
      "align_self": null,
      "border": null,
      "bottom": null,
      "display": null,
      "flex": null,
      "flex_flow": null,
      "grid_area": null,
      "grid_auto_columns": null,
      "grid_auto_flow": null,
      "grid_auto_rows": null,
      "grid_column": null,
      "grid_gap": null,
      "grid_row": null,
      "grid_template_areas": null,
      "grid_template_columns": null,
      "grid_template_rows": null,
      "height": null,
      "justify_content": null,
      "justify_items": null,
      "left": null,
      "margin": null,
      "max_height": null,
      "max_width": null,
      "min_height": null,
      "min_width": null,
      "object_fit": null,
      "object_position": null,
      "order": null,
      "overflow": null,
      "overflow_x": null,
      "overflow_y": null,
      "padding": null,
      "right": null,
      "top": null,
      "visibility": null,
      "width": null
     }
    },
    "839792f21fcc4bc89ef943c50f3b69c1": {
     "model_module": "@jupyter-widgets/controls",
     "model_module_version": "1.5.0",
     "model_name": "ProgressStyleModel",
     "state": {
      "_model_module": "@jupyter-widgets/controls",
      "_model_module_version": "1.5.0",
      "_model_name": "ProgressStyleModel",
      "_view_count": null,
      "_view_module": "@jupyter-widgets/base",
      "_view_module_version": "1.2.0",
      "_view_name": "StyleView",
      "bar_color": null,
      "description_width": ""
     }
    },
    "8fd7e5af873843b4a830126fb8742331": {
     "model_module": "@jupyter-widgets/controls",
     "model_module_version": "1.5.0",
     "model_name": "DescriptionStyleModel",
     "state": {
      "_model_module": "@jupyter-widgets/controls",
      "_model_module_version": "1.5.0",
      "_model_name": "DescriptionStyleModel",
      "_view_count": null,
      "_view_module": "@jupyter-widgets/base",
      "_view_module_version": "1.2.0",
      "_view_name": "StyleView",
      "description_width": ""
     }
    },
    "9082d964f2e04d939cb84b368c9bbc84": {
     "model_module": "@jupyter-widgets/base",
     "model_module_version": "1.2.0",
     "model_name": "LayoutModel",
     "state": {
      "_model_module": "@jupyter-widgets/base",
      "_model_module_version": "1.2.0",
      "_model_name": "LayoutModel",
      "_view_count": null,
      "_view_module": "@jupyter-widgets/base",
      "_view_module_version": "1.2.0",
      "_view_name": "LayoutView",
      "align_content": null,
      "align_items": null,
      "align_self": null,
      "border": null,
      "bottom": null,
      "display": null,
      "flex": null,
      "flex_flow": null,
      "grid_area": null,
      "grid_auto_columns": null,
      "grid_auto_flow": null,
      "grid_auto_rows": null,
      "grid_column": null,
      "grid_gap": null,
      "grid_row": null,
      "grid_template_areas": null,
      "grid_template_columns": null,
      "grid_template_rows": null,
      "height": null,
      "justify_content": null,
      "justify_items": null,
      "left": null,
      "margin": null,
      "max_height": null,
      "max_width": null,
      "min_height": null,
      "min_width": null,
      "object_fit": null,
      "object_position": null,
      "order": null,
      "overflow": null,
      "overflow_x": null,
      "overflow_y": null,
      "padding": null,
      "right": null,
      "top": null,
      "visibility": null,
      "width": null
     }
    },
    "95864384b7404946ab8747f050163616": {
     "model_module": "@jupyter-widgets/base",
     "model_module_version": "1.2.0",
     "model_name": "LayoutModel",
     "state": {
      "_model_module": "@jupyter-widgets/base",
      "_model_module_version": "1.2.0",
      "_model_name": "LayoutModel",
      "_view_count": null,
      "_view_module": "@jupyter-widgets/base",
      "_view_module_version": "1.2.0",
      "_view_name": "LayoutView",
      "align_content": null,
      "align_items": null,
      "align_self": null,
      "border": null,
      "bottom": null,
      "display": null,
      "flex": null,
      "flex_flow": null,
      "grid_area": null,
      "grid_auto_columns": null,
      "grid_auto_flow": null,
      "grid_auto_rows": null,
      "grid_column": null,
      "grid_gap": null,
      "grid_row": null,
      "grid_template_areas": null,
      "grid_template_columns": null,
      "grid_template_rows": null,
      "height": null,
      "justify_content": null,
      "justify_items": null,
      "left": null,
      "margin": null,
      "max_height": null,
      "max_width": null,
      "min_height": null,
      "min_width": null,
      "object_fit": null,
      "object_position": null,
      "order": null,
      "overflow": null,
      "overflow_x": null,
      "overflow_y": null,
      "padding": null,
      "right": null,
      "top": null,
      "visibility": null,
      "width": null
     }
    },
    "969280785e6c4c6eacd8c558001bf928": {
     "model_module": "@jupyter-widgets/controls",
     "model_module_version": "1.5.0",
     "model_name": "DescriptionStyleModel",
     "state": {
      "_model_module": "@jupyter-widgets/controls",
      "_model_module_version": "1.5.0",
      "_model_name": "DescriptionStyleModel",
      "_view_count": null,
      "_view_module": "@jupyter-widgets/base",
      "_view_module_version": "1.2.0",
      "_view_name": "StyleView",
      "description_width": ""
     }
    },
    "99ac208fcd544253bc047a0ccd926892": {
     "model_module": "@jupyter-widgets/controls",
     "model_module_version": "1.5.0",
     "model_name": "HBoxModel",
     "state": {
      "_dom_classes": [],
      "_model_module": "@jupyter-widgets/controls",
      "_model_module_version": "1.5.0",
      "_model_name": "HBoxModel",
      "_view_count": null,
      "_view_module": "@jupyter-widgets/controls",
      "_view_module_version": "1.5.0",
      "_view_name": "HBoxView",
      "box_style": "",
      "children": [
       "IPY_MODEL_a68b205948e648d98f0512d3279b0d0e",
       "IPY_MODEL_bddc36ff9ab6414a804b2f5a1fa577b0",
       "IPY_MODEL_b0b8b0c360b746af884778e5c6d7ab90"
      ],
      "layout": "IPY_MODEL_162bcda80ce849a4bea6a9305e26da99"
     }
    },
    "a27df1d3c53049978014da57683fecfc": {
     "model_module": "@jupyter-widgets/base",
     "model_module_version": "1.2.0",
     "model_name": "LayoutModel",
     "state": {
      "_model_module": "@jupyter-widgets/base",
      "_model_module_version": "1.2.0",
      "_model_name": "LayoutModel",
      "_view_count": null,
      "_view_module": "@jupyter-widgets/base",
      "_view_module_version": "1.2.0",
      "_view_name": "LayoutView",
      "align_content": null,
      "align_items": null,
      "align_self": null,
      "border": null,
      "bottom": null,
      "display": null,
      "flex": null,
      "flex_flow": null,
      "grid_area": null,
      "grid_auto_columns": null,
      "grid_auto_flow": null,
      "grid_auto_rows": null,
      "grid_column": null,
      "grid_gap": null,
      "grid_row": null,
      "grid_template_areas": null,
      "grid_template_columns": null,
      "grid_template_rows": null,
      "height": null,
      "justify_content": null,
      "justify_items": null,
      "left": null,
      "margin": null,
      "max_height": null,
      "max_width": null,
      "min_height": null,
      "min_width": null,
      "object_fit": null,
      "object_position": null,
      "order": null,
      "overflow": null,
      "overflow_x": null,
      "overflow_y": null,
      "padding": null,
      "right": null,
      "top": null,
      "visibility": null,
      "width": null
     }
    },
    "a68b205948e648d98f0512d3279b0d0e": {
     "model_module": "@jupyter-widgets/controls",
     "model_module_version": "1.5.0",
     "model_name": "HTMLModel",
     "state": {
      "_dom_classes": [],
      "_model_module": "@jupyter-widgets/controls",
      "_model_module_version": "1.5.0",
      "_model_name": "HTMLModel",
      "_view_count": null,
      "_view_module": "@jupyter-widgets/controls",
      "_view_module_version": "1.5.0",
      "_view_name": "HTMLView",
      "description": "",
      "description_tooltip": null,
      "layout": "IPY_MODEL_c748524ef78c4aa78f64fc527f6ef005",
      "placeholder": "​",
      "style": "IPY_MODEL_969280785e6c4c6eacd8c558001bf928",
      "value": "100%"
     }
    },
    "b0b8b0c360b746af884778e5c6d7ab90": {
     "model_module": "@jupyter-widgets/controls",
     "model_module_version": "1.5.0",
     "model_name": "HTMLModel",
     "state": {
      "_dom_classes": [],
      "_model_module": "@jupyter-widgets/controls",
      "_model_module_version": "1.5.0",
      "_model_name": "HTMLModel",
      "_view_count": null,
      "_view_module": "@jupyter-widgets/controls",
      "_view_module_version": "1.5.0",
      "_view_name": "HTMLView",
      "description": "",
      "description_tooltip": null,
      "layout": "IPY_MODEL_021298ab8a394a4f9ac10124645a8049",
      "placeholder": "​",
      "style": "IPY_MODEL_63743e39e6574e7da2f2ce60027d2e9d",
      "value": " 35/35 [00:57&lt;00:00,  1.65s/it]"
     }
    },
    "b3e2fa0544d74656a610780983434e19": {
     "model_module": "@jupyter-widgets/base",
     "model_module_version": "1.2.0",
     "model_name": "LayoutModel",
     "state": {
      "_model_module": "@jupyter-widgets/base",
      "_model_module_version": "1.2.0",
      "_model_name": "LayoutModel",
      "_view_count": null,
      "_view_module": "@jupyter-widgets/base",
      "_view_module_version": "1.2.0",
      "_view_name": "LayoutView",
      "align_content": null,
      "align_items": null,
      "align_self": null,
      "border": null,
      "bottom": null,
      "display": null,
      "flex": null,
      "flex_flow": null,
      "grid_area": null,
      "grid_auto_columns": null,
      "grid_auto_flow": null,
      "grid_auto_rows": null,
      "grid_column": null,
      "grid_gap": null,
      "grid_row": null,
      "grid_template_areas": null,
      "grid_template_columns": null,
      "grid_template_rows": null,
      "height": null,
      "justify_content": null,
      "justify_items": null,
      "left": null,
      "margin": null,
      "max_height": null,
      "max_width": null,
      "min_height": null,
      "min_width": null,
      "object_fit": null,
      "object_position": null,
      "order": null,
      "overflow": null,
      "overflow_x": null,
      "overflow_y": null,
      "padding": null,
      "right": null,
      "top": null,
      "visibility": null,
      "width": null
     }
    },
    "b40ff12d19d0469fa14a53a768b7b68b": {
     "model_module": "@jupyter-widgets/base",
     "model_module_version": "1.2.0",
     "model_name": "LayoutModel",
     "state": {
      "_model_module": "@jupyter-widgets/base",
      "_model_module_version": "1.2.0",
      "_model_name": "LayoutModel",
      "_view_count": null,
      "_view_module": "@jupyter-widgets/base",
      "_view_module_version": "1.2.0",
      "_view_name": "LayoutView",
      "align_content": null,
      "align_items": null,
      "align_self": null,
      "border": null,
      "bottom": null,
      "display": null,
      "flex": null,
      "flex_flow": null,
      "grid_area": null,
      "grid_auto_columns": null,
      "grid_auto_flow": null,
      "grid_auto_rows": null,
      "grid_column": null,
      "grid_gap": null,
      "grid_row": null,
      "grid_template_areas": null,
      "grid_template_columns": null,
      "grid_template_rows": null,
      "height": null,
      "justify_content": null,
      "justify_items": null,
      "left": null,
      "margin": null,
      "max_height": null,
      "max_width": null,
      "min_height": null,
      "min_width": null,
      "object_fit": null,
      "object_position": null,
      "order": null,
      "overflow": null,
      "overflow_x": null,
      "overflow_y": null,
      "padding": null,
      "right": null,
      "top": null,
      "visibility": null,
      "width": null
     }
    },
    "ba5714339ae54d678747bcbc307a107c": {
     "model_module": "@jupyter-widgets/controls",
     "model_module_version": "1.5.0",
     "model_name": "HBoxModel",
     "state": {
      "_dom_classes": [],
      "_model_module": "@jupyter-widgets/controls",
      "_model_module_version": "1.5.0",
      "_model_name": "HBoxModel",
      "_view_count": null,
      "_view_module": "@jupyter-widgets/controls",
      "_view_module_version": "1.5.0",
      "_view_name": "HBoxView",
      "box_style": "",
      "children": [
       "IPY_MODEL_0a3bec78d9094c98afad9f96acdb9a89",
       "IPY_MODEL_ce02c13c02274b3f9765783f6ef4a645",
       "IPY_MODEL_77af77ed10c643a4ae44c27c045bbcf1"
      ],
      "layout": "IPY_MODEL_72f2662dc57c4b5abbccecadec6a78f4"
     }
    },
    "bc62848a1cad4537a7d4fd2cf831167a": {
     "model_module": "@jupyter-widgets/controls",
     "model_module_version": "1.5.0",
     "model_name": "FloatProgressModel",
     "state": {
      "_dom_classes": [],
      "_model_module": "@jupyter-widgets/controls",
      "_model_module_version": "1.5.0",
      "_model_name": "FloatProgressModel",
      "_view_count": null,
      "_view_module": "@jupyter-widgets/controls",
      "_view_module_version": "1.5.0",
      "_view_name": "ProgressView",
      "bar_style": "",
      "description": "",
      "description_tooltip": null,
      "layout": "IPY_MODEL_279ba8f7bbdf471a8d81a17e0c5dc3ae",
      "max": 35,
      "min": 0,
      "orientation": "horizontal",
      "style": "IPY_MODEL_f9921c30813b427eaa900dc074d7a318",
      "value": 12
     }
    },
    "bddc36ff9ab6414a804b2f5a1fa577b0": {
     "model_module": "@jupyter-widgets/controls",
     "model_module_version": "1.5.0",
     "model_name": "FloatProgressModel",
     "state": {
      "_dom_classes": [],
      "_model_module": "@jupyter-widgets/controls",
      "_model_module_version": "1.5.0",
      "_model_name": "FloatProgressModel",
      "_view_count": null,
      "_view_module": "@jupyter-widgets/controls",
      "_view_module_version": "1.5.0",
      "_view_name": "ProgressView",
      "bar_style": "success",
      "description": "",
      "description_tooltip": null,
      "layout": "IPY_MODEL_18e08b4879f44c1d95f2a411f0aa789a",
      "max": 35,
      "min": 0,
      "orientation": "horizontal",
      "style": "IPY_MODEL_839792f21fcc4bc89ef943c50f3b69c1",
      "value": 35
     }
    },
    "c748524ef78c4aa78f64fc527f6ef005": {
     "model_module": "@jupyter-widgets/base",
     "model_module_version": "1.2.0",
     "model_name": "LayoutModel",
     "state": {
      "_model_module": "@jupyter-widgets/base",
      "_model_module_version": "1.2.0",
      "_model_name": "LayoutModel",
      "_view_count": null,
      "_view_module": "@jupyter-widgets/base",
      "_view_module_version": "1.2.0",
      "_view_name": "LayoutView",
      "align_content": null,
      "align_items": null,
      "align_self": null,
      "border": null,
      "bottom": null,
      "display": null,
      "flex": null,
      "flex_flow": null,
      "grid_area": null,
      "grid_auto_columns": null,
      "grid_auto_flow": null,
      "grid_auto_rows": null,
      "grid_column": null,
      "grid_gap": null,
      "grid_row": null,
      "grid_template_areas": null,
      "grid_template_columns": null,
      "grid_template_rows": null,
      "height": null,
      "justify_content": null,
      "justify_items": null,
      "left": null,
      "margin": null,
      "max_height": null,
      "max_width": null,
      "min_height": null,
      "min_width": null,
      "object_fit": null,
      "object_position": null,
      "order": null,
      "overflow": null,
      "overflow_x": null,
      "overflow_y": null,
      "padding": null,
      "right": null,
      "top": null,
      "visibility": null,
      "width": null
     }
    },
    "cc0bbef99373496c841d678d0134d196": {
     "model_module": "@jupyter-widgets/controls",
     "model_module_version": "1.5.0",
     "model_name": "HBoxModel",
     "state": {
      "_dom_classes": [],
      "_model_module": "@jupyter-widgets/controls",
      "_model_module_version": "1.5.0",
      "_model_name": "HBoxModel",
      "_view_count": null,
      "_view_module": "@jupyter-widgets/controls",
      "_view_module_version": "1.5.0",
      "_view_name": "HBoxView",
      "box_style": "",
      "children": [
       "IPY_MODEL_38f30df3f3f441ebba71a1d4b3205a26",
       "IPY_MODEL_bc62848a1cad4537a7d4fd2cf831167a",
       "IPY_MODEL_18d938dd12da4106995c7c9b6bb48adc"
      ],
      "layout": "IPY_MODEL_95864384b7404946ab8747f050163616"
     }
    },
    "cc6ff8f32b0c442e859c330291e471f0": {
     "model_module": "@jupyter-widgets/controls",
     "model_module_version": "1.5.0",
     "model_name": "HTMLModel",
     "state": {
      "_dom_classes": [],
      "_model_module": "@jupyter-widgets/controls",
      "_model_module_version": "1.5.0",
      "_model_name": "HTMLModel",
      "_view_count": null,
      "_view_module": "@jupyter-widgets/controls",
      "_view_module_version": "1.5.0",
      "_view_name": "HTMLView",
      "description": "",
      "description_tooltip": null,
      "layout": "IPY_MODEL_503a97c95e8341a5854d7b0e5dfe24dd",
      "placeholder": "​",
      "style": "IPY_MODEL_5625f22f9e9248d5b1d46a58c2166988",
      "value": "100%"
     }
    },
    "ce02c13c02274b3f9765783f6ef4a645": {
     "model_module": "@jupyter-widgets/controls",
     "model_module_version": "1.5.0",
     "model_name": "FloatProgressModel",
     "state": {
      "_dom_classes": [],
      "_model_module": "@jupyter-widgets/controls",
      "_model_module_version": "1.5.0",
      "_model_name": "FloatProgressModel",
      "_view_count": null,
      "_view_module": "@jupyter-widgets/controls",
      "_view_module_version": "1.5.0",
      "_view_name": "ProgressView",
      "bar_style": "success",
      "description": "",
      "description_tooltip": null,
      "layout": "IPY_MODEL_a27df1d3c53049978014da57683fecfc",
      "max": 35,
      "min": 0,
      "orientation": "horizontal",
      "style": "IPY_MODEL_1eaf1758e9f0446fa1851ba9b403f80b",
      "value": 35
     }
    },
    "d2adc350fb024f58b3d2b43248a778fd": {
     "model_module": "@jupyter-widgets/controls",
     "model_module_version": "1.5.0",
     "model_name": "DescriptionStyleModel",
     "state": {
      "_model_module": "@jupyter-widgets/controls",
      "_model_module_version": "1.5.0",
      "_model_name": "DescriptionStyleModel",
      "_view_count": null,
      "_view_module": "@jupyter-widgets/base",
      "_view_module_version": "1.2.0",
      "_view_name": "StyleView",
      "description_width": ""
     }
    },
    "d3dc6f267ab342669925e6c7003c1967": {
     "model_module": "@jupyter-widgets/base",
     "model_module_version": "1.2.0",
     "model_name": "LayoutModel",
     "state": {
      "_model_module": "@jupyter-widgets/base",
      "_model_module_version": "1.2.0",
      "_model_name": "LayoutModel",
      "_view_count": null,
      "_view_module": "@jupyter-widgets/base",
      "_view_module_version": "1.2.0",
      "_view_name": "LayoutView",
      "align_content": null,
      "align_items": null,
      "align_self": null,
      "border": null,
      "bottom": null,
      "display": null,
      "flex": null,
      "flex_flow": null,
      "grid_area": null,
      "grid_auto_columns": null,
      "grid_auto_flow": null,
      "grid_auto_rows": null,
      "grid_column": null,
      "grid_gap": null,
      "grid_row": null,
      "grid_template_areas": null,
      "grid_template_columns": null,
      "grid_template_rows": null,
      "height": null,
      "justify_content": null,
      "justify_items": null,
      "left": null,
      "margin": null,
      "max_height": null,
      "max_width": null,
      "min_height": null,
      "min_width": null,
      "object_fit": null,
      "object_position": null,
      "order": null,
      "overflow": null,
      "overflow_x": null,
      "overflow_y": null,
      "padding": null,
      "right": null,
      "top": null,
      "visibility": null,
      "width": null
     }
    },
    "f9921c30813b427eaa900dc074d7a318": {
     "model_module": "@jupyter-widgets/controls",
     "model_module_version": "1.5.0",
     "model_name": "ProgressStyleModel",
     "state": {
      "_model_module": "@jupyter-widgets/controls",
      "_model_module_version": "1.5.0",
      "_model_name": "ProgressStyleModel",
      "_view_count": null,
      "_view_module": "@jupyter-widgets/base",
      "_view_module_version": "1.2.0",
      "_view_name": "StyleView",
      "bar_color": null,
      "description_width": ""
     }
    },
    "fdf6cfcba8ac4b3a81980c489494d21f": {
     "model_module": "@jupyter-widgets/base",
     "model_module_version": "1.2.0",
     "model_name": "LayoutModel",
     "state": {
      "_model_module": "@jupyter-widgets/base",
      "_model_module_version": "1.2.0",
      "_model_name": "LayoutModel",
      "_view_count": null,
      "_view_module": "@jupyter-widgets/base",
      "_view_module_version": "1.2.0",
      "_view_name": "LayoutView",
      "align_content": null,
      "align_items": null,
      "align_self": null,
      "border": null,
      "bottom": null,
      "display": null,
      "flex": null,
      "flex_flow": null,
      "grid_area": null,
      "grid_auto_columns": null,
      "grid_auto_flow": null,
      "grid_auto_rows": null,
      "grid_column": null,
      "grid_gap": null,
      "grid_row": null,
      "grid_template_areas": null,
      "grid_template_columns": null,
      "grid_template_rows": null,
      "height": null,
      "justify_content": null,
      "justify_items": null,
      "left": null,
      "margin": null,
      "max_height": null,
      "max_width": null,
      "min_height": null,
      "min_width": null,
      "object_fit": null,
      "object_position": null,
      "order": null,
      "overflow": null,
      "overflow_x": null,
      "overflow_y": null,
      "padding": null,
      "right": null,
      "top": null,
      "visibility": null,
      "width": null
     }
    }
   }
  }
 },
 "nbformat": 4,
 "nbformat_minor": 1
}
