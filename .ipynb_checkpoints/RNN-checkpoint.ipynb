{
 "cells": [
  {
   "cell_type": "code",
   "execution_count": 1,
   "metadata": {
    "colab": {
     "base_uri": "https://localhost:8080/"
    },
    "id": "zakHaq7VpvXx",
    "outputId": "3ea991ef-41a8-4fe8-a6e8-87d76005f54b"
   },
   "outputs": [],
   "source": [
    "# !pip install shap"
   ]
  },
  {
   "cell_type": "code",
   "execution_count": 2,
   "metadata": {
    "colab": {
     "base_uri": "https://localhost:8080/"
    },
    "id": "KyI3NhcCpgSi",
    "outputId": "736d9c6e-32aa-410f-a0fa-2f75a7a9280f"
   },
   "outputs": [],
   "source": [
    "# !pip install lime"
   ]
  },
  {
   "cell_type": "code",
   "execution_count": 3,
   "metadata": {
    "colab": {
     "base_uri": "https://localhost:8080/"
    },
    "id": "f8zmL0GFpzWW",
    "outputId": "b496ad72-fa0f-4060-8fe7-fa42aef1605b"
   },
   "outputs": [
    {
     "name": "stdout",
     "output_type": "stream",
     "text": [
      "Collecting seaborn\n",
      "  Downloading https://files.pythonhosted.org/packages/b2/86/43b8c9138ef4c2a1c492fee92792c83c13799d0e2061ff810d3826d06cd1/seaborn-0.9.1-py2.py3-none-any.whl (216kB)\n",
      "\u001b[K    100% |████████████████████████████████| 225kB 3.9MB/s eta 0:00:01\n",
      "\u001b[?25hCollecting scipy>=0.17.1 (from seaborn)\n",
      "  Using cached https://files.pythonhosted.org/packages/24/40/11b12af7f322c1e20446c037c47344d89bab4922b8859419d82cf56d796d/scipy-1.2.3-cp27-cp27mu-manylinux1_x86_64.whl\n",
      "Collecting pandas>=0.17.1 (from seaborn)\n",
      "  Using cached https://files.pythonhosted.org/packages/db/83/7d4008ffc2988066ff37f6a0bb6d7b60822367dcb36ba5e39aa7801fda54/pandas-0.24.2-cp27-cp27mu-manylinux1_x86_64.whl\n",
      "Collecting matplotlib>=1.5.3 (from seaborn)\n",
      "  Downloading https://files.pythonhosted.org/packages/9d/40/5ba7d4a3f80d39d409f21899972596bf62c8606f1406a825029649eaa439/matplotlib-2.2.5-cp27-cp27mu-manylinux1_x86_64.whl (12.8MB)\n",
      "\u001b[K    100% |████████████████████████████████| 12.8MB 113kB/s  eta 0:00:01\n",
      "\u001b[?25hCollecting numpy>=1.10.4 (from seaborn)\n",
      "  Using cached https://files.pythonhosted.org/packages/3a/5f/47e578b3ae79e2624e205445ab77a1848acdaa2929a00eeef6b16eaaeb20/numpy-1.16.6-cp27-cp27mu-manylinux1_x86_64.whl\n",
      "Collecting pytz>=2011k (from pandas>=0.17.1->seaborn)\n",
      "  Using cached https://files.pythonhosted.org/packages/70/94/784178ca5dd892a98f113cdd923372024dc04b8d40abe77ca76b5fb90ca6/pytz-2021.1-py2.py3-none-any.whl\n",
      "Collecting python-dateutil>=2.5.0 (from pandas>=0.17.1->seaborn)\n",
      "  Using cached https://files.pythonhosted.org/packages/36/7a/87837f39d0296e723bb9b62bbb257d0355c7f6128853c78955f57342a56d/python_dateutil-2.8.2-py2.py3-none-any.whl\n",
      "Collecting cycler>=0.10 (from matplotlib>=1.5.3->seaborn)\n",
      "  Using cached https://files.pythonhosted.org/packages/f7/d2/e07d3ebb2bd7af696440ce7e754c59dd546ffe1bbe732c8ab68b9c834e61/cycler-0.10.0-py2.py3-none-any.whl\n",
      "Collecting backports.functools-lru-cache (from matplotlib>=1.5.3->seaborn)\n",
      "  Downloading https://files.pythonhosted.org/packages/e5/c1/1a48a4bb9b515480d6c666977eeca9243be9fa9e6fb5a34be0ad9627f737/backports.functools_lru_cache-1.6.4-py2.py3-none-any.whl\n",
      "Collecting subprocess32 (from matplotlib>=1.5.3->seaborn)\n",
      "  Downloading https://files.pythonhosted.org/packages/32/c8/564be4d12629b912ea431f1a50eb8b3b9d00f1a0b1ceff17f266be190007/subprocess32-3.5.4.tar.gz (97kB)\n",
      "\u001b[K    100% |████████████████████████████████| 102kB 6.6MB/s ta 0:00:01\n",
      "\u001b[?25hCollecting kiwisolver>=1.0.1 (from matplotlib>=1.5.3->seaborn)\n",
      "  Downloading https://files.pythonhosted.org/packages/3d/78/cb9248b2289ec31e301137cedbe4ca503a74ca87f88cdbfd2f8be52323bf/kiwisolver-1.1.0-cp27-cp27mu-manylinux1_x86_64.whl (93kB)\n",
      "\u001b[K    100% |████████████████████████████████| 102kB 7.1MB/s ta 0:00:01\n",
      "\u001b[?25hCollecting six>=1.10 (from matplotlib>=1.5.3->seaborn)\n",
      "\u001b[33m  Cache entry deserialization failed, entry ignored\u001b[0m\n",
      "  Using cached https://files.pythonhosted.org/packages/d9/5a/e7c31adbe875f2abbb91bd84cf2dc52d792b5a01506781dbcf25c91daf11/six-1.16.0-py2.py3-none-any.whl\n",
      "Collecting pyparsing!=2.0.4,!=2.1.2,!=2.1.6,>=2.0.1 (from matplotlib>=1.5.3->seaborn)\n",
      "  Using cached https://files.pythonhosted.org/packages/8a/bb/488841f56197b13700afd5658fc279a2025a39e22449b7cf29864669b15d/pyparsing-2.4.7-py2.py3-none-any.whl\n",
      "Collecting setuptools (from kiwisolver>=1.0.1->matplotlib>=1.5.3->seaborn)\n",
      "  Downloading https://files.pythonhosted.org/packages/e1/b7/182161210a13158cd3ccc41ee19aadef54496b74f2817cc147006ec932b4/setuptools-44.1.1-py2.py3-none-any.whl (583kB)\n",
      "\u001b[K    100% |████████████████████████████████| 583kB 2.5MB/s  eta 0:00:01\n",
      "\u001b[?25hBuilding wheels for collected packages: subprocess32\n",
      "  Running setup.py bdist_wheel for subprocess32 ... \u001b[?25ldone\n",
      "\u001b[?25h  Stored in directory: /home/teadem/.cache/pip/wheels/68/39/1a/5e402bdfdf004af1786c8b853fd92f8c4a04f22aad179654d1\n",
      "Successfully built subprocess32\n",
      "Installing collected packages: numpy, scipy, pytz, six, python-dateutil, pandas, cycler, backports.functools-lru-cache, subprocess32, setuptools, kiwisolver, pyparsing, matplotlib, seaborn\n",
      "Successfully installed backports.functools-lru-cache-1.6.4 cycler-0.10.0 kiwisolver-1.1.0 matplotlib-2.2.5 numpy-1.16.6 pandas-0.24.2 pyparsing-2.4.7 python-dateutil-2.8.2 pytz-2021.1 scipy-1.2.3 seaborn-0.9.1 setuptools-44.1.1 six-1.16.0 subprocess32-3.5.4\n"
     ]
    }
   ],
   "source": [
    "!pip install seaborn"
   ]
  },
  {
   "cell_type": "code",
   "execution_count": 4,
   "metadata": {
    "colab": {
     "base_uri": "https://localhost:8080/"
    },
    "id": "lVJuXb9YeAuW",
    "outputId": "279a9c93-7a29-4e05-a810-4a1fe7e133f6"
   },
   "outputs": [
    {
     "name": "stdout",
     "output_type": "stream",
     "text": [
      "WARNING:tensorflow:From /home/teadem/.local/lib/python3.6/site-packages/tensorflow/python/compat/v2_compat.py:101: disable_resource_variables (from tensorflow.python.ops.variable_scope) is deprecated and will be removed in a future version.\n",
      "Instructions for updating:\n",
      "non-resource variables are not supported in the long term\n"
     ]
    }
   ],
   "source": [
    "import numpy as np\n",
    "import tensorflow as tf\n",
    "\n",
    "from tensorflow.keras.datasets import imdb\n",
    "tf.compat.v1.disable_v2_behavior()"
   ]
  },
  {
   "cell_type": "code",
   "execution_count": 5,
   "metadata": {
    "colab": {
     "base_uri": "https://localhost:8080/"
    },
    "id": "68Z0_T6UgFFl",
    "outputId": "cae7f4e9-4016-4076-b56c-5ec34956e2c7"
   },
   "outputs": [
    {
     "name": "stdout",
     "output_type": "stream",
     "text": [
      "Downloading data from https://storage.googleapis.com/tensorflow/tf-keras-datasets/imdb.npz\n",
      "17465344/17464789 [==============================] - 0s 0us/step\n",
      "17473536/17464789 [==============================] - 0s 0us/step\n"
     ]
    }
   ],
   "source": [
    "words=20000\n",
    "max_length=100\n",
    "\n",
    "(x_train, y_train), (x_test, y_test) = imdb.load_data(num_words=words)\n",
    "\"\"\"Padding the Text\"\"\"\n",
    "x_train = tf.keras.preprocessing.sequence.pad_sequences(x_train, maxlen=max_length)\n",
    "x_test = tf.keras.preprocessing.sequence.pad_sequences(x_test, maxlen=max_length)\n",
    "word_size=words\n",
    "word_size\n",
    "embed_size=128"
   ]
  },
  {
   "cell_type": "code",
   "execution_count": 6,
   "metadata": {
    "colab": {
     "base_uri": "https://localhost:8080/"
    },
    "id": "7u53o4ZUgKYT",
    "outputId": "a0c9c44a-cc96-4096-dcc2-6b42d0a250ce"
   },
   "outputs": [
    {
     "name": "stdout",
     "output_type": "stream",
     "text": [
      "WARNING:tensorflow:From /home/teadem/.local/lib/python3.6/site-packages/keras/initializers/initializers_v1.py:66: calling RandomUniform.__init__ (from tensorflow.python.ops.init_ops) with dtype is deprecated and will be removed in a future version.\n",
      "Instructions for updating:\n",
      "Call initializer instance with the dtype argument instead of passing it to the constructor\n",
      "Model: \"sequential\"\n",
      "_________________________________________________________________\n",
      "Layer (type)                 Output Shape              Param #   \n",
      "=================================================================\n",
      "embedding (Embedding)        (None, 100, 128)          2560000   \n",
      "_________________________________________________________________\n",
      "lstm (LSTM)                  (None, 128)               131584    \n",
      "_________________________________________________________________\n",
      "dense (Dense)                (None, 1)                 129       \n",
      "=================================================================\n",
      "Total params: 2,691,713\n",
      "Trainable params: 2,691,713\n",
      "Non-trainable params: 0\n",
      "_________________________________________________________________\n"
     ]
    }
   ],
   "source": [
    "imdb_model=tf.keras.Sequential()\n",
    "# Embedding Layer\n",
    "imdb_model.add(tf.keras.layers.Embedding(word_size, embed_size, input_shape=(x_train.shape[1],)))\n",
    "# LSTM Layer\n",
    "imdb_model.add(tf.keras.layers.LSTM(units=128, activation='tanh'))\n",
    "# Output Layer\n",
    "imdb_model.add(tf.keras.layers.Dense(units=1, activation='sigmoid'))\n",
    "imdb_model.summary()"
   ]
  },
  {
   "cell_type": "code",
   "execution_count": 7,
   "metadata": {
    "id": "x-f29GyOgLDs"
   },
   "outputs": [],
   "source": [
    "imdb_model.compile(optimizer='rmsprop', loss='binary_crossentropy', metrics=['accuracy'])"
   ]
  },
  {
   "cell_type": "code",
   "execution_count": null,
   "metadata": {
    "colab": {
     "base_uri": "https://localhost:8080/"
    },
    "id": "eOA2VaALgOod",
    "outputId": "51fa365a-77d5-410a-f146-c512c5b67ac6"
   },
   "outputs": [
    {
     "name": "stdout",
     "output_type": "stream",
     "text": [
      "Train on 25000 samples\n",
      "Epoch 1/5\n",
      "25000/25000 [==============================] - 29s 1ms/sample - loss: 0.4758 - acc: 0.7823\n",
      "Epoch 2/5\n",
      "25000/25000 [==============================] - 30s 1ms/sample - loss: 0.2900 - acc: 0.8832\n",
      "Epoch 3/5\n",
      "25000/25000 [==============================] - 28s 1ms/sample - loss: 0.2327 - acc: 0.9087\n",
      "Epoch 4/5\n",
      "25000/25000 [==============================] - 28s 1ms/sample - loss: 0.1926 - acc: 0.9270\n",
      "Epoch 5/5\n",
      " 7296/25000 [=======>......................] - ETA: 19s - loss: 0.1484 - acc: 0.9497"
     ]
    }
   ],
   "source": [
    "imdb_model.fit(x_train, y_train, epochs=5, batch_size=128)\n",
    "test_loss, test_acurracy = imdb_model.evaluate(x_test, y_test)\n",
    "print(\"Test accuracy: {}\".format(test_acurracy))"
   ]
  },
  {
   "cell_type": "code",
   "execution_count": null,
   "metadata": {
    "colab": {
     "base_uri": "https://localhost:8080/",
     "height": 335
    },
    "id": "ndQvknScklYK",
    "outputId": "ab5b7a85-1e16-4548-892e-9c8a3f04cc2b"
   },
   "outputs": [],
   "source": [
    "import shap\n",
    "\n",
    "# we use the first 100 training examples as our background dataset to integrate over\n",
    "explainer = shap.DeepExplainer(imdb_model, x_train[:100])\n",
    "\n",
    "# explain the first 10 predictions\n",
    "# explaining each prediction requires 2 * background dataset size runs\n",
    "shap_values = explainer.shap_values(x_test[:10])\n",
    "\n",
    "# init the JS visualization code\n",
    "shap.initjs()\n",
    "\n",
    "# transform the indexes to words\n",
    "import numpy as np\n",
    "words = imdb.get_word_index()\n",
    "num2word = {}\n",
    "for w in words.keys():\n",
    "    num2word[words[w]] = w\n",
    "x_test_words = np.stack([np.array(list(map(lambda x: num2word.get(x, \"NONE\"), x_test[i]))) for i in range(10)])\n",
    "\n",
    "# plot the explanation of the first prediction\n",
    "# Note the model is \"multi-output\" because it is rank-2 but only has one column\n",
    "shap.force_plot(explainer.expected_value[0], shap_values[0][0], x_test_words[0])\n",
    "\n"
   ]
  },
  {
   "cell_type": "code",
   "execution_count": null,
   "metadata": {
    "id": "-aAfe-nbqC-j"
   },
   "outputs": [],
   "source": [
    "def fai_cls(model,x,coefs,base):\n",
    "    pred_class = np.argmax(model.predict(x.reshape(1,-1)), axis=1)[0]\n",
    "    ar = np.argsort(-coefs)  #argsort returns indexes of values sorted in increasing order; so do it for negated array\n",
    "    pred_probs = np.zeros(x.shape[0])\n",
    "    for ind in np.nditer(ar):\n",
    "        x_copy = x.copy()\n",
    "        x_copy[ind] = base[ind]\n",
    "        x_copy_pr = model.predict(x_copy.reshape(1,-1))\n",
    "        pred_probs[ind] = x_copy_pr[0][pred_class]\n",
    "        # print(pred_probs)\n",
    "        # print(pred_class)\n",
    "\n",
    "    return -np.corrcoef(coefs, pred_probs)[0,1]"
   ]
  },
  {
   "cell_type": "code",
   "execution_count": null,
   "metadata": {
    "colab": {
     "base_uri": "https://localhost:8080/",
     "height": 302
    },
    "id": "-O1y0dFttC7A",
    "outputId": "955ae925-6669-4a89-9a06-4be1fb39a2bb"
   },
   "outputs": [],
   "source": [
    "import matplotlib.pyplot as pp\n",
    "\n",
    "model = imdb_model\n",
    "base = np.zeros(shape=(100))\n",
    "f = []\n",
    "for i in range(10):\n",
    "  x = x_test[i]\n",
    "  coefs = shap_values[0][i]\n",
    "  f.append(fai_cls(model,x,coefs,base))\n",
    "\n",
    "pp.plot(f,'-o')\n",
    "pp.show()"
   ]
  },
  {
   "cell_type": "code",
   "execution_count": null,
   "metadata": {
    "colab": {
     "base_uri": "https://localhost:8080/",
     "height": 265
    },
    "id": "IaTFR6otyTJM",
    "outputId": "f3696be8-c805-4e1b-8189-14a901542d7a"
   },
   "outputs": [],
   "source": [
    "import matplotlib.pyplot as pp\n",
    "pp.plot(f,'-o')\n",
    "pp.show()"
   ]
  },
  {
   "cell_type": "code",
   "execution_count": null,
   "metadata": {
    "colab": {
     "base_uri": "https://localhost:8080/"
    },
    "id": "OIcy_r-Zyah9",
    "outputId": "8060f77e-7119-4266-91df-0b038fdcdcd5"
   },
   "outputs": [],
   "source": [
    "np.mean(np.array(f))"
   ]
  },
  {
   "cell_type": "code",
   "execution_count": null,
   "metadata": {
    "colab": {
     "base_uri": "https://localhost:8080/"
    },
    "id": "7hajTeHHyiQw",
    "outputId": "581f7cdb-6b8d-4071-8d4f-b113ceedaf8f"
   },
   "outputs": [],
   "source": [
    "x_test_words[4]"
   ]
  },
  {
   "cell_type": "code",
   "execution_count": null,
   "metadata": {
    "colab": {
     "base_uri": "https://localhost:8080/"
    },
    "id": "T_nFl8px0394",
    "outputId": "fea1575c-94f5-4c22-c7a5-faff9469c265"
   },
   "outputs": [],
   "source": [
    "y_test[0]"
   ]
  },
  {
   "cell_type": "code",
   "execution_count": null,
   "metadata": {
    "colab": {
     "base_uri": "https://localhost:8080/",
     "height": 193
    },
    "id": "qp17RYziynl8",
    "outputId": "a9d25429-6076-47f5-bae9-41a99bedb7eb"
   },
   "outputs": [],
   "source": [
    "shap.initjs()\n",
    "shap.force_plot(explainer.expected_value[0], shap_values[0][4], x_test_words[4])\n"
   ]
  },
  {
   "cell_type": "code",
   "execution_count": null,
   "metadata": {
    "colab": {
     "base_uri": "https://localhost:8080/"
    },
    "id": "h4XKtlJMzEhq",
    "outputId": "a41adbd8-01ae-4017-aefa-c3565a84744b"
   },
   "outputs": [],
   "source": [
    "imdb_model.predict(np.transpose(x_test[4].reshape(-1,1)))"
   ]
  },
  {
   "cell_type": "markdown",
   "metadata": {
    "id": "m5ZwmQvWpKZe"
   },
   "source": [
    "LIME"
   ]
  },
  {
   "cell_type": "code",
   "execution_count": null,
   "metadata": {
    "id": "Gz9zgSFPpG3d"
   },
   "outputs": [],
   "source": [
    "import seaborn as sns\n",
    "%matplotlib inline\n",
    "from collections import OrderedDict\n",
    "from lime.lime_text import LimeTextExplainer\n",
    "\n"
   ]
  },
  {
   "cell_type": "code",
   "execution_count": null,
   "metadata": {
    "id": "e8GI9AB7tFjV"
   },
   "outputs": [],
   "source": [
    "class_names = ['negative', 'positive']"
   ]
  },
  {
   "cell_type": "code",
   "execution_count": null,
   "metadata": {
    "colab": {
     "base_uri": "https://localhost:8080/"
    },
    "id": "f3vxgmUluJuP",
    "outputId": "b883f488-c124-4a38-e25c-480cda4654d9"
   },
   "outputs": [],
   "source": [
    "x_test_words[0].shape"
   ]
  },
  {
   "cell_type": "code",
   "execution_count": 20,
   "metadata": {
    "colab": {
     "base_uri": "https://localhost:8080/",
     "height": 382
    },
    "id": "STdGTB2bqXRO",
    "outputId": "40d65c96-175a-4b45-f08d-1b8ace7c4e47"
   },
   "outputs": [
    {
     "ename": "TypeError",
     "evalue": "ignored",
     "output_type": "error",
     "traceback": [
      "\u001b[0;31m---------------------------------------------------------------------------\u001b[0m",
      "\u001b[0;31mTypeError\u001b[0m                                 Traceback (most recent call last)",
      "\u001b[0;32m<ipython-input-20-93b62cc76a96>\u001b[0m in \u001b[0;36m<module>\u001b[0;34m()\u001b[0m\n\u001b[1;32m      1\u001b[0m \u001b[0mexplainer\u001b[0m \u001b[0;34m=\u001b[0m \u001b[0mLimeTextExplainer\u001b[0m\u001b[0;34m(\u001b[0m\u001b[0mclass_names\u001b[0m\u001b[0;34m=\u001b[0m\u001b[0mclass_names\u001b[0m\u001b[0;34m)\u001b[0m\u001b[0;34m\u001b[0m\u001b[0;34m\u001b[0m\u001b[0m\n\u001b[0;32m----> 2\u001b[0;31m \u001b[0mexplanation\u001b[0m \u001b[0;34m=\u001b[0m \u001b[0mexplainer\u001b[0m\u001b[0;34m.\u001b[0m\u001b[0mexplain_instance\u001b[0m\u001b[0;34m(\u001b[0m\u001b[0mx_test_words\u001b[0m\u001b[0;34m[\u001b[0m\u001b[0;36m0\u001b[0m\u001b[0;34m]\u001b[0m\u001b[0;34m,\u001b[0m \u001b[0mimdb_model\u001b[0m\u001b[0;34m.\u001b[0m\u001b[0mpredict\u001b[0m\u001b[0;34m,\u001b[0m \u001b[0mnum_features\u001b[0m\u001b[0;34m=\u001b[0m\u001b[0;36m100\u001b[0m\u001b[0;34m)\u001b[0m\u001b[0;34m\u001b[0m\u001b[0;34m\u001b[0m\u001b[0m\n\u001b[0m\u001b[1;32m      3\u001b[0m \u001b[0;34m\u001b[0m\u001b[0m\n\u001b[1;32m      4\u001b[0m \u001b[0mweights\u001b[0m \u001b[0;34m=\u001b[0m \u001b[0mOrderedDict\u001b[0m\u001b[0;34m(\u001b[0m\u001b[0mexplanation\u001b[0m\u001b[0;34m.\u001b[0m\u001b[0mas_list\u001b[0m\u001b[0;34m(\u001b[0m\u001b[0;34m)\u001b[0m\u001b[0;34m)\u001b[0m\u001b[0;34m\u001b[0m\u001b[0;34m\u001b[0m\u001b[0m\n\u001b[1;32m      5\u001b[0m \u001b[0mlime_weights\u001b[0m \u001b[0;34m=\u001b[0m \u001b[0mpd\u001b[0m\u001b[0;34m.\u001b[0m\u001b[0mDataFrame\u001b[0m\u001b[0;34m(\u001b[0m\u001b[0;34m{\u001b[0m\u001b[0;34m'words'\u001b[0m\u001b[0;34m:\u001b[0m \u001b[0mlist\u001b[0m\u001b[0;34m(\u001b[0m\u001b[0mweights\u001b[0m\u001b[0;34m.\u001b[0m\u001b[0mkeys\u001b[0m\u001b[0;34m(\u001b[0m\u001b[0;34m)\u001b[0m\u001b[0;34m)\u001b[0m\u001b[0;34m,\u001b[0m \u001b[0;34m'weights'\u001b[0m\u001b[0;34m:\u001b[0m \u001b[0mlist\u001b[0m\u001b[0;34m(\u001b[0m\u001b[0mweights\u001b[0m\u001b[0;34m.\u001b[0m\u001b[0mvalues\u001b[0m\u001b[0;34m(\u001b[0m\u001b[0;34m)\u001b[0m\u001b[0;34m)\u001b[0m\u001b[0;34m}\u001b[0m\u001b[0;34m)\u001b[0m\u001b[0;34m\u001b[0m\u001b[0;34m\u001b[0m\u001b[0m\n",
      "\u001b[0;32m/usr/local/lib/python3.7/dist-packages/lime/lime_text.py\u001b[0m in \u001b[0;36mexplain_instance\u001b[0;34m(self, text_instance, classifier_fn, labels, top_labels, num_features, num_samples, distance_metric, model_regressor)\u001b[0m\n\u001b[1;32m    409\u001b[0m                           IndexedString(text_instance, bow=self.bow,\n\u001b[1;32m    410\u001b[0m                                         \u001b[0msplit_expression\u001b[0m\u001b[0;34m=\u001b[0m\u001b[0mself\u001b[0m\u001b[0;34m.\u001b[0m\u001b[0msplit_expression\u001b[0m\u001b[0;34m,\u001b[0m\u001b[0;34m\u001b[0m\u001b[0;34m\u001b[0m\u001b[0m\n\u001b[0;32m--> 411\u001b[0;31m                                         mask_string=self.mask_string))\n\u001b[0m\u001b[1;32m    412\u001b[0m         \u001b[0mdomain_mapper\u001b[0m \u001b[0;34m=\u001b[0m \u001b[0mTextDomainMapper\u001b[0m\u001b[0;34m(\u001b[0m\u001b[0mindexed_string\u001b[0m\u001b[0;34m)\u001b[0m\u001b[0;34m\u001b[0m\u001b[0;34m\u001b[0m\u001b[0m\n\u001b[1;32m    413\u001b[0m         data, yss, distances = self.__data_labels_distances(\n",
      "\u001b[0;32m/usr/local/lib/python3.7/dist-packages/lime/lime_text.py\u001b[0m in \u001b[0;36m__init__\u001b[0;34m(self, raw_string, split_expression, bow, mask_string)\u001b[0m\n\u001b[1;32m    112\u001b[0m             \u001b[0;31m# the separator character from the split results.\u001b[0m\u001b[0;34m\u001b[0m\u001b[0;34m\u001b[0m\u001b[0;34m\u001b[0m\u001b[0m\n\u001b[1;32m    113\u001b[0m             \u001b[0msplitter\u001b[0m \u001b[0;34m=\u001b[0m \u001b[0mre\u001b[0m\u001b[0;34m.\u001b[0m\u001b[0mcompile\u001b[0m\u001b[0;34m(\u001b[0m\u001b[0;34mr'(%s)|$'\u001b[0m \u001b[0;34m%\u001b[0m \u001b[0msplit_expression\u001b[0m\u001b[0;34m)\u001b[0m\u001b[0;34m\u001b[0m\u001b[0;34m\u001b[0m\u001b[0m\n\u001b[0;32m--> 114\u001b[0;31m             \u001b[0mself\u001b[0m\u001b[0;34m.\u001b[0m\u001b[0mas_list\u001b[0m \u001b[0;34m=\u001b[0m \u001b[0;34m[\u001b[0m\u001b[0ms\u001b[0m \u001b[0;32mfor\u001b[0m \u001b[0ms\u001b[0m \u001b[0;32min\u001b[0m \u001b[0msplitter\u001b[0m\u001b[0;34m.\u001b[0m\u001b[0msplit\u001b[0m\u001b[0;34m(\u001b[0m\u001b[0mself\u001b[0m\u001b[0;34m.\u001b[0m\u001b[0mraw\u001b[0m\u001b[0;34m)\u001b[0m \u001b[0;32mif\u001b[0m \u001b[0ms\u001b[0m\u001b[0;34m]\u001b[0m\u001b[0;34m\u001b[0m\u001b[0;34m\u001b[0m\u001b[0m\n\u001b[0m\u001b[1;32m    115\u001b[0m             \u001b[0mnon_word\u001b[0m \u001b[0;34m=\u001b[0m \u001b[0msplitter\u001b[0m\u001b[0;34m.\u001b[0m\u001b[0mmatch\u001b[0m\u001b[0;34m\u001b[0m\u001b[0;34m\u001b[0m\u001b[0m\n\u001b[1;32m    116\u001b[0m \u001b[0;34m\u001b[0m\u001b[0m\n",
      "\u001b[0;31mTypeError\u001b[0m: cannot use a string pattern on a bytes-like object"
     ]
    }
   ],
   "source": [
    "explainer = LimeTextExplainer(class_names=class_names)\n",
    "explanation = explainer.explain_instance(x_test_words[0], imdb_model.predict, num_features=100)\n",
    "\n",
    "weights = OrderedDict(explanation.as_list())\n",
    "lime_weights = pd.DataFrame({'words': list(weights.keys()), 'weights': list(weights.values())})\n",
    "\n",
    "sns.barplot(x=\"words\", y=\"weights\", data=lime_weights);\n",
    "plt.xticks(rotation=45)\n",
    "plt.title('Sample {} features weights given by LIME'.format(idx));"
   ]
  },
  {
   "cell_type": "code",
   "execution_count": null,
   "metadata": {
    "id": "wnmy-SwiqV5D"
   },
   "outputs": [],
   "source": [
    "explainer = LimeTextExplainer(class_names=class_names)\n",
    "explanation = explainer.explain_instance(text_sample, pipeline.predict_proba, num_features=10)\n",
    "\n",
    "weights = OrderedDict(explanation.as_list())\n",
    "lime_weights = pd.DataFrame({'words': list(weights.keys()), 'weights': list(weights.values())})\n",
    "\n",
    "sns.barplot(x=\"words\", y=\"weights\", data=lime_weights);\n",
    "plt.xticks(rotation=45)\n",
    "plt.title('Sample {} features weights given by LIME'.format(idx));"
   ]
  },
  {
   "cell_type": "code",
   "execution_count": null,
   "metadata": {
    "id": "wNGYXGp1yJ2y"
   },
   "outputs": [],
   "source": [
    "def faithfulness_metric_new(model, x, coefs, base):\n",
    "    predt = model.predict(np.transpose(x.reshape(-1,1)))\n",
    "    ar = np.argsort(coefs) \n",
    "    pred_ts = np.zeros(x.shape[0])\n",
    "    diff = []\n",
    "    for ind in np.nditer(ar):\n",
    "        x_copy = x.copy()\n",
    "        d = x_copy[ind]-base[ind]\n",
    "        if d<0:\n",
    "            diff.append(-1)\n",
    "        else:\n",
    "            diff.append(1)\n",
    "        x_copy[ind] = base[ind]\n",
    "        x_copy_ts = model.predict(np.transpose(x_copy.reshape(-1,1)))\n",
    "        pred_ts[ind] = x_copy_ts - predt\n",
    "    \n",
    "    return -np.corrcoef(coefs, pred_ts)[0,1]"
   ]
  },
  {
   "cell_type": "code",
   "execution_count": null,
   "metadata": {
    "id": "VK6wLO3btJLq"
   },
   "outputs": [],
   "source": []
  },
  {
   "cell_type": "code",
   "execution_count": null,
   "metadata": {
    "colab": {
     "base_uri": "https://localhost:8080/"
    },
    "id": "sEsxxMzJ5pnC",
    "outputId": "8ac472a8-79f8-4e69-8a52-7ae2ac2cd5c7"
   },
   "outputs": [
    {
     "data": {
      "text/plain": [
       "(100, 100)"
      ]
     },
     "execution_count": 8,
     "metadata": {},
     "output_type": "execute_result"
    }
   ],
   "source": [
    "x_train[:100].shape"
   ]
  },
  {
   "cell_type": "code",
   "execution_count": null,
   "metadata": {
    "id": "0_ED7PBOncnK"
   },
   "outputs": [],
   "source": []
  },
  {
   "cell_type": "code",
   "execution_count": null,
   "metadata": {
    "colab": {
     "base_uri": "https://localhost:8080/"
    },
    "id": "Gn63vtN0mr2v",
    "outputId": "a2feed01-4538-42c8-bbc2-984b746faff1"
   },
   "outputs": [
    {
     "name": "stderr",
     "output_type": "stream",
     "text": [
      "`Model.state_updates` will be removed in a future version. This property should not be used in TensorFlow 2.0, as `updates` are applied automatically.\n"
     ]
    },
    {
     "data": {
      "text/plain": [
       "array([[0.07791051]], dtype=float32)"
      ]
     },
     "execution_count": 18,
     "metadata": {},
     "output_type": "execute_result"
    }
   ],
   "source": [
    "imdb_model.predict(np.transpose(x_test[0].reshape(-1,1)))"
   ]
  },
  {
   "cell_type": "code",
   "execution_count": null,
   "metadata": {
    "colab": {
     "base_uri": "https://localhost:8080/"
    },
    "id": "SRXJwle3jB1j",
    "outputId": "c1f3f635-782e-4380-813a-209f00c202de"
   },
   "outputs": [
    {
     "data": {
      "text/plain": [
       "array([    0,     0,     0,     0,     0,     0,     0,     0,     0,\n",
       "           0,     0,     0,     0,     0,     0,     0,     0,     0,\n",
       "           0,     0,     0,     0,     0,     0,     0,     0,     0,\n",
       "           0,     0,     0,     0,     0,     1,   591,   202,    14,\n",
       "          31,     6,   717,    10,    10, 18142, 10698,     5,     4,\n",
       "         360,     7,     4,   177,  5760,   394,   354,     4,   123,\n",
       "           9,  1035,  1035,  1035,    10,    10,    13,    92,   124,\n",
       "          89,   488,  7944,   100,    28,  1668,    14,    31,    23,\n",
       "          27,  7479,    29,   220,   468,     8,   124,    14,   286,\n",
       "         170,     8,   157,    46,     5,    27,   239,    16,   179,\n",
       "       15387,    38,    32,    25,  7944,   451,   202,    14,     6,\n",
       "         717], dtype=int32)"
      ]
     },
     "execution_count": 19,
     "metadata": {},
     "output_type": "execute_result"
    }
   ],
   "source": [
    "x_test[0]"
   ]
  },
  {
   "cell_type": "code",
   "execution_count": null,
   "metadata": {
    "colab": {
     "base_uri": "https://localhost:8080/"
    },
    "id": "_NipIoqsl6_8",
    "outputId": "69a8a838-9d73-4e88-a552-301253be0735"
   },
   "outputs": [
    {
     "data": {
      "text/plain": [
       "array(['NONE', 'NONE', 'NONE', 'NONE', 'NONE', 'NONE', 'NONE', 'NONE',\n",
       "       'NONE', 'NONE', 'NONE', 'NONE', 'NONE', 'NONE', 'NONE', 'NONE',\n",
       "       'NONE', 'NONE', 'NONE', 'NONE', 'NONE', 'NONE', 'NONE', 'NONE',\n",
       "       'NONE', 'NONE', 'NONE', 'NONE', 'NONE', 'NONE', 'NONE', 'NONE',\n",
       "       'the', 'wonder', 'own', 'as', 'by', 'is', 'sequence', 'i', 'i',\n",
       "       'jars', 'roses', 'to', 'of', 'hollywood', 'br', 'of', 'down',\n",
       "       'shouting', 'getting', 'boring', 'of', 'ever', 'it', 'sadly',\n",
       "       'sadly', 'sadly', 'i', 'i', 'was', 'then', 'does', \"don't\",\n",
       "       'close', 'faint', 'after', 'one', 'carry', 'as', 'by', 'are', 'be',\n",
       "       'favourites', 'all', 'family', 'turn', 'in', 'does', 'as', 'three',\n",
       "       'part', 'in', 'another', 'some', 'to', 'be', 'probably', 'with',\n",
       "       'world', 'uncaring', 'her', 'an', 'have', 'faint', 'beginning',\n",
       "       'own', 'as', 'is', 'sequence'], dtype='<U14')"
      ]
     },
     "execution_count": 15,
     "metadata": {},
     "output_type": "execute_result"
    }
   ],
   "source": [
    "x_test_words[0]"
   ]
  },
  {
   "cell_type": "code",
   "execution_count": null,
   "metadata": {
    "id": "JZPmaX68mFOA"
   },
   "outputs": [],
   "source": []
  },
  {
   "cell_type": "code",
   "execution_count": null,
   "metadata": {
    "id": "XOSaa6YXlsmv"
   },
   "outputs": [],
   "source": [
    "words = imdb.get_word_index()\n",
    "num2word = {}\n",
    "for w in words.keys():\n",
    "    num2word[words[w]] = w\n",
    "x_test_words = np.stack([np.array(list(map(lambda x: num2word.get(x, \"NONE\"), x_test[i]))) for i in range(10)])\n"
   ]
  },
  {
   "cell_type": "code",
   "execution_count": null,
   "metadata": {
    "colab": {
     "base_uri": "https://localhost:8080/"
    },
    "id": "EAOHaqnEmQ6Z",
    "outputId": "43964568-fe56-4891-83f2-3b3b0e65ce36"
   },
   "outputs": [
    {
     "data": {
      "text/plain": [
       "(100,)"
      ]
     },
     "execution_count": 21,
     "metadata": {},
     "output_type": "execute_result"
    }
   ],
   "source": [
    "np.array(shap_values[0][0]).shape"
   ]
  },
  {
   "cell_type": "code",
   "execution_count": null,
   "metadata": {
    "colab": {
     "base_uri": "https://localhost:8080/"
    },
    "id": "MSIcF1kN6Dv0",
    "outputId": "22705942-4894-4f09-f4e7-1039cbdc23dd"
   },
   "outputs": [
    {
     "data": {
      "text/plain": [
       "(1, 10, 100)"
      ]
     },
     "execution_count": 26,
     "metadata": {},
     "output_type": "execute_result"
    }
   ],
   "source": [
    "np.array(shap_values).shape"
   ]
  },
  {
   "cell_type": "code",
   "execution_count": null,
   "metadata": {
    "colab": {
     "base_uri": "https://localhost:8080/"
    },
    "id": "O1ZVCUXSr_JD",
    "outputId": "438f9935-b439-4821-ad81-0cf1e3c3b3e5"
   },
   "outputs": [
    {
     "data": {
      "text/plain": [
       "(100,)"
      ]
     },
     "execution_count": 20,
     "metadata": {},
     "output_type": "execute_result"
    }
   ],
   "source": [
    "x_test[0].shape"
   ]
  },
  {
   "cell_type": "code",
   "execution_count": null,
   "metadata": {
    "colab": {
     "base_uri": "https://localhost:8080/"
    },
    "id": "0M8d7G_B8na_",
    "outputId": "9939f7ad-dd54-476b-b387-b7d9219da0be"
   },
   "outputs": [
    {
     "data": {
      "text/plain": [
       "array([0.35658944], dtype=float32)"
      ]
     },
     "execution_count": 28,
     "metadata": {},
     "output_type": "execute_result"
    }
   ],
   "source": [
    "explainer.expected_value"
   ]
  },
  {
   "cell_type": "code",
   "execution_count": null,
   "metadata": {
    "colab": {
     "base_uri": "https://localhost:8080/"
    },
    "id": "dh5CLqpHyJzq",
    "outputId": "cc1ed30a-4f3b-40b5-caf1-7a35e8e19bb8"
   },
   "outputs": [
    {
     "data": {
      "text/plain": [
       "[array([[ 3.58353862e-04,  5.66044511e-04,  1.20219152e-03,\n",
       "         -3.52878041e-05, -2.25688448e-04,  6.62568581e-04,\n",
       "         -6.98485574e-04, -2.05892092e-03, -5.93233890e-04,\n",
       "         -2.13880369e-04,  5.07874087e-04,  3.08686044e-04,\n",
       "          8.06278086e-04, -3.42792248e-03, -1.32449524e-03,\n",
       "         -8.20685161e-04, -1.47646860e-03, -1.49501541e-03,\n",
       "         -4.46103183e-05, -1.26220445e-03, -1.61106368e-03,\n",
       "         -1.94469410e-03, -2.38916195e-03,  9.59297506e-04,\n",
       "         -1.97384435e-03, -2.41050315e-03,  6.83430419e-03,\n",
       "         -4.29778223e-03, -3.25093336e-03, -7.14824620e-03,\n",
       "         -6.03999731e-04, -1.99162631e-03,  1.13991795e-02,\n",
       "         -1.05282279e-02, -4.00833387e-02, -8.50288968e-03,\n",
       "         -1.22121696e-02,  3.66423560e-03,  4.95809972e-02,\n",
       "         -8.12056934e-03, -3.10702682e-03,  7.11191145e-02,\n",
       "          5.36207984e-02,  8.60512641e-03, -5.11574953e-03,\n",
       "         -3.10977642e-02, -6.19579965e-03, -2.31006855e-03,\n",
       "          1.86816204e-02, -1.29684529e-03, -8.65377541e-02,\n",
       "         -4.04076198e-03, -3.59115452e-03,  7.01872206e-03,\n",
       "         -9.33345044e-05, -4.80866316e-02, -4.56276532e-02,\n",
       "         -4.65011881e-02, -9.53885674e-03, -6.75054329e-03,\n",
       "         -1.06710787e-02, -1.24013774e-02, -5.06265355e-03,\n",
       "         -1.19154979e-02,  3.02905788e-02, -1.02569371e-02,\n",
       "         -8.93111914e-03, -4.74793851e-03, -1.78107537e-02,\n",
       "         -4.30379477e-03, -1.03380267e-02, -7.45540575e-03,\n",
       "          4.41821597e-03, -2.29498428e-02,  9.28294863e-06,\n",
       "          4.28770659e-03, -1.59061997e-02, -5.83560684e-03,\n",
       "         -2.11051266e-03, -7.70372204e-06,  5.59924150e-03,\n",
       "         -2.15830728e-02, -7.11635842e-03, -1.90614763e-02,\n",
       "         -3.46523463e-03,  7.20712065e-03,  5.67042817e-03,\n",
       "         -8.20519259e-03, -8.39620186e-03,  3.80905671e-02,\n",
       "         -3.63337871e-02, -3.18219525e-03,  5.69709086e-03,\n",
       "         -1.77521153e-03, -7.93894250e-03,  3.36476075e-02,\n",
       "          2.11602389e-02, -3.68650889e-02,  8.16352896e-03,\n",
       "         -8.90350108e-03],\n",
       "        [ 3.07861586e-04,  2.70690848e-02,  1.02762386e-02,\n",
       "         -5.92538202e-04,  1.63351357e-02,  6.15105005e-03,\n",
       "          1.90765270e-02,  5.78666758e-03,  4.75314702e-03,\n",
       "         -3.86103568e-03,  2.33138281e-02, -3.59151957e-03,\n",
       "         -1.02137669e-03, -1.48931346e-03,  4.59852090e-02,\n",
       "          6.07857820e-03, -8.47158029e-03,  5.21369800e-03,\n",
       "         -3.13053113e-03,  6.75102638e-04,  6.07679005e-02,\n",
       "         -7.08591946e-03, -2.12808128e-02,  1.02427110e-03,\n",
       "         -1.35744529e-03,  8.82707732e-04,  1.92311152e-02,\n",
       "         -1.00283879e-02, -1.15233890e-02, -5.70519314e-04,\n",
       "          2.51110038e-03, -2.43780232e-03, -2.54683891e-03,\n",
       "          6.54255725e-03,  2.42699406e-04,  3.19798937e-04,\n",
       "         -7.84407762e-04,  3.15939983e-02, -8.08757305e-04,\n",
       "          2.51329603e-02,  3.56566726e-02, -5.37974660e-03,\n",
       "          1.99727376e-02,  2.25198935e-03,  7.07491363e-04,\n",
       "          5.50128908e-03, -1.35903970e-02, -2.46040955e-03,\n",
       "          9.16694643e-03,  2.97180467e-02,  5.49715730e-03,\n",
       "          1.38401730e-02,  2.59779318e-02, -4.69759578e-03,\n",
       "         -5.17673147e-02,  4.13376168e-03,  3.54103897e-02,\n",
       "          1.49839878e-02,  1.46212039e-02, -5.23850083e-03,\n",
       "          1.78824076e-03,  1.66343455e-02, -1.00500781e-02,\n",
       "          1.61130822e-02, -2.16657718e-02, -2.84851604e-03,\n",
       "          1.64169552e-02,  4.25013105e-03,  4.14879282e-02,\n",
       "          1.53865457e-03,  1.15742080e-03, -1.50022076e-02,\n",
       "         -9.51447799e-03, -1.66144362e-05, -2.98729905e-02,\n",
       "         -1.90042347e-04,  4.63536104e-03,  1.98044887e-02,\n",
       "          4.06524670e-03,  1.32953347e-02, -5.19098520e-04,\n",
       "         -1.71078755e-03, -3.04184199e-02,  1.80393797e-02,\n",
       "          5.96311288e-03, -4.31821304e-03, -9.69220210e-03,\n",
       "          8.37156612e-03,  4.26121846e-03,  1.47956157e-02,\n",
       "          4.01105260e-02,  1.87025218e-02, -1.01323282e-03,\n",
       "         -4.89254032e-04, -2.14794868e-03,  5.81978557e-02,\n",
       "          3.12913920e-02, -2.01099266e-02,  6.58908027e-03,\n",
       "          7.97626939e-02],\n",
       "        [-2.06467308e-03,  6.69890824e-03,  2.22173835e-03,\n",
       "          8.21350330e-04,  2.78245085e-02,  8.12197977e-02,\n",
       "          2.91652635e-02,  3.50186304e-03,  2.04294177e-02,\n",
       "          3.19194924e-03, -1.63849672e-03,  3.34645524e-02,\n",
       "         -8.83170329e-03,  1.55459089e-02,  3.83136105e-03,\n",
       "          3.24310037e-03,  5.50836297e-03,  3.25737752e-02,\n",
       "         -8.33294304e-04,  1.96405215e-02,  1.36179772e-02,\n",
       "         -8.04129053e-03,  1.17267555e-02,  1.12864701e-02,\n",
       "          1.35330663e-02, -1.46692832e-02,  7.04277499e-04,\n",
       "         -1.95119955e-02, -7.74404058e-03,  6.16094512e-03,\n",
       "         -9.64017805e-04,  8.55211842e-03,  4.64233168e-03,\n",
       "          3.02750555e-03, -4.69036663e-05, -3.41210247e-03,\n",
       "         -2.38530765e-03, -3.92040156e-02,  1.50130781e-03,\n",
       "          7.46340786e-03,  8.20013276e-03, -2.37159171e-03,\n",
       "         -3.02859778e-02,  5.56098767e-03, -8.49823419e-04,\n",
       "          3.04367475e-02, -3.85712164e-03,  7.25339601e-03,\n",
       "         -2.95683339e-03,  2.34743065e-02, -5.22297176e-03,\n",
       "          4.30157864e-03,  3.08976958e-03, -3.36547261e-03,\n",
       "         -1.58274544e-03, -4.11257401e-03, -1.95366810e-03,\n",
       "          1.15847034e-02,  2.27835756e-02,  5.45838988e-02,\n",
       "          2.18481720e-02,  6.33708207e-03,  4.14746693e-02,\n",
       "          9.40915536e-04,  4.18412199e-03, -5.69385283e-02,\n",
       "          7.85012511e-03, -4.61256053e-04,  1.79776353e-02,\n",
       "         -1.49001628e-03, -1.12225474e-02,  1.56945442e-02,\n",
       "          2.50300441e-03,  3.05767293e-02,  6.81247633e-03,\n",
       "          4.55537085e-02, -2.91833965e-02,  1.74819308e-02,\n",
       "          6.51685439e-03,  4.83011592e-02,  1.53198172e-03,\n",
       "          6.07937020e-02,  2.33000284e-02,  3.14990216e-03,\n",
       "          7.51954813e-02, -5.19644151e-03, -2.64959140e-02,\n",
       "          4.98516389e-03,  1.05787969e-02, -1.34616787e-02,\n",
       "          5.79256556e-03,  1.46969892e-02,  4.94998147e-02,\n",
       "          1.10476081e-02, -6.29684772e-03,  1.97867078e-02,\n",
       "          6.05006860e-03,  3.11779993e-02, -2.10852446e-02,\n",
       "         -2.33090378e-01],\n",
       "        [-4.05733294e-04, -2.96249295e-02,  2.30254476e-04,\n",
       "         -4.71788312e-03, -3.67666919e-03, -7.18659801e-05,\n",
       "         -2.06730882e-02, -1.47968710e-02, -9.13570257e-03,\n",
       "         -8.13109360e-03, -6.34690404e-03,  3.24885290e-03,\n",
       "         -1.28068863e-02, -1.28137220e-02,  1.20853479e-02,\n",
       "         -3.97577870e-03,  9.09174343e-03, -2.50986502e-03,\n",
       "          3.48647402e-03, -8.83529555e-04, -3.73029945e-02,\n",
       "         -2.86537542e-03, -5.69562541e-03,  6.91390041e-03,\n",
       "         -3.22723959e-03,  6.15878861e-03, -4.12545907e-04,\n",
       "         -4.40115924e-03,  2.65775534e-04, -1.12849483e-02,\n",
       "         -3.80802138e-02,  4.25214519e-02, -4.65385165e-04,\n",
       "          8.18355004e-03,  4.60600874e-03, -1.70390380e-03,\n",
       "         -5.42955862e-04,  1.56539373e-03, -4.49329898e-03,\n",
       "         -5.40727600e-03,  9.25576242e-03, -4.17732426e-02,\n",
       "         -5.78934450e-04, -9.19482590e-03,  9.33210914e-03,\n",
       "         -1.25058004e-02,  1.22373825e-02,  9.47302195e-03,\n",
       "          3.73460951e-03, -1.99706158e-03, -5.64543318e-03,\n",
       "         -6.38876954e-03,  6.14644239e-05, -4.09997705e-03,\n",
       "          1.24027853e-02, -2.63230515e-03,  1.98239135e-03,\n",
       "         -2.46291818e-02,  2.15679513e-03, -1.61214783e-02,\n",
       "         -9.53853997e-03, -5.33558386e-03, -3.31168673e-03,\n",
       "         -7.64518666e-04, -3.53594716e-03, -4.46157672e-03,\n",
       "         -9.75071357e-04,  1.75331985e-02, -3.61129408e-03,\n",
       "         -9.04296235e-03, -3.33543871e-03, -2.94077627e-02,\n",
       "          4.68080184e-03,  7.74049916e-03,  1.31654241e-03,\n",
       "         -1.09107387e-02, -9.59508705e-03, -6.43668768e-04,\n",
       "         -2.30005067e-03, -1.46760033e-03,  4.05493665e-03,\n",
       "         -5.31664889e-03, -1.33316288e-02, -9.72318085e-03,\n",
       "         -3.31554457e-03,  8.68891474e-04,  8.28225746e-03,\n",
       "          2.14311318e-03, -1.18022090e-03, -5.14946876e-04,\n",
       "         -3.24904124e-03, -8.15201748e-03, -2.08951201e-02,\n",
       "         -7.68696197e-03, -1.39492580e-02,  8.06767369e-03,\n",
       "          2.18070350e-03, -8.54664917e-03,  1.86185486e-02,\n",
       "         -1.39543465e-02],\n",
       "        [-2.27649954e-02,  4.60312712e-03, -8.89241033e-03,\n",
       "         -4.20383177e-03,  2.12255577e-02,  7.54213998e-03,\n",
       "          1.13367583e-01,  3.51051920e-04, -2.22147861e-03,\n",
       "         -9.53975164e-03, -1.27290384e-03, -2.24396947e-03,\n",
       "         -6.46341560e-03, -3.34948694e-02,  2.16972775e-02,\n",
       "         -9.83114451e-02,  1.18239188e-02,  1.35511495e-02,\n",
       "          5.50587555e-03,  2.11887009e-02,  1.70885333e-02,\n",
       "          1.21124271e-02, -2.53727572e-03,  1.58452469e-03,\n",
       "          1.05212166e-03,  1.71976894e-02, -1.62589028e-02,\n",
       "         -2.33972624e-03,  5.45764090e-02,  6.33882013e-04,\n",
       "          2.69423497e-02, -1.91613768e-03,  4.72803993e-02,\n",
       "          9.70231995e-03, -2.05226076e-02,  9.79752904e-04,\n",
       "          4.15165195e-03,  5.83212272e-02,  1.69767202e-02,\n",
       "         -6.03225750e-03, -2.20689891e-03,  5.56418401e-03,\n",
       "          3.03917301e-02, -3.06083873e-03, -3.28596765e-02,\n",
       "         -2.23443709e-03, -1.48668127e-02, -3.77650081e-02,\n",
       "         -3.31211299e-03, -2.67773047e-03,  3.53351905e-03,\n",
       "          1.99986427e-02,  1.44647151e-02,  8.77245819e-03,\n",
       "          8.57853286e-03,  4.54209103e-02,  1.11834522e-03,\n",
       "         -1.67222890e-03, -4.56533516e-05, -6.68589442e-03,\n",
       "          1.03298699e-02,  2.64597287e-04,  4.08777419e-03,\n",
       "         -1.87888119e-02,  2.26993887e-03, -2.71839556e-03,\n",
       "         -3.28014671e-03,  1.33151170e-02,  1.49174479e-02,\n",
       "         -2.42065764e-02, -3.30819237e-02,  1.26543731e-03,\n",
       "          4.42309589e-02,  7.09589239e-03, -7.25561755e-03,\n",
       "         -1.25854881e-02,  7.35337563e-04, -6.63814623e-05,\n",
       "          3.03925717e-02, -4.99276244e-04,  1.23773399e-02,\n",
       "          1.46111205e-02, -2.12617709e-03, -3.68668606e-03,\n",
       "          1.59474418e-03,  5.14702918e-02,  5.47322623e-02,\n",
       "          8.62237023e-04, -3.96118236e-03, -3.43178997e-02,\n",
       "          2.32960983e-02,  3.19028388e-03,  2.91653798e-02,\n",
       "          1.18410766e-03,  2.16547060e-02,  2.05658674e-02,\n",
       "          9.49227437e-03,  3.68476759e-02,  6.61379216e-02,\n",
       "          3.27727317e-02],\n",
       "        [-2.71380193e-02, -4.95427023e-03,  5.67782500e-03,\n",
       "          2.09303388e-03,  7.52963157e-03,  4.42459705e-02,\n",
       "          1.24504445e-02, -1.74422722e-03,  4.42790390e-03,\n",
       "         -2.61938096e-03,  1.03789615e-02, -1.13296077e-02,\n",
       "          6.37025358e-03,  1.35550261e-02,  6.98593108e-02,\n",
       "          1.43006272e-02,  3.20247334e-03,  1.70975175e-02,\n",
       "         -5.36616282e-02, -9.22573344e-04, -1.81148179e-02,\n",
       "         -9.66326665e-03,  3.39952507e-02,  2.42976730e-02,\n",
       "          5.70705305e-04,  4.99470294e-03,  5.60440438e-03,\n",
       "          5.50449863e-02,  4.77565006e-03, -4.04186378e-03,\n",
       "          5.35510306e-02,  1.33643502e-03, -2.21053121e-02,\n",
       "          3.63928173e-02,  1.96202180e-04, -2.17278032e-02,\n",
       "          1.33697229e-03,  1.67719104e-02,  3.29427927e-02,\n",
       "         -1.03041240e-02, -6.29654799e-03,  6.93867239e-04,\n",
       "          6.57197148e-03,  6.96675395e-03,  3.11816891e-02,\n",
       "          1.82852974e-02, -1.31985228e-03,  1.24078563e-02,\n",
       "          6.71256405e-03, -1.69369989e-03,  3.02242647e-02,\n",
       "          4.55907795e-05,  2.58597211e-03,  2.38558505e-03,\n",
       "          1.38544671e-02, -1.18293782e-04, -2.59650556e-03,\n",
       "          1.02165827e-02,  1.31232025e-02, -1.05074980e-02,\n",
       "          5.52988800e-03, -7.09786526e-03,  1.76134897e-02,\n",
       "          1.72132281e-02,  1.21311502e-02,  3.71285232e-03,\n",
       "          1.45177676e-02,  8.79203466e-03,  1.87252394e-02,\n",
       "          2.07019071e-02,  1.24365514e-02,  4.23092014e-03,\n",
       "         -2.07375162e-02, -1.42767061e-03,  1.84518125e-02,\n",
       "          1.41959300e-04, -5.53331381e-04,  1.18193631e-02,\n",
       "         -5.92936934e-02,  5.26706392e-03,  7.39629122e-03,\n",
       "         -2.91543693e-02, -1.77724127e-02,  3.78627680e-03,\n",
       "         -6.13866689e-02,  1.09243558e-02,  1.35177517e-02,\n",
       "          4.29759913e-02,  7.19567079e-03, -1.67748589e-03,\n",
       "         -7.17258420e-03, -7.32651987e-03, -4.72208236e-03,\n",
       "          4.33178173e-02, -1.83837166e-02,  4.70110871e-03,\n",
       "          3.37676922e-02,  1.72884963e-02,  8.70817278e-04,\n",
       "          7.96526025e-02],\n",
       "        [-1.50228325e-03,  6.92506992e-04,  8.00450381e-03,\n",
       "          1.46949427e-02, -4.97300226e-03,  4.64547269e-02,\n",
       "         -5.10907619e-03, -4.15350642e-02,  4.03770674e-03,\n",
       "          5.68646141e-02, -1.57928008e-03, -4.61010893e-03,\n",
       "         -2.88010523e-04,  2.02294662e-02,  4.85686521e-03,\n",
       "          4.54127235e-02,  1.46535294e-02,  7.13619508e-02,\n",
       "          9.02889040e-03, -1.78329645e-03,  5.94976978e-03,\n",
       "         -1.08685153e-02, -1.96198497e-03,  3.85634129e-03,\n",
       "          5.25473094e-03,  4.04847229e-02, -9.38228382e-03,\n",
       "         -2.09854242e-03,  9.64554178e-03,  2.24954929e-02,\n",
       "          2.47628445e-02, -2.27447050e-02, -4.15206300e-07,\n",
       "          1.11352920e-02,  1.51884791e-03, -3.84179993e-03,\n",
       "         -1.35762339e-02,  1.89291058e-03, -1.08948586e-02,\n",
       "         -1.10035958e-02, -1.73073193e-02, -2.16310427e-03,\n",
       "         -4.42721579e-04, -2.08609075e-03,  5.61158845e-03,\n",
       "          9.01170929e-03, -6.06082846e-03,  2.93310193e-03,\n",
       "         -2.39114639e-03,  4.16898720e-02,  5.14552412e-02,\n",
       "          9.12620959e-02,  2.18134889e-02, -5.94448305e-03,\n",
       "          2.85781942e-02,  5.65099213e-03, -2.06391867e-02,\n",
       "          1.16115916e-02,  2.00857494e-02, -9.49254620e-03,\n",
       "          2.92288030e-03, -5.77146224e-03,  1.69335106e-02,\n",
       "         -4.46988598e-03, -2.04990816e-03, -2.83821758e-02,\n",
       "          1.26169196e-02,  4.11858277e-03,  1.74059909e-03,\n",
       "          7.52979139e-03, -9.81729692e-02,  2.93315272e-02,\n",
       "          3.12915813e-04,  7.28715811e-03, -1.43205005e-02,\n",
       "         -6.18158659e-03,  9.31988924e-03,  1.75293471e-02,\n",
       "          8.01028467e-02,  7.66889079e-02,  1.54530010e-02,\n",
       "         -6.41192336e-03,  2.83814064e-04, -2.76727215e-03,\n",
       "         -3.12874820e-02, -1.45955225e-03, -1.45775821e-02,\n",
       "         -1.09943342e-02,  1.88680384e-02, -2.60161056e-02,\n",
       "          1.24160122e-02, -6.29420145e-03,  3.58030472e-03,\n",
       "         -3.76004199e-02,  2.41752574e-02,  1.63887826e-02,\n",
       "         -1.09154421e-01,  1.11609243e-01,  3.55945226e-02,\n",
       "          2.58364179e-02],\n",
       "        [-3.05654066e-04, -9.61430312e-04, -4.11056241e-03,\n",
       "         -1.37741047e-03, -1.84488503e-03, -4.39421159e-03,\n",
       "          6.96638803e-04, -2.34115537e-03, -5.82701165e-04,\n",
       "         -1.56818972e-03, -1.00455316e-03, -3.52096073e-03,\n",
       "          2.50985603e-03,  1.89437893e-04, -1.24269504e-03,\n",
       "         -8.28884215e-04, -4.82206976e-04,  1.77814194e-04,\n",
       "         -2.34282613e-03, -1.04761352e-03, -1.69554363e-03,\n",
       "          7.93230213e-05, -4.14311570e-03,  2.83231807e-04,\n",
       "          4.07194908e-04, -5.51900290e-04,  1.90003106e-03,\n",
       "         -1.31419062e-02, -4.05652478e-03, -9.94241644e-04,\n",
       "          9.74487574e-04, -3.09170007e-03, -1.74308772e-03,\n",
       "         -3.22710022e-03,  8.28418168e-04, -6.90758867e-03,\n",
       "         -5.28259160e-05,  2.93944495e-04,  2.17535253e-03,\n",
       "          4.25456649e-03,  1.00579605e-03,  8.86018022e-04,\n",
       "         -1.59140754e-02, -5.15996893e-03, -2.96392051e-03,\n",
       "         -1.03803092e-03, -9.85232260e-03, -2.63673482e-03,\n",
       "         -3.22840189e-03,  3.95974874e-03, -8.91010666e-04,\n",
       "         -1.70210982e-03, -2.09645446e-04,  3.51614657e-05,\n",
       "         -1.51090102e-02, -1.51359116e-02, -3.68980330e-03,\n",
       "          1.92955220e-04, -2.18233421e-02, -5.29636709e-03,\n",
       "         -7.52960531e-04, -4.74979349e-03, -1.26656644e-03,\n",
       "         -7.63191286e-04, -2.45832488e-02, -9.33799533e-04,\n",
       "         -2.99581489e-03,  2.37239074e-03, -3.50309970e-03,\n",
       "         -2.03983501e-03,  6.68895184e-03, -1.96131399e-03,\n",
       "          1.10327946e-02, -2.06034966e-02,  2.02908187e-03,\n",
       "          3.72365265e-03, -3.90282488e-03,  3.29493940e-05,\n",
       "         -1.41640770e-03,  3.49433033e-03, -3.70199003e-02,\n",
       "         -1.04130085e-02,  2.37819019e-03, -7.47707584e-03,\n",
       "         -2.41217300e-03, -3.28477377e-03,  1.22894011e-03,\n",
       "          6.10954601e-03, -3.63682602e-03, -3.41027705e-03,\n",
       "         -6.17127544e-03, -9.98309682e-03,  2.50995085e-03,\n",
       "          9.57461720e-03, -6.50963823e-03, -8.76767896e-04,\n",
       "         -7.52198693e-03, -3.72252650e-02, -2.55261889e-02,\n",
       "         -2.43905315e-02],\n",
       "        [-1.93616386e-02,  6.40181074e-03,  1.00155353e-02,\n",
       "          2.84854766e-02,  1.16235857e-02,  8.10237877e-03,\n",
       "         -1.31247126e-02,  6.14997337e-03,  6.11620855e-02,\n",
       "         -6.06138734e-03, -5.62036657e-04, -1.88618320e-02,\n",
       "          3.09002862e-02, -3.81614101e-03,  1.63262702e-02,\n",
       "          1.68022696e-02,  2.41066136e-02, -6.51605082e-04,\n",
       "          1.10996610e-02,  4.41193670e-03,  3.62797393e-04,\n",
       "          2.07615206e-02,  8.63154187e-03,  1.78642921e-03,\n",
       "         -5.39082399e-04, -4.11768455e-02,  6.80822533e-02,\n",
       "          1.78685258e-02, -7.48348807e-03,  4.77166046e-02,\n",
       "         -6.02594297e-03,  8.91574344e-03,  5.21916422e-02,\n",
       "          1.93284260e-02, -4.94888694e-03,  1.40050945e-02,\n",
       "         -3.95601481e-03,  5.43132553e-03, -2.62232889e-03,\n",
       "         -2.47251188e-03,  1.88547173e-03,  2.02604911e-02,\n",
       "          1.21816527e-02,  4.28487068e-02,  2.90876312e-02,\n",
       "          1.67965595e-02, -9.48677889e-03,  1.84016390e-02,\n",
       "         -9.07081486e-03,  4.26165528e-03, -2.00178207e-02,\n",
       "          8.20280327e-02, -5.49941169e-02, -7.93804293e-03,\n",
       "          1.87532330e-02, -3.80207915e-02, -5.54848113e-05,\n",
       "          8.31559460e-03,  3.22458198e-02,  6.71844702e-03,\n",
       "          1.03137471e-02, -1.20157314e-02, -2.92182003e-02,\n",
       "         -6.03743881e-03,  6.37059781e-06, -1.42775050e-03,\n",
       "          3.45772490e-03,  1.13403788e-02,  2.77821158e-03,\n",
       "          4.16872717e-03, -2.03206264e-03, -3.21654393e-04,\n",
       "          4.65904339e-02,  1.06284944e-02, -5.52593544e-03,\n",
       "         -1.55229849e-03, -5.42824735e-03,  9.27284722e-03,\n",
       "         -7.23597168e-03,  2.23726609e-02, -2.43380459e-03,\n",
       "         -4.08827545e-02,  7.04035561e-02, -5.94011924e-03,\n",
       "         -3.29082605e-02,  1.21339732e-02, -1.80220509e-02,\n",
       "          1.48247763e-02,  2.71815527e-02, -9.34660326e-03,\n",
       "          6.48379289e-03,  1.31782648e-02,  4.60482180e-02,\n",
       "         -4.85272361e-03, -1.97487880e-02, -1.02447166e-02,\n",
       "         -8.47677586e-03,  3.50503346e-02,  2.02762477e-02,\n",
       "         -7.15931377e-02],\n",
       "        [ 3.86564412e-02,  8.00369605e-02,  5.60687587e-03,\n",
       "          6.81402007e-02,  4.53539046e-02,  2.53430815e-03,\n",
       "          4.94057116e-03,  3.18347757e-02,  7.67566528e-06,\n",
       "         -6.66385181e-03,  2.39448884e-03, -8.77519892e-03,\n",
       "          2.90039498e-03,  3.81712115e-02,  2.29190366e-02,\n",
       "          3.61825089e-04,  3.08028691e-03, -6.01881308e-03,\n",
       "         -7.55896373e-04, -3.22407535e-04, -1.16502963e-02,\n",
       "         -6.74286766e-06, -4.73889348e-04,  5.79227635e-03,\n",
       "         -2.31568441e-03, -1.76625323e-02,  9.25175426e-03,\n",
       "          5.72810821e-03,  1.88676506e-04,  3.35429999e-02,\n",
       "         -7.32652550e-03,  2.68453959e-03, -4.11154825e-02,\n",
       "          1.33086094e-03,  1.20303626e-03,  2.64908374e-02,\n",
       "          1.24502824e-02, -1.24005951e-03,  1.34496531e-02,\n",
       "          1.18761451e-03,  1.16855120e-03, -3.52128736e-03,\n",
       "         -4.49691980e-03,  4.95733556e-03,  3.82197403e-03,\n",
       "          4.47066351e-03, -6.16204423e-03,  8.47392234e-03,\n",
       "         -6.60336251e-04, -1.63698245e-03,  1.95874272e-02,\n",
       "          2.46594377e-02, -6.91872745e-04, -2.00378675e-02,\n",
       "         -4.04482858e-03, -1.79107238e-02,  6.93926925e-03,\n",
       "         -6.19819298e-03, -2.60139480e-02,  5.29350242e-02,\n",
       "         -1.76594339e-02, -2.00136183e-02, -1.71457091e-03,\n",
       "         -7.81543340e-04,  2.56895423e-04,  5.16923356e-02,\n",
       "          6.57386592e-04,  1.33573934e-02,  9.52869499e-03,\n",
       "          4.42911817e-02,  1.51035209e-02,  3.00522212e-05,\n",
       "          5.52108434e-03,  8.66022911e-02,  1.76768314e-02,\n",
       "         -6.09226403e-03,  4.54215639e-04,  8.22399397e-03,\n",
       "         -4.51928914e-03,  8.89581148e-04,  7.50234723e-03,\n",
       "          2.08852964e-02,  1.56986256e-02, -9.20726775e-03,\n",
       "         -5.16610419e-02, -1.08717019e-02, -1.71335103e-02,\n",
       "          1.90998668e-02,  7.20419521e-03,  2.86752934e-02,\n",
       "         -6.95122427e-03, -3.57263993e-03, -5.77771643e-03,\n",
       "         -4.34605277e-02,  2.86979547e-02,  3.56173968e-02,\n",
       "          2.93313728e-02, -3.11261734e-02, -8.97573691e-03,\n",
       "          1.47692543e-02]])]"
      ]
     },
     "execution_count": 20,
     "metadata": {},
     "output_type": "execute_result"
    }
   ],
   "source": [
    "faithfulness_metric_new(imdb_model, x_train[:100],shap_values,)"
   ]
  },
  {
   "cell_type": "code",
   "execution_count": null,
   "metadata": {
    "id": "Ue72fHGCyJwg"
   },
   "outputs": [],
   "source": [
    "import seaborn as sns\n",
    "%matplotlib inline\n",
    "from collections import OrderedDict\n",
    "from lime.lime_text import LimeTextExplainer\n",
    "\n",
    "explainer = LimeTextExplainer(class_names=class_names)\n",
    "explanation = explainer.explain_instance(text_sample, pipeline.predict_proba, num_features=10)\n",
    "\n",
    "weights = OrderedDict(explanation.as_list())\n",
    "lime_weights = pd.DataFrame({'words': list(weights.keys()), 'weights': list(weights.values())})\n",
    "\n",
    "sns.barplot(x=\"words\", y=\"weights\", data=lime_weights);\n",
    "plt.xticks(rotation=45)\n",
    "plt.title('Sample {} features weights given by LIME'.format(idx"
   ]
  },
  {
   "cell_type": "code",
   "execution_count": null,
   "metadata": {
    "id": "hdx8yj2SyJtD"
   },
   "outputs": [],
   "source": []
  },
  {
   "cell_type": "code",
   "execution_count": null,
   "metadata": {
    "id": "EXpFsOBmyJpr"
   },
   "outputs": [],
   "source": []
  },
  {
   "cell_type": "code",
   "execution_count": null,
   "metadata": {
    "id": "19RPgMZNyJmi"
   },
   "outputs": [],
   "source": []
  },
  {
   "cell_type": "code",
   "execution_count": null,
   "metadata": {
    "id": "OzKTT4BeyJgL"
   },
   "outputs": [],
   "source": []
  },
  {
   "cell_type": "code",
   "execution_count": null,
   "metadata": {
    "colab": {
     "base_uri": "https://localhost:8080/"
    },
    "id": "f-OA_AMlroyW",
    "outputId": "fb6d62c6-de5b-4ac6-80c8-df52d72c32a6"
   },
   "outputs": [
    {
     "name": "stdout",
     "output_type": "stream",
     "text": [
      "[[294 432 118 839   0   0   0   0   0   0]\n",
      " [ 83 292  53 155 978   0   0   0   0   0]\n",
      " [647 395 647 870   0   0   0   0   0   0]]\n",
      "Model: \"sequential_1\"\n",
      "_________________________________________________________________\n",
      "Layer (type)                 Output Shape              Param #   \n",
      "=================================================================\n",
      "embedding_1 (Embedding)      (None, 10, 5)             5000      \n",
      "=================================================================\n",
      "Total params: 5,000\n",
      "Trainable params: 5,000\n",
      "Non-trainable params: 0\n",
      "_________________________________________________________________\n",
      "(3, 10, 5)\n",
      "[[[ 0.00695399  0.00409682 -0.01790615 -0.0407742  -0.00364416]\n",
      "  [ 0.00572466 -0.00579856  0.00546278 -0.00656985  0.04477376]\n",
      "  [ 0.03435269  0.02575524 -0.04982668  0.035398    0.0104836 ]\n",
      "  [-0.01975696 -0.02365493  0.02220471 -0.02848283  0.02944792]\n",
      "  [ 0.0338865  -0.03358352  0.00422425  0.033916    0.02224642]\n",
      "  [ 0.0338865  -0.03358352  0.00422425  0.033916    0.02224642]\n",
      "  [ 0.0338865  -0.03358352  0.00422425  0.033916    0.02224642]\n",
      "  [ 0.0338865  -0.03358352  0.00422425  0.033916    0.02224642]\n",
      "  [ 0.0338865  -0.03358352  0.00422425  0.033916    0.02224642]\n",
      "  [ 0.0338865  -0.03358352  0.00422425  0.033916    0.02224642]]\n",
      "\n",
      " [[ 0.0043534  -0.02292677 -0.00910264 -0.02571132 -0.03190614]\n",
      "  [-0.02638593 -0.02565376  0.04820353  0.04919772  0.00372016]\n",
      "  [-0.03261495  0.03434868  0.01865116 -0.0438613  -0.01935728]\n",
      "  [-0.03136343 -0.04330779 -0.01959722 -0.03685794 -0.01396812]\n",
      "  [ 0.03969225 -0.02090836 -0.01460031  0.038916    0.01163859]\n",
      "  [ 0.0338865  -0.03358352  0.00422425  0.033916    0.02224642]\n",
      "  [ 0.0338865  -0.03358352  0.00422425  0.033916    0.02224642]\n",
      "  [ 0.0338865  -0.03358352  0.00422425  0.033916    0.02224642]\n",
      "  [ 0.0338865  -0.03358352  0.00422425  0.033916    0.02224642]\n",
      "  [ 0.0338865  -0.03358352  0.00422425  0.033916    0.02224642]]\n",
      "\n",
      " [[-0.01140684 -0.02286527 -0.03019688 -0.03589422 -0.04008605]\n",
      "  [-0.01079284 -0.0436818   0.01290175  0.04595664  0.01146306]\n",
      "  [-0.01140684 -0.02286527 -0.03019688 -0.03589422 -0.04008605]\n",
      "  [ 0.02401892  0.02422221 -0.01709601 -0.01132803  0.04852653]\n",
      "  [ 0.0338865  -0.03358352  0.00422425  0.033916    0.02224642]\n",
      "  [ 0.0338865  -0.03358352  0.00422425  0.033916    0.02224642]\n",
      "  [ 0.0338865  -0.03358352  0.00422425  0.033916    0.02224642]\n",
      "  [ 0.0338865  -0.03358352  0.00422425  0.033916    0.02224642]\n",
      "  [ 0.0338865  -0.03358352  0.00422425  0.033916    0.02224642]\n",
      "  [ 0.0338865  -0.03358352  0.00422425  0.033916    0.02224642]]]\n"
     ]
    }
   ],
   "source": [
    "from keras.preprocessing.text import one_hot\n",
    "\n",
    "sentence=['Fast cars are good',\n",
    "          'Football is a famous sport',\n",
    "          'Be happy Be positive']\n",
    "\n",
    "vocab_size=1000\n",
    "\n",
    "encoded_docs=[one_hot(d,vocab_size) for d in sentence]\n",
    "\n",
    "from keras.preprocessing.sequence import pad_sequences\n",
    "from keras.models import Sequential\n",
    "from keras.layers import Embedding\n",
    "\n",
    "import numpy as np\n",
    "\n",
    "embedding_length=5\n",
    "max_length=10\n",
    "\n",
    "encoded_docs=pad_sequences(encoded_docs,truncating='post',padding='post',maxlen=max_length)\n",
    "print(encoded_docs)\n",
    "\n",
    "model=Sequential()\n",
    "model.add(Embedding(vocab_size,embedding_length,input_length=max_length))\n",
    "model.compile('rmsprop','mse')\n",
    "model.summary()\n",
    "output=model.predict(encoded_docs)\n",
    "print(output.shape)\n",
    "print(output)"
   ]
  },
  {
   "cell_type": "code",
   "execution_count": null,
   "metadata": {
    "id": "4POGVOWAzW7P"
   },
   "outputs": [],
   "source": [
    "def monotonicity_metric(model, x, coefs, base):\n",
    "\n",
    "    \"\"\" This metric measures the effect of individual features on model performance by evaluating the effect on\n",
    "    model performance of incrementally adding each attribute in order of increasing importance. As each feature\n",
    "    is added, the performance of the model should correspondingly increase, thereby resulting in monotonically\n",
    "    increasing model performance. [#]_\n",
    "    References:\n",
    "        .. [#] `Ronny Luss, Pin-Yu Chen, Amit Dhurandhar, Prasanna Sattigeri, Karthikeyan Shanmugam, and\n",
    "           Chun-Chen Tu. Generating Contrastive Explanations with Monotonic Attribute Functions. CoRR abs/1905.13565. 2019.\n",
    "           <https://arxiv.org/pdf/1905.12698.pdf>`_\n",
    "    Args:\n",
    "        model: Trained classifier, such as a ScikitClassifier that implements\n",
    "            a predict() and a predict_proba() methods.\n",
    "        x (numpy.ndarray): row of data.\n",
    "        coefs (numpy.ndarray): coefficients (weights) corresponding to attribute importance.\n",
    "        base ((numpy.ndarray): base (default) values of attributes\n",
    "    Returns:\n",
    "        bool: True if the relationship is monotonic.\n",
    "    \"\"\"\n",
    "    #find predicted class\n",
    "    pred_class = np.argmax(model.predict_proba(x.reshape(1,-1)), axis=1)[0]\n",
    "\n",
    "    x_copy = base.copy()\n",
    "\n",
    "    #find indexs of coefficients in increasing order of value\n",
    "    ar = np.argsort(coefs)\n",
    "    pred_probs = np.zeros(x.shape[0])\n",
    "    for ind in np.nditer(ar):\n",
    "        x_copy[ind] = x[ind]\n",
    "        x_copy_pr = model.predict_proba(x_copy.reshape(1,-1))\n",
    "        pred_probs[ind] = x_copy_pr[0][pred_class]\n",
    "\n",
    "    return np.all(np.diff(pred_probs[ar]) >= 0)"
   ]
  }
 ],
 "metadata": {
  "colab": {
   "collapsed_sections": [],
   "name": "RNN.ipynb",
   "provenance": []
  },
  "kernelspec": {
   "display_name": "Python 3",
   "language": "python",
   "name": "python3"
  },
  "language_info": {
   "codemirror_mode": {
    "name": "ipython",
    "version": 3
   },
   "file_extension": ".py",
   "mimetype": "text/x-python",
   "name": "python",
   "nbconvert_exporter": "python",
   "pygments_lexer": "ipython3",
   "version": "3.6.9"
  }
 },
 "nbformat": 4,
 "nbformat_minor": 1
}
