{
 "cells": [
  {
   "cell_type": "code",
   "execution_count": null,
   "metadata": {
    "id": "8IsZbKS7P2EP"
   },
   "outputs": [],
   "source": [
    "# from google.colab import drive\n",
    "# drive.mount('/content/gdrive')"
   ]
  },
  {
   "cell_type": "code",
   "execution_count": null,
   "metadata": {
    "id": "G73vO5AKP47Q"
   },
   "outputs": [],
   "source": [
    "#  %cd /content/gdrive/My Drive"
   ]
  },
  {
   "cell_type": "code",
   "execution_count": null,
   "metadata": {
    "id": "6q-s_GiFP9C0"
   },
   "outputs": [],
   "source": [
    "# !pip3 install seaborn"
   ]
  },
  {
   "cell_type": "code",
   "execution_count": null,
   "metadata": {
    "id": "EM6DcBjKi98I"
   },
   "outputs": [],
   "source": [
    "# !pip install shap"
   ]
  },
  {
   "cell_type": "code",
   "execution_count": null,
   "metadata": {
    "id": "f7HRrpPQi_94"
   },
   "outputs": [],
   "source": [
    "# !pip install lime"
   ]
  },
  {
   "cell_type": "code",
   "execution_count": null,
   "metadata": {
    "id": "MSm4xlMFiMpl"
   },
   "outputs": [],
   "source": [
    "from sklearn.datasets import load_boston\n",
    "import pandas as pd\n",
    "import numpy as np\n",
    "import seaborn as sns\n",
    "from sklearn.model_selection  import train_test_split\n",
    "from sklearn.linear_model import LinearRegression\n",
    "from sklearn.ensemble import RandomForestRegressor\n",
    "from sklearn.preprocessing import StandardScaler\n",
    "from sklearn.svm import SVR\n",
    "from sklearn.model_selection import cross_val_score\n",
    "from sklearn.metrics import r2_score\n",
    "import shap\n",
    "import lime\n",
    "import lime.lime_tabular\n",
    "%matplotlib inline"
   ]
  },
  {
   "cell_type": "code",
   "execution_count": null,
   "metadata": {
    "colab": {
     "base_uri": "https://localhost:8080/"
    },
    "id": "JDuNZQeViXRZ",
    "outputId": "a0bf9d42-9378-4728-b4b4-95984afacf57"
   },
   "outputs": [],
   "source": [
    "df = pd.read_csv('train.csv')# datasource: https://archive.ics.uci.edu/ml/datasets/Superconductivty+Data\n",
    "y = df['critical_temp']\n",
    "X = df.drop('critical_temp',axis=1)\n",
    "columns = X.columns\n",
    "\n",
    "X_train, X_test, y_train, y_test = train_test_split(X, y, test_size=0.3, random_state = 42)\n",
    "X_train.shape, X_test.shape, y_train.shape, y_test.shape "
   ]
  },
  {
   "cell_type": "markdown",
   "metadata": {
    "id": "b2gRr5L7kkOG"
   },
   "source": [
    "## Model Training"
   ]
  },
  {
   "cell_type": "markdown",
   "metadata": {
    "id": "o6tm1EEbimW8"
   },
   "source": [
    "Linear Regression"
   ]
  },
  {
   "cell_type": "code",
   "execution_count": null,
   "metadata": {
    "colab": {
     "base_uri": "https://localhost:8080/"
    },
    "id": "cpo3acRGil9O",
    "outputId": "76165862-4485-46a9-8331-d45b5db304c4"
   },
   "outputs": [],
   "source": [
    "model = LinearRegression()\n",
    "model.fit( X_train, y_train )\n",
    "print(\"====================================================\")\n",
    "# print('labels\\n',X.columns)\n",
    "# print('Coefficients: \\n', model.coef_)\n",
    "# print('Intercept: \\n', model.intercept_)\n",
    "# print('R2 for Train)', model.score( X_train, y_train ))\n",
    "print('R2 for Test (cross validation)', model.score(X_test, y_test))\n",
    "print(\"====================================================\")\n"
   ]
  },
  {
   "cell_type": "markdown",
   "metadata": {
    "id": "z2HroVq_joSb"
   },
   "source": [
    "RandomForest "
   ]
  },
  {
   "cell_type": "code",
   "execution_count": null,
   "metadata": {
    "colab": {
     "base_uri": "https://localhost:8080/"
    },
    "id": "oF0zf3DFjm7g",
    "outputId": "7fd3dff7-cc76-4961-f3ed-b323f57c3f29"
   },
   "outputs": [],
   "source": [
    "rf_model = RandomForestRegressor()\n",
    "rf_model.fit(X_train,y_train)\n",
    "\n",
    "print(\"====================================================\")\n",
    "# print('labels\\n',X.columns)\n",
    "print('R2 for Train)', rf_model.score( X_train, y_train ))\n",
    "print('R2 for Test (cross validation)', rf_model.score(X_test, y_test))\n",
    "print(\"====================================================\")"
   ]
  },
  {
   "cell_type": "markdown",
   "metadata": {
    "id": "y354Nc1skZ69"
   },
   "source": [
    "SVR"
   ]
  },
  {
   "cell_type": "code",
   "execution_count": null,
   "metadata": {
    "id": "ZeRNzcSLkQO4"
   },
   "outputs": [],
   "source": [
    "sc_X = StandardScaler()\n",
    "sc_y = StandardScaler()\n",
    "\n",
    "\n",
    "X_train_scaled = sc_X.fit_transform(np.array(X_train))\n",
    "y_train_scaled = sc_y.fit_transform(np.array(y_train).reshape(-1,1))\n",
    "X_test_scaled = sc_X.fit_transform(np.array(X_test))\n",
    "y_test_scaled = sc_y.fit_transform(np.array(y_test).reshape(-1,1))"
   ]
  },
  {
   "cell_type": "code",
   "execution_count": null,
   "metadata": {
    "colab": {
     "base_uri": "https://localhost:8080/"
    },
    "id": "Oc7HOMtasvZ8",
    "outputId": "5adec312-594b-4715-e73e-668e660797e0"
   },
   "outputs": [],
   "source": [
    "svr_model = SVR(kernel='rbf')\n",
    "svr_model.fit(X_train_scaled,y_train_scaled)"
   ]
  },
  {
   "cell_type": "code",
   "execution_count": null,
   "metadata": {
    "id": "iMa7WXvRu6qW"
   },
   "outputs": [],
   "source": [
    "# y_pred_0 = svr_model.predict(X_test_scaled)[10]\n",
    "# print(sc_y.inverse_transform(y_pred_0.reshape(-1,1)))"
   ]
  },
  {
   "cell_type": "code",
   "execution_count": null,
   "metadata": {
    "id": "SjyKl5AcvXJ9"
   },
   "outputs": [],
   "source": [
    "# y_test.iloc[10]"
   ]
  },
  {
   "cell_type": "code",
   "execution_count": null,
   "metadata": {
    "colab": {
     "base_uri": "https://localhost:8080/"
    },
    "id": "ZGyT7FgHtAgo",
    "outputId": "ffdfa940-c010-4c13-ff0f-217f4aafe357"
   },
   "outputs": [],
   "source": [
    "\n",
    "print(\"====================================================\")\n",
    "# print('labels\\n',X.columns)\n",
    "print('R2 for Train)', svr_model.score( X_train_scaled, y_train_scaled ))\n",
    "print('R2 for Test (cross validation)', r2_score(y_test, sc_y.inverse_transform(svr_model.predict(X_test_scaled))))\n",
    "print(\"====================================================\")"
   ]
  },
  {
   "cell_type": "code",
   "execution_count": null,
   "metadata": {
    "colab": {
     "background_save": true,
     "base_uri": "https://localhost:8080/"
    },
    "id": "TO0nQYIc01ts",
    "outputId": "a1e11187-cc72-4928-8df0-18d2f72e40f3"
   },
   "outputs": [],
   "source": [
    "#test to see how svr performs without feature scaling\n",
    "svr_model2 = SVR(kernel='rbf')\n",
    "svr_model2.fit(X_train,y_train)\n",
    "\n",
    "print(\"====================================================\")\n",
    "# print('labels\\n',X.columns)\n",
    "print('R2 for Train)', svr_model2.score( X_train, y_train ))\n",
    "print('R2 for Test (cross validation)', svr_model2.score(X_test, y_test))\n",
    "print(\"====================================================\")"
   ]
  },
  {
   "cell_type": "markdown",
   "metadata": {
    "id": "Lf40x1Xci5bR"
   },
   "source": [
    "## Explanation"
   ]
  },
  {
   "cell_type": "markdown",
   "metadata": {
    "id": "PQbxVwRakoW-"
   },
   "source": [
    "SHAP"
   ]
  },
  {
   "cell_type": "markdown",
   "metadata": {
    "id": "38r8AVRqjfzH"
   },
   "source": [
    "Instance-wise explanation"
   ]
  },
  {
   "cell_type": "code",
   "execution_count": null,
   "metadata": {
    "colab": {
     "background_save": true
    },
    "id": "0d3Y-aHCku3Z"
   },
   "outputs": [],
   "source": [
    "X100 = shap.utils.sample(X, 1000)\n",
    "X100_scaled = sc_X.fit_transform(X100)"
   ]
  },
  {
   "cell_type": "code",
   "execution_count": null,
   "metadata": {
    "colab": {
     "background_save": true
    },
    "id": "5gWF_o5hi3bm"
   },
   "outputs": [],
   "source": [
    "#using Model Agnostic Explainer\n",
    "exp_LR = shap.Explainer(model.predict, X100)\n",
    "exp_rf = shap.Explainer(rf_model.predict, X100)\n",
    "exp_svr = shap.Explainer(svr_model.predict,X100_scaled)"
   ]
  },
  {
   "cell_type": "code",
   "execution_count": null,
   "metadata": {
    "colab": {
     "background_save": true
    },
    "id": "uUJK_fTju0Xz"
   },
   "outputs": [],
   "source": [
    "#test on unscaled\n",
    "exp_svr_n = shap.Explainer(svr_model2.predict,X100)"
   ]
  },
  {
   "cell_type": "code",
   "execution_count": null,
   "metadata": {
    "colab": {
     "background_save": true
    },
    "id": "Gyk6qCDGlS6o"
   },
   "outputs": [],
   "source": [
    "#select first 10 instance to explain\n",
    "idx = 5"
   ]
  },
  {
   "cell_type": "code",
   "execution_count": null,
   "metadata": {
    "colab": {
     "background_save": true
    },
    "id": "GqBXMW-5lqK_"
   },
   "outputs": [],
   "source": [
    "#X_test.iloc[idx,:]single"
   ]
  },
  {
   "cell_type": "code",
   "execution_count": null,
   "metadata": {
    "colab": {
     "background_save": true,
     "base_uri": "https://localhost:8080/"
    },
    "id": "lUljcb_llN5W",
    "outputId": "a9519795-b5b0-464c-c02d-d8f79e52f37e"
   },
   "outputs": [],
   "source": [
    "shap_values_instance_LR = exp_LR(X_test.iloc[idx:,])\n",
    "shap_values_instance_rf = exp_rf(X_test.iloc[idx:,])\n",
    "shap_values_instance_svr = exp_svr(X_test_scaled[idx:,]) "
   ]
  },
  {
   "cell_type": "code",
   "execution_count": null,
   "metadata": {
    "id": "uzvtmqVku93W"
   },
   "outputs": [],
   "source": [
    "\n",
    "shap_values_instance_svr_n = exp_svr_n(X_test.iloc[idx:,]) "
   ]
  },
  {
   "cell_type": "code",
   "execution_count": null,
   "metadata": {
    "id": "jivX-ZaUvdP5"
   },
   "outputs": [],
   "source": [
    "#X_test.iloc[idx:,]"
   ]
  },
  {
   "cell_type": "code",
   "execution_count": null,
   "metadata": {
    "colab": {
     "base_uri": "https://localhost:8080/"
    },
    "id": "nphG8z1TuuPv",
    "outputId": "5b172c10-f9f2-4b85-9f0e-f9b9fa0e1f4a",
    "scrolled": true
   },
   "outputs": [],
   "source": [
    "shap_values_instance_svr[0],shap_values_instance_svr_n[0]"
   ]
  },
  {
   "cell_type": "markdown",
   "metadata": {
    "id": "D_7ttKeZmzGq"
   },
   "source": [
    "Visulization|"
   ]
  },
  {
   "cell_type": "code",
   "execution_count": null,
   "metadata": {
    "colab": {
     "base_uri": "https://localhost:8080/",
     "height": 418
    },
    "id": "G7i6Y1N_l67m",
    "outputId": "f2c82950-2db4-4e49-beb4-570e682d9f6c"
   },
   "outputs": [],
   "source": [
    "shap.plots.bar(shap_values_instance_LR)"
   ]
  },
  {
   "cell_type": "code",
   "execution_count": null,
   "metadata": {
    "id": "uEORNp_qsYN5"
   },
   "outputs": [],
   "source": [
    "shap.plots.heatmap(shap_values[:1000]"
   ]
  },
  {
   "cell_type": "code",
   "execution_count": null,
   "metadata": {
    "id": "4vBE8csXsgGC"
   },
   "outputs": [],
   "source": [
    "shap.plots.waterfall(shap_values[sample_ind], max_display=14)"
   ]
  },
  {
   "cell_type": "code",
   "execution_count": null,
   "metadata": {
    "id": "Wns22I4TsiqW"
   },
   "outputs": [],
   "source": [
    "shap.initjs()\n",
    "shap.plots.force(shap_values[0])"
   ]
  },
  {
   "cell_type": "code",
   "execution_count": null,
   "metadata": {
    "id": "qMRSL4hLspUH"
   },
   "outputs": [],
   "source": [
    "shap.summary_plot(shap_values_rf, X_test)"
   ]
  },
  {
   "cell_type": "code",
   "execution_count": null,
   "metadata": {
    "colab": {
     "base_uri": "https://localhost:8080/"
    },
    "id": "O-m7toDoThw6",
    "outputId": "26ed8dfd-edf1-412d-d318-6c55e2090b87"
   },
   "outputs": [],
   "source": [
    "shap_values_instance_svr.shape"
   ]
  },
  {
   "cell_type": "code",
   "execution_count": null,
   "metadata": {
    "id": "2AGbjN9Ymxjp"
   },
   "outputs": [],
   "source": [
    "#using Model Agnostic Kernel SHAP\n",
    "exp_LR_k = shap.KernelExplainer(model.predict, X100)\n",
    "exp_rf_k = shap.KernelExplainer(rf_model.predict, X100)\n",
    "exp_svr_k = shap.KernelExplainer(svr_model.predict,X100_scaled)"
   ]
  },
  {
   "cell_type": "code",
   "execution_count": null,
   "metadata": {
    "id": "VIFvpKJcvnAG"
   },
   "outputs": [],
   "source": [
    "\n",
    "exp_svr_k_n = shap.KernelExplainer(svr_model2.predict,X100)"
   ]
  },
  {
   "cell_type": "markdown",
   "metadata": {
    "id": "_iqGbWgmpEN2"
   },
   "source": [
    "local explanation"
   ]
  },
  {
   "cell_type": "code",
   "execution_count": null,
   "metadata": {
    "colab": {
     "base_uri": "https://localhost:8080/",
     "height": 49,
     "referenced_widgets": [
      "11eb998f6cfe4ae49917e0b21c0306c2",
      "b99ae73c841d429d994b9b8e764c2cc3",
      "2ffb75a4dc2a47279088679613553519",
      "dc381a2679b241428781eec9f062d39a",
      "1a5ec13584ae45e3852e6b5756eb0f98",
      "a69e1b89fad340ebb3fbb330adb5c98f",
      "323e6eb482c14efb96957be9a976af44",
      "0f7e3fa30b0e43e2a2a5b3043622f9be",
      "a5ae8b8653d44aeb98c439122fc60da3",
      "4ff20c7daac240f2971ba8819b08ef57",
      "cd106fa4d86d4059af82077f450ac5ea"
     ]
    },
    "id": "H_278m0TnNHq",
    "outputId": "be8a6302-d847-493a-b196-656398606696"
   },
   "outputs": [],
   "source": [
    "shap_values_LR_K = exp_LR_k.shap_values(X_test.iloc[idx,:])\n",
    "shap_values_rf_K = exp_rf_k.shap_values(X_test.iloc[idx,:])\n",
    "shap_values_svr_K = exp_svr_k.shap_values(X_test_scaled[idx,:][None,:])"
   ]
  },
  {
   "cell_type": "code",
   "execution_count": null,
   "metadata": {
    "id": "SRizAZD-vyh5"
   },
   "outputs": [],
   "source": [
    "\n",
    "shap_values_svr_K_n = exp_svr_k_n.shap_values(X_test.iloc[idx,:])"
   ]
  },
  {
   "cell_type": "code",
   "execution_count": null,
   "metadata": {
    "colab": {
     "base_uri": "https://localhost:8080/",
     "height": 193
    },
    "id": "BHVpci2togRe",
    "outputId": "e69c8be5-dbdb-4ec8-f7f5-431a48e0ce97"
   },
   "outputs": [],
   "source": [
    "shap.initjs()\n",
    "shap.force_plot(exp_LR_k.expected_value, shap_values_LR_K, X_test.iloc[idx,:])"
   ]
  },
  {
   "cell_type": "code",
   "execution_count": null,
   "metadata": {
    "colab": {
     "base_uri": "https://localhost:8080/",
     "height": 193
    },
    "id": "LBH-9Up9vC45",
    "outputId": "be1d8148-cef7-4d7e-c8f4-c7b665f07ae2"
   },
   "outputs": [],
   "source": [
    "\n",
    "shap.initjs()\n",
    "shap.force_plot(exp_rf_k.expected_value, shap_values_rf_K, X_test.iloc[idx,:])"
   ]
  },
  {
   "cell_type": "code",
   "execution_count": null,
   "metadata": {
    "colab": {
     "base_uri": "https://localhost:8080/",
     "height": 193
    },
    "id": "p8GX7Kw9vH4Z",
    "outputId": "2ea8f11f-9af5-42ae-c981-708e77614519"
   },
   "outputs": [],
   "source": [
    "shap.initjs()\n",
    "shap.force_plot(exp_svr_k.expected_value, shap_values_svr_K, X_test_scaled[idx,:])"
   ]
  },
  {
   "cell_type": "code",
   "execution_count": null,
   "metadata": {
    "colab": {
     "base_uri": "https://localhost:8080/",
     "height": 193
    },
    "id": "JsQzh-9HwEz4",
    "outputId": "ea424e62-b3ca-48a3-f9e5-9cfc449b700e"
   },
   "outputs": [],
   "source": [
    "shap.initjs()\n",
    "shap.force_plot(exp_svr_k_n.expected_value, shap_values_svr_K_n, X_test.iloc[idx,:])"
   ]
  },
  {
   "cell_type": "code",
   "execution_count": null,
   "metadata": {
    "id": "itjeKRaPwJnF"
   },
   "outputs": [],
   "source": []
  },
  {
   "cell_type": "markdown",
   "metadata": {
    "id": "KEUXq7V4pGX4"
   },
   "source": [
    "Aggregated explanation"
   ]
  },
  {
   "cell_type": "code",
   "execution_count": null,
   "metadata": {
    "id": "ggmwWw93o_3n"
   },
   "outputs": [],
   "source": [
    "# shap_values_all_LR = exp_LR_k.shap_values(X_test)\n",
    "# shap_values_all_rf = exp_rf_k.shap_values(X_test)\n",
    "# shap_values_all_svr= exp_svr_k.shap_values(X_test_scaled)"
   ]
  },
  {
   "cell_type": "code",
   "execution_count": null,
   "metadata": {
    "id": "lGp8iX6VwelA"
   },
   "outputs": [],
   "source": [
    "\n",
    "# shap_values_all_svr_n = exp_svr_k_n.shap_values(X_test)"
   ]
  },
  {
   "cell_type": "code",
   "execution_count": null,
   "metadata": {
    "id": "4gU-XGw1pN7A"
   },
   "outputs": [],
   "source": [
    "# shap.summary_plot(shap_values_all_LR, X_test)"
   ]
  },
  {
   "cell_type": "code",
   "execution_count": null,
   "metadata": {
    "id": "WE8tIOvdpkfC"
   },
   "outputs": [],
   "source": [
    "# shap.summary_plot(shap_values_all_rf, X_test)"
   ]
  },
  {
   "cell_type": "code",
   "execution_count": null,
   "metadata": {
    "id": "i_AVl6mgpoxD"
   },
   "outputs": [],
   "source": [
    "# shap.initjs()\n",
    "# shap.plots.force(exp_LR_k.expected_value,shap_values_all_LR,X_test)"
   ]
  },
  {
   "cell_type": "code",
   "execution_count": null,
   "metadata": {
    "id": "7J2iWkrvppjT"
   },
   "outputs": [],
   "source": [
    "# shap.initjs()\n",
    "# shap.plots.force(exp_rf_k.expected_value,shap_values_all_rf,X_test)"
   ]
  },
  {
   "cell_type": "code",
   "execution_count": null,
   "metadata": {
    "id": "Nd9iWN4ZpqKh"
   },
   "outputs": [],
   "source": [
    "# shap.initjs()\n",
    "# shap.plots.force(exp_svr_k.expected_value,shap_values_all_svr,X_test_scaled)"
   ]
  },
  {
   "cell_type": "code",
   "execution_count": null,
   "metadata": {
    "id": "anBzpKyMwstJ"
   },
   "outputs": [],
   "source": [
    "# shap.initjs()\n",
    "# shap.plots.force(exp_svr_k_n.expected_value,shap_values_all_svr_n,X_test)"
   ]
  },
  {
   "cell_type": "markdown",
   "metadata": {
    "id": "NgxawykMqF8R"
   },
   "source": [
    "TreeSHAP for random Forest|"
   ]
  },
  {
   "cell_type": "code",
   "execution_count": null,
   "metadata": {
    "id": "strRy31vqLCJ"
   },
   "outputs": [],
   "source": [
    "exp = shap.TreeExplainer(rf_model,X100)"
   ]
  },
  {
   "cell_type": "code",
   "execution_count": null,
   "metadata": {
    "id": "D1Bj024bqc7A"
   },
   "outputs": [],
   "source": [
    "i =100"
   ]
  },
  {
   "cell_type": "code",
   "execution_count": null,
   "metadata": {
    "id": "Zz7PdPlCqYG0"
   },
   "outputs": [],
   "source": [
    "shap_values = exp(X_test.iloc[:i,])"
   ]
  },
  {
   "cell_type": "code",
   "execution_count": null,
   "metadata": {
    "colab": {
     "base_uri": "https://localhost:8080/",
     "height": 410
    },
    "id": "GayYJnIiqob7",
    "outputId": "0ae61f1d-f3f2-40be-c72c-64e684ae5cd2"
   },
   "outputs": [],
   "source": [
    "shap.plots.heatmap(shap_values[:50,])"
   ]
  },
  {
   "cell_type": "code",
   "execution_count": null,
   "metadata": {
    "colab": {
     "base_uri": "https://localhost:8080/",
     "height": 433
    },
    "id": "z1O7Nwx4qsCL",
    "outputId": "2a9d4be3-71ad-4667-dce9-91fb6796cb55"
   },
   "outputs": [],
   "source": [
    "shap.summary_plot(shap_values, X_test.iloc[:100,])"
   ]
  },
  {
   "cell_type": "code",
   "execution_count": null,
   "metadata": {
    "colab": {
     "base_uri": "https://localhost:8080/",
     "height": 193
    },
    "id": "KCs2SZDiquZv",
    "outputId": "e75fd3e0-7eb3-44ec-a6b8-1ecf1875a79a"
   },
   "outputs": [],
   "source": [
    "shap.initjs()\n",
    "shap.plots.force(shap_values[0])"
   ]
  },
  {
   "cell_type": "code",
   "execution_count": null,
   "metadata": {
    "colab": {
     "base_uri": "https://localhost:8080/",
     "height": 525
    },
    "id": "U_WG1X9sqwjo",
    "outputId": "407f0d3b-4172-429a-acb7-91ac4b2184ed"
   },
   "outputs": [],
   "source": [
    "shap.plots.waterfall(shap_values[0], max_display=14)"
   ]
  },
  {
   "cell_type": "markdown",
   "metadata": {
    "id": "7ddJ5_s7qCyY"
   },
   "source": [
    "LIME"
   ]
  },
  {
   "cell_type": "code",
   "execution_count": null,
   "metadata": {
    "id": "gmueqA6RqBNv"
   },
   "outputs": [],
   "source": [
    "X_train_np = X_train.to_numpy()\n",
    "y_train_np = y_train.to_numpy()\n",
    "X_test_np = X_test.to_numpy()\n",
    "y_test_np = y_test.to_numpy()"
   ]
  },
  {
   "cell_type": "code",
   "execution_count": null,
   "metadata": {
    "colab": {
     "base_uri": "https://localhost:8080/"
    },
    "id": "YH0vtT3fq8by",
    "outputId": "ef1c89c5-7f41-4acb-9c54-9043b1389222"
   },
   "outputs": [],
   "source": [
    "iddx = 10\n",
    "columns = df['critical_temp']\n",
    "NoFeatures = len(columns)\n",
    "NoFeatures"
   ]
  },
  {
   "cell_type": "code",
   "execution_count": null,
   "metadata": {
    "id": "I9xHXfEYq2Eb"
   },
   "outputs": [],
   "source": [
    "lime_exp = lime.lime_tabular.LimeTabularExplainer(\n",
    "    X_train_np,\n",
    "    feature_names=columns ,\n",
    "    class_names=['critical_temp'], \n",
    "    verbose=True, \n",
    "    mode='regression')"
   ]
  },
  {
   "cell_type": "code",
   "execution_count": null,
   "metadata": {
    "id": "6S77ebL7zyJN"
   },
   "outputs": [],
   "source": [
    "lime_exp1 = lime.lime_tabular.LimeTabularExplainer(\n",
    "    X_train_scaled,\n",
    "    feature_names=columns ,\n",
    "    class_names=['critical_temp'], \n",
    "    verbose=True, \n",
    "    mode='regression')"
   ]
  },
  {
   "cell_type": "code",
   "execution_count": null,
   "metadata": {
    "colab": {
     "base_uri": "https://localhost:8080/"
    },
    "id": "eaKSlWRZrbqd",
    "outputId": "23252966-c5a8-4549-9a33-2a6b463369d8"
   },
   "outputs": [],
   "source": [
    "exp_LR = lime_exp.explain_instance(X_test_np[iddx], model.predict, num_features=NoFeatures)\n",
    "exp_RF = lime_exp.explain_instance(X_test_np[iddx], rf_model.predict, num_features=NoFeatures)\n",
    "exp_SVR = lime_exp.explain_instance(X_test_scaled[iddx], svr_model.predict, num_features=NoFeatures)"
   ]
  },
  {
   "cell_type": "code",
   "execution_count": null,
   "metadata": {
    "colab": {
     "base_uri": "https://localhost:8080/"
    },
    "id": "raydZ1vNz323",
    "outputId": "040608c2-1b5d-4f59-8ce7-293a212ca651"
   },
   "outputs": [],
   "source": [
    "#lime model trained on scaled input\n",
    "exp_SVR1 = lime_exp1.explain_instance(X_test_scaled[iddx], svr_model2.predict, num_features=NoFeatures)"
   ]
  },
  {
   "cell_type": "code",
   "execution_count": null,
   "metadata": {
    "colab": {
     "base_uri": "https://localhost:8080/"
    },
    "id": "ptk4m-XM1qYy",
    "outputId": "b2ec5dda-a580-416e-84c3-049452c32b15"
   },
   "outputs": [],
   "source": [
    "sc_y.inverse_transform(exp_SVR.predicted_value.reshape(-1,1))"
   ]
  },
  {
   "cell_type": "code",
   "execution_count": null,
   "metadata": {
    "colab": {
     "base_uri": "https://localhost:8080/"
    },
    "id": "DBQ8ET7c0OtZ",
    "outputId": "3ee97771-0f43-4910-b589-7237e0d4784c"
   },
   "outputs": [],
   "source": [
    "sc_y.inverse_transform(exp_SVR1.predicted_value.reshape(-1,1))"
   ]
  },
  {
   "cell_type": "markdown",
   "metadata": {
    "id": "VX2aglOLsIEj"
   },
   "source": [
    "Explanation as text"
   ]
  },
  {
   "cell_type": "code",
   "execution_count": null,
   "metadata": {
    "colab": {
     "base_uri": "https://localhost:8080/"
    },
    "id": "pwmGG1tJsDJ5",
    "outputId": "7a48ad16-a069-4f5e-b3d8-874c5939b0fc"
   },
   "outputs": [],
   "source": [
    "exp_LR.as_list()"
   ]
  },
  {
   "cell_type": "code",
   "execution_count": null,
   "metadata": {
    "colab": {
     "base_uri": "https://localhost:8080/"
    },
    "id": "t57DBGhTsN7T",
    "outputId": "520f7e49-d0ec-4ab5-ab3d-83bdc9a16fe7"
   },
   "outputs": [],
   "source": [
    "exp_RF.as_list()"
   ]
  },
  {
   "cell_type": "code",
   "execution_count": null,
   "metadata": {
    "colab": {
     "base_uri": "https://localhost:8080/"
    },
    "id": "Mbi10vtusRw0",
    "outputId": "e06c6376-f4cf-4a32-aa0a-1676eecb60ed"
   },
   "outputs": [],
   "source": [
    " exp_SVR.as_list()"
   ]
  },
  {
   "cell_type": "code",
   "execution_count": null,
   "metadata": {
    "colab": {
     "base_uri": "https://localhost:8080/"
    },
    "id": "LjHX6CydxPgO",
    "outputId": "fde39b18-0084-4acd-eda7-9eaa3ec61ad3"
   },
   "outputs": [],
   "source": [
    "attrib =  [row[1] for row in exp_SVR.as_list()]\n",
    "attrib_inv = sc_X.inverse_transform(np.array(attrib))\n",
    "attrib_inv"
   ]
  },
  {
   "cell_type": "code",
   "execution_count": null,
   "metadata": {
    "colab": {
     "base_uri": "https://localhost:8080/"
    },
    "id": "DKvf8A3b0bHj",
    "outputId": "afef701f-bb89-4356-e52e-af43f8d17b37"
   },
   "outputs": [],
   "source": [
    " exp_SVR1.as_list()"
   ]
  },
  {
   "cell_type": "markdown",
   "metadata": {
    "id": "2TN8Dw2ysYxO"
   },
   "source": [
    "Graphical explanation"
   ]
  },
  {
   "cell_type": "code",
   "execution_count": null,
   "metadata": {
    "id": "rd2VXliAsW_u"
   },
   "outputs": [],
   "source": [
    "exp_LR.show_in_notebook(show_table=True)"
   ]
  },
  {
   "cell_type": "code",
   "execution_count": null,
   "metadata": {
    "id": "pPphD3fMsfdm"
   },
   "outputs": [],
   "source": [
    "exp_rf.show_in_notebook(show_table=True)"
   ]
  },
  {
   "cell_type": "code",
   "execution_count": null,
   "metadata": {
    "id": "-W5OmJl2sgTh"
   },
   "outputs": [],
   "source": [
    "exp_SVR.show_in_notebook(show_table=True)"
   ]
  },
  {
   "cell_type": "code",
   "execution_count": null,
   "metadata": {
    "id": "WN_OH4i-0l5x"
   },
   "outputs": [],
   "source": [
    "exp_SVR1.show_in_notebook(show_table=True)"
   ]
  },
  {
   "cell_type": "markdown",
   "metadata": {
    "id": "fGIPheOfsmc7"
   },
   "source": [
    "LIME using SHAP library"
   ]
  },
  {
   "cell_type": "code",
   "execution_count": null,
   "metadata": {
    "id": "zo-379sysgtS"
   },
   "outputs": [],
   "source": [
    "lime_explainer_shap_LR = shap.other.LimeTabular(model.predict,X_test_np[:iddx,],mode = 'regression')\n",
    "lime_explainer_shap_rf = shap.other.LimeTabular(rf_model.predict,X_test_np[:iddx,],mode = 'regression')\n",
    "lime_explainer_shap_svr = shap.other.LimeTabular(svr_model.predict,X_test_scaled[:iddx,],mode = 'regression')"
   ]
  },
  {
   "cell_type": "code",
   "execution_count": null,
   "metadata": {
    "id": "taWvBhbM0oCe"
   },
   "outputs": [],
   "source": [
    "#scaled input\n",
    "lime_explainer_shap_svr1 = shap.other.LimeTabular(svr_model2.predict,X_test_np[:iddx,],mode = 'regression')"
   ]
  },
  {
   "cell_type": "code",
   "execution_count": null,
   "metadata": {
    "id": "r3m8bzj4svyd"
   },
   "outputs": [],
   "source": [
    "lime_attribs_LR = lime_explainer_shap_LR.attributions(X_test_np[:iddx,],num_features=NoFeatures)\n",
    "lime_attribs_rf = lime_explainer_shap_rf.attributions(X_test_np[:iddx,],num_features=NoFeatures)\n",
    "lime_attribs_svr= lime_explainer_shap_svr.attributions(X_test_scaled[:iddx,],num_features=NoFeatures)"
   ]
  },
  {
   "cell_type": "code",
   "execution_count": null,
   "metadata": {
    "id": "nSehR9FN1cdE"
   },
   "outputs": [],
   "source": [
    "#lime_attribs_LR,lime_attribs_rf,lime_attribs_svr"
   ]
  },
  {
   "cell_type": "code",
   "execution_count": null,
   "metadata": {
    "id": "5mTFDev41EJ7"
   },
   "outputs": [],
   "source": [
    "\n",
    "lime_attribs_LR1 = lime_explainer_shap_svr1.attributions(X_test_np[:iddx,],num_features=NoFeatures)"
   ]
  },
  {
   "cell_type": "code",
   "execution_count": null,
   "metadata": {
    "colab": {
     "base_uri": "https://localhost:8080/"
    },
    "id": "58MJtCE5tnUI",
    "outputId": "8a329001-6c6a-4974-a06a-9a0d1199cd8c"
   },
   "outputs": [],
   "source": [
    "X_test_np[:iddx,].shape"
   ]
  },
  {
   "cell_type": "code",
   "execution_count": null,
   "metadata": {
    "colab": {
     "base_uri": "https://localhost:8080/"
    },
    "id": "ZR2Y9YQPtNr3",
    "outputId": "5f8a5d87-2b92-4193-825b-351939afdc26"
   },
   "outputs": [],
   "source": [
    "LR_exp_list = []\n",
    "rf_exp_list = []\n",
    "svr_exp_list = []\n",
    "svr_scaled_exp_list = []\n",
    "for i in range(1,11):\n",
    "  lime_explainer_shap_LR = shap.other.LimeTabular(model.predict,X_test_np[:i,],mode = 'regression')\n",
    "  lime_explainer_shap_rf = shap.other.LimeTabular(rf_model.predict,X_test_np[:i,],mode = 'regression')\n",
    "  lime_explainer_shap_svr = shap.other.LimeTabular(svr_model.predict,X_test_scaled[:i,],mode = 'regression')\n",
    "  lime_explainer_shap_svr1 = shap.other.LimeTabular(svr_model2.predict,X_test_np[:i,],mode = 'regression')\n",
    "\n",
    "  lime_attribs_LR = lime_explainer_shap_LR.attributions(X_test_np[:i,],num_features=NoFeatures)\n",
    "  lime_attribs_rf = lime_explainer_shap_rf.attributions(X_test_np[:i,],num_features=NoFeatures)\n",
    "  lime_attribs_svr= lime_explainer_shap_svr.attributions(X_test_scaled[:i,],num_features=NoFeatures)\n",
    "  lime_attribs_svr1 = lime_explainer_shap_svr1.attributions(X_test_np[:i,],num_features=NoFeatures)\n",
    "\n",
    "  LR_exp_list.append(lime_attribs_LR)\n",
    "  rf_exp_list.append(lime_attribs_rf)\n",
    "  svr_exp_list.append(lime_attribs_svr1)\n",
    "  svr_scaled_exp_list.append(lime_attribs_svr)\n"
   ]
  },
  {
   "cell_type": "markdown",
   "metadata": {
    "id": "FBwSdqWQwFyC"
   },
   "source": [
    "## Evaluation"
   ]
  },
  {
   "cell_type": "markdown",
   "metadata": {
    "id": "x51J-tcswI02"
   },
   "source": [
    "faithfulness"
   ]
  },
  {
   "cell_type": "code",
   "execution_count": null,
   "metadata": {
    "id": "ryqgF6C6vrit"
   },
   "outputs": [],
   "source": [
    "def faithfulness_metric(model, x, coefs, base):\n",
    "    predt = model.predict(np.transpose(x.reshape(-1,1)))\n",
    "    print(predt)\n",
    "    ar = np.argsort(coefs)  #argsort returns indexes of values sorted in increasing order; so do it for negated array\n",
    "    print(ar)\n",
    "    print(coefs)\n",
    "    pred_ts = np.zeros(x.shape[0])\n",
    "    print(base)\n",
    "    for ind in np.nditer(ar):\n",
    "        x_copy = x.copy()\n",
    "        print(x_copy)\n",
    "        x_copy[ind] = base[ind]\n",
    "        print(ind)\n",
    "        print(base[ind])\n",
    "        print(x_copy)\n",
    "        x_copy_ts = model.predict(np.transpose(x_copy.reshape(-1,1)))\n",
    "        print(x_copy_ts,coefs[ind])\n",
    "        pred_ts[ind] = x_copy_ts\n",
    "    print(coefs, pred_ts)\n",
    "    return -np.corrcoef(coefs, pred_ts)[0,1]"
   ]
  },
  {
   "cell_type": "code",
   "execution_count": null,
   "metadata": {
    "colab": {
     "base_uri": "https://localhost:8080/"
    },
    "id": "ZA4V1YqY_6wh",
    "outputId": "7c7a02ef-2205-4d7f-e9ad-9e507de1794f"
   },
   "outputs": [],
   "source": [
    "columns = X_test.columns\n",
    "base = X[columns].mean().values\n",
    "faithulness = []\n",
    "x_=[]\n",
    "for i in range(0,1):\n",
    "  x = np.array(X_test.iloc[i,:])\n",
    "  coefs = shap_values_instance_LR[i].values\n",
    "  f = faithfulness_metric(model, x, coefs, base)\n",
    "  x_.append(i)\n",
    "  # print(f)\n",
    "  faithulness.append(f)\n",
    "print(\"mean fidelity:\",np.array(faithulness).mean())"
   ]
  },
  {
   "cell_type": "code",
   "execution_count": null,
   "metadata": {
    "colab": {
     "base_uri": "https://localhost:8080/"
    },
    "id": "iiyfWnjxBNSe",
    "outputId": "3e1b42f6-7a06-4c55-dca9-01d89c0ec1bc"
   },
   "outputs": [],
   "source": [
    "shap_values_LR_K"
   ]
  },
  {
   "cell_type": "code",
   "execution_count": null,
   "metadata": {
    "colab": {
     "base_uri": "https://localhost:8080/"
    },
    "id": "eCkYxZzm2jDU",
    "outputId": "232b8d6b-f3ce-499c-867d-b3b59a0a2cfe"
   },
   "outputs": [],
   "source": [
    "columns = X_test.columns\n",
    "base = X[columns].mean().values\n",
    "faithulness = []\n",
    "x_=[]\n",
    "i=0\n",
    "# for i in range(0,1):\n",
    "x = np.array(X_test.iloc[i,:])\n",
    "coefs = shap_values_LR_K\n",
    "f = faithfulness_metric(model, x, coefs, base)\n",
    "x_.append(i)\n",
    "# print(f)\n",
    "faithulness.append(f)\n",
    "print(\"mean fidelity:\",np.array(faithulness).mean())\n"
   ]
  },
  {
   "cell_type": "code",
   "execution_count": null,
   "metadata": {
    "colab": {
     "base_uri": "https://localhost:8080/"
    },
    "id": "TWCdcC-YATgs",
    "outputId": "1db3c91d-5608-42f6-94bd-a9ccda85e388"
   },
   "outputs": [],
   "source": [
    "columns = X_test.columns\n",
    "base = X[columns].mean().values\n",
    "faithulness = []\n",
    "x_=[]\n",
    "for i in range(0,20):\n",
    "  x = np.array(X_test.iloc[i,:])\n",
    "  coefs = shap_values_instance_svr[i].values\n",
    "  f = faithfulness_metric(svr_model, x, coefs, base)\n",
    "  x_.append(i)\n",
    "  # print(f)\n",
    "  faithulness.append(f)\n",
    "print(\"mean fidelity:\",np.array(faithulness).mean())"
   ]
  },
  {
   "cell_type": "code",
   "execution_count": null,
   "metadata": {
    "colab": {
     "base_uri": "https://localhost:8080/",
     "height": 237
    },
    "id": "AoPcRz70Apz1",
    "outputId": "d3e975a1-45b8-45b3-d524-a6aee9658ee6"
   },
   "outputs": [],
   "source": [
    "columns = X_test.columns\n",
    "base = X[columns].mean().values\n",
    "faithulness = []\n",
    "x_=[]\n",
    "for i in range(0,20):\n",
    "  x = np.array(X_test.iloc[i,:])\n",
    "  coefs = shap_values_instance_LR_k[i].values\n",
    "  f = faithfulness_metric(model, x, coefs, base)\n",
    "  x_.append(i)\n",
    "  # print(f)\n",
    "  faithulness.append(f)\n",
    "print(\"mean fidelity:\",np.array(faithulness).mean())"
   ]
  },
  {
   "cell_type": "code",
   "execution_count": null,
   "metadata": {
    "id": "Z7v7-74ZApqw"
   },
   "outputs": [],
   "source": [
    "columns = X_test.columns\n",
    "base = X[columns].mean().values\n",
    "faithulness = []\n",
    "x_=[]\n",
    "for i in range(0,20):\n",
    "  x = np.array(X_test.iloc[i,:])\n",
    "  coefs = shap_values_instance_rf_K[i].values\n",
    "  f = faithfulness_metric(rf_model, x, coefs, base)\n",
    "  x_.append(i)\n",
    "  # print(f)\n",
    "  faithulness.append(f)\n",
    "print(\"mean fidelity:\",np.array(faithulness).mean())"
   ]
  },
  {
   "cell_type": "code",
   "execution_count": null,
   "metadata": {
    "id": "ea3-gy64Apef"
   },
   "outputs": [],
   "source": [
    "columns = X_test.columns\n",
    "base = X[columns].mean().values\n",
    "faithulness = []\n",
    "x_=[]\n",
    "for i in range(0,20):\n",
    "  x = np.array(X_test.iloc[i,:])\n",
    "  coefs = shap_values_instance_rf[i].values\n",
    "  f = faithfulness_metric(rf_model, x, coefs, base)\n",
    "  x_.append(i)\n",
    "  # print(f)\n",
    "  faithulness.append(f)\n",
    "print(\"mean fidelity:\",np.array(faithulness).mean())"
   ]
  },
  {
   "cell_type": "code",
   "execution_count": null,
   "metadata": {
    "colab": {
     "base_uri": "https://localhost:8080/"
    },
    "id": "LTt9340qB0Sp",
    "outputId": "345dcf21-59c3-46e1-ed2f-8fa24f1c8cb6"
   },
   "outputs": [],
   "source": [
    "columns = X_test.columns\n",
    "base = X[columns].mean().values\n",
    "faithulness = []\n",
    "# for i in range(0,1):\n",
    "x = np.array(X_test.iloc[i,:])\n",
    "coefs = lime_attribs_LR\n",
    "f = faithfulness_metric(model, x, coefs, base)\n",
    "print(f)\n",
    "faithulness.append(f)\n",
    "print(\"mean fidelity:\",f.mean())"
   ]
  },
  {
   "cell_type": "code",
   "execution_count": null,
   "metadata": {
    "colab": {
     "base_uri": "https://localhost:8080/",
     "height": 282
    },
    "id": "jGRhpkD48MNB",
    "outputId": "c7e48027-fab0-426f-c702-66951d739acb"
   },
   "outputs": [],
   "source": [
    "import matplotlib.pyplot as plt\n",
    "%matplotlib inline\n",
    "plt.bar(x=x_ ,height= faithulness )"
   ]
  },
  {
   "cell_type": "code",
   "execution_count": null,
   "metadata": {
    "id": "jjcZq1Dt3uMT"
   },
   "outputs": [],
   "source": [
    "columns = X_test.columns\n",
    "base = X_test[columns].mean().values\n",
    "faithulness = []\n",
    "for i in range(0,10):\n",
    "  x = np.array(X_test.iloc[i,:])\n",
    "  coefs = shap_values[i].values\n",
    "  f = faithfulness_metric(rf_model, x, coefs, base)\n",
    "  #print(f)\n",
    "  faithulness.append(f)\n",
    "print(\"mean fidelity:\",f.mean())\n",
    "faithulness\n"
   ]
  },
  {
   "cell_type": "code",
   "execution_count": null,
   "metadata": {
    "id": "Vi0X34353v3k"
   },
   "outputs": [],
   "source": [
    "columns = X_test.columns\n",
    "base = X_test[columns].mean().values\n",
    "faithulness = []\n",
    "for i in range(0,10):\n",
    "  x = np.array(X_test.iloc[i,:])\n",
    "  coefs = shap_values[i].values\n",
    "  f = faithfulness_metric(rf_model, x, coefs, base)\n",
    "  #print(f)\n",
    "  faithulness.append(f)\n",
    "print(\"mean fidelity:\",f.mean())\n",
    "faithulness"
   ]
  },
  {
   "cell_type": "code",
   "execution_count": null,
   "metadata": {
    "colab": {
     "base_uri": "https://localhost:8080/"
    },
    "id": "cmWqEISS4cQH",
    "outputId": "25731d77-f0ee-4689-c8de-5986caa87716"
   },
   "outputs": [],
   "source": [
    "shap_values_instance_LR[0].values"
   ]
  },
  {
   "cell_type": "code",
   "execution_count": null,
   "metadata": {
    "colab": {
     "base_uri": "https://localhost:8080/"
    },
    "id": "d4sXIKeK3SIy",
    "outputId": "d392b37e-472c-4bf4-88b4-027c899a7349"
   },
   "outputs": [],
   "source": [
    "columns = X_test.columns\n",
    "base = X[columns].mean().values\n",
    "faithulness = []\n",
    "for i in range(0,1):\n",
    "  x = np.array(X_test.iloc[i,:])\n",
    "  coefs = shap_values_instance_LR[i].values\n",
    "  f = faithfulness_metric(model, x, coefs, base)\n",
    "  #print(f)\n",
    "  faithulness.append(f)\n",
    "print(\"mean fidelity:\",np.array(faithulness).mean())\n"
   ]
  },
  {
   "cell_type": "markdown",
   "metadata": {
    "id": "L4IJv0DNwS5O"
   },
   "source": [
    "Monotonicity"
   ]
  },
  {
   "cell_type": "code",
   "execution_count": null,
   "metadata": {
    "id": "sBudg9dowNOd"
   },
   "outputs": [],
   "source": [
    "def monotonicity_metric(model, x, coefs, base):\n",
    "  predict_ = model.predict(np.transpose(x.reshape(-1,1)))\n",
    "  x_copy = base.copy()\n",
    "  #print(x_copy)\n",
    "  #find indexs of coefficients in increasing order of value\n",
    "  ar = np.argsort(coefs)\n",
    "  #print(ar)\n",
    "  isPos = [False for i in range(len(ar))]\n",
    "  #print(isPos)\n",
    "  pred_tss = np.zeros(x.shape[0])\n",
    "  \n",
    "  for ind in np.nditer(ar):\n",
    "    if coefs[ind]<0:\n",
    "      isPos[ind] = False\n",
    "    else:\n",
    "      isPos[ind] = True\n",
    "    #print(x[ind])\n",
    "    #print(ind)\n",
    "    x_copy[ind] = x[ind]\n",
    "    #print(x_copy)\n",
    "    x_copy_pr = model.predict(np.transpose(x_copy.reshape(-1,1)))\n",
    "    pred_tss[ind] = x_copy_pr\n",
    "    #print(pred_tss[ind])\n",
    "  #print(\"============================================================\")\n",
    "  #print(pred_tss)\n",
    "  #print(np.diff(pred_tss[ar]))\n",
    "#   print(isPos)\n",
    "  diff = np.diff(pred_tss[ar])\n",
    "  final_ = []\n",
    "  for i in range(len(diff)):\n",
    "    if isPos[i] == False and diff[i] < 0:\n",
    "      final_.append(True)\n",
    "    elif isPos[i] == True and diff[i] >=0:\n",
    "      final_.append(True)\n",
    "    else:\n",
    "      final_.append(False)\n",
    "  return any(final_)\n",
    "  #return np.all(np.diff(pred_tss[ar]) >= 0)"
   ]
  },
  {
   "cell_type": "code",
   "execution_count": null,
   "metadata": {
    "id": "2eqCBBOzCQts"
   },
   "outputs": [],
   "source": [
    "columns = X_test.columns\n",
    "base = X[columns].mean().values\n",
    "faithulness = []\n",
    "x_=[]\n",
    "for i in range(0,20):\n",
    "  x = np.array(X_test.iloc[i,:])\n",
    "  coefs = shap_values_instance_rf[i].values\n",
    "  f = monotonicity_metric(rf_model, x, coefs, base)\n",
    "  x_.append(i)\n",
    "  # print(f)\n",
    "  faithulness.append(f)\n",
    "print(\"mean fidelity:\",np.array(faithulness).mean())"
   ]
  },
  {
   "cell_type": "code",
   "execution_count": null,
   "metadata": {
    "id": "70b3xfZAwY8_"
   },
   "outputs": [],
   "source": [
    "#faithfulness for instance\n",
    "i = "
   ]
  },
  {
   "cell_type": "markdown",
   "metadata": {
    "id": "N-lc9gCTV-p9"
   },
   "source": [
    "## Evaluation"
   ]
  },
  {
   "cell_type": "markdown",
   "metadata": {
    "id": "1QJHf7dEV-qC"
   },
   "source": [
    "faithfulness"
   ]
  },
  {
   "cell_type": "code",
   "execution_count": null,
   "metadata": {
    "id": "Ok3YKJVcV-qF"
   },
   "outputs": [],
   "source": [
    "def faithfulness_metric(model, x, coefs, base):\n",
    "    predt = model.predict(np.transpose(x.reshape(-1,1)))\n",
    "    # print(predt)\n",
    "    ar = np.argsort(coefs)  #argsort returns indexes of values sorted in increasing order; so do it for negated array\n",
    "    # print(ar)\n",
    "    # print(coefs)\n",
    "    pred_ts = np.zeros(x.shape[0])\n",
    "    # print(base)\n",
    "    for ind in np.nditer(ar):\n",
    "        x_copy = x.copy()\n",
    "        # print(x_copy)\n",
    "        x_copy[ind] = base[ind]\n",
    "        # print(ind)\n",
    "        # print(base[ind])\n",
    "        # print(x_copy)\n",
    "        x_copy_ts = model.predict(np.transpose(x_copy.reshape(-1,1)))\n",
    "        # print(x_copy_ts,coefs[ind])\n",
    "        pred_ts[ind] = x_copy_ts\n",
    "    # print(coefs)\n",
    "    # print(pred_ts)\n",
    "    return -np.corrcoef(coefs, pred_ts)[0,1]"
   ]
  },
  {
   "cell_type": "markdown",
   "metadata": {
    "id": "LwDafx6Y_RRl"
   },
   "source": [
    "SHAP-Linear Regression"
   ]
  },
  {
   "cell_type": "code",
   "execution_count": null,
   "metadata": {
    "colab": {
     "base_uri": "https://localhost:8080/"
    },
    "id": "zPFItseoV-qL",
    "outputId": "db29be66-0157-428c-ad25-bd28621ab8a0"
   },
   "outputs": [],
   "source": [
    "columns = X_test.columns\n",
    "base = X[columns].mean().values\n",
    "faithulness1 = []\n",
    "x_=[]\n",
    "for i in range(0,10):\n",
    "  x = np.array(X_test.iloc[i,:])\n",
    "  coefs = shap_values_instance_LR[i].values\n",
    "  f = faithfulness_metric(model, x, coefs, base)\n",
    "  x_.append(i)\n",
    "  print(f)\n",
    "  faithulness1.append(f)\n"
   ]
  },
  {
   "cell_type": "markdown",
   "metadata": {
    "id": "Q7qhZUKi_WtB"
   },
   "source": [
    "SHAP-Random Forest"
   ]
  },
  {
   "cell_type": "code",
   "execution_count": null,
   "metadata": {
    "colab": {
     "base_uri": "https://localhost:8080/"
    },
    "id": "sk0rs4xq-8zI",
    "outputId": "1ad5aeec-3604-4689-c050-4a23b31833ef"
   },
   "outputs": [],
   "source": [
    "columns = X_test.columns\n",
    "base = X[columns].mean().values\n",
    "faithulness2 = []\n",
    "x_=[]\n",
    "for i in range(0,10):\n",
    "  x = np.array(X_test.iloc[i,:])\n",
    "  coefs = shap_values_instance_rf[i].values\n",
    "  f = faithfulness_metric(rf_model, x, coefs, base)\n",
    "  x_.append(i)\n",
    "  print(f)\n",
    "  faithulness2.append(f)\n"
   ]
  },
  {
   "cell_type": "markdown",
   "metadata": {
    "id": "GhHaeFXj_eBx"
   },
   "source": [
    "SHAP SVR with scaled i/p"
   ]
  },
  {
   "cell_type": "code",
   "execution_count": null,
   "metadata": {
    "colab": {
     "base_uri": "https://localhost:8080/"
    },
    "id": "S-r0q3fq-9yO",
    "outputId": "b7437e9d-ec02-479c-a706-205269f7d419"
   },
   "outputs": [],
   "source": [
    "columns = X_test.columns\n",
    "base = X[columns].mean().values\n",
    "faithulness3 = []\n",
    "x_=[]\n",
    "for i in range(0,10):\n",
    "  x = X_test_scaled[i,:]\n",
    "  coefs = shap_values_instance_svr[i].values\n",
    "  f = faithfulness_metric(svr_model, x, coefs, base)\n",
    "  x_.append(i)\n",
    "  print(f)\n",
    "  faithulness3.append(f)\n"
   ]
  },
  {
   "cell_type": "markdown",
   "metadata": {
    "id": "T780qFH6_hmE"
   },
   "source": [
    "SHAP-SVR wo scaled i/p"
   ]
  },
  {
   "cell_type": "code",
   "execution_count": null,
   "metadata": {
    "colab": {
     "base_uri": "https://localhost:8080/"
    },
    "id": "IpZ6lnEn-_ZP",
    "outputId": "5ad12c19-a37c-4ddd-bc29-0999ef356314"
   },
   "outputs": [],
   "source": [
    "columns = X_test.columns\n",
    "base = X[columns].mean().values\n",
    "faithulness4 = []\n",
    "x_=[]\n",
    "for i in range(0,10):\n",
    "  x = np.array(X_test.iloc[i,:])\n",
    "  coefs = shap_values_instance_svr_n[i].values\n",
    "  f = faithfulness_metric(svr_model2, x, coefs, base)\n",
    "  x_.append(i)\n",
    "  print(f)\n",
    "  faithulness4.append(f)\n"
   ]
  },
  {
   "cell_type": "markdown",
   "metadata": {
    "id": "d-p5fm1Q_umf"
   },
   "source": [
    "TreeSHAP for Random forest"
   ]
  },
  {
   "cell_type": "code",
   "execution_count": null,
   "metadata": {
    "colab": {
     "base_uri": "https://localhost:8080/"
    },
    "id": "MfP96cOfiNYe",
    "outputId": "a8994382-f84b-4b70-ab4a-86f0b1e8bc69"
   },
   "outputs": [],
   "source": [
    "shap_values[0]"
   ]
  },
  {
   "cell_type": "code",
   "execution_count": null,
   "metadata": {
    "colab": {
     "base_uri": "https://localhost:8080/"
    },
    "id": "yqtjUnZE_Cgp",
    "outputId": "66652822-9db7-4c6f-b97d-d0b3085078a6"
   },
   "outputs": [],
   "source": [
    "columns = X_test.columns\n",
    "base = X[columns].mean().values\n",
    "faithulness5 = []\n",
    "x_=[]\n",
    "for i in range(0,10):\n",
    "  x = np.array(X_test.iloc[i,:])\n",
    "  coefs = shap_values[i].values\n",
    "  f = faithfulness_metric(rf_model, x, coefs, base)\n",
    "  x_.append(i)\n",
    "  print(f)\n",
    "  faithulness5.append(f)\n"
   ]
  },
  {
   "cell_type": "markdown",
   "metadata": {
    "id": "GZ4vat9Q_wQh"
   },
   "source": [
    "LIME Linear regression"
   ]
  },
  {
   "cell_type": "code",
   "execution_count": null,
   "metadata": {
    "colab": {
     "base_uri": "https://localhost:8080/"
    },
    "id": "LTG6aTlq_B2N",
    "outputId": "b2a9980e-8202-488b-a9a2-03e1d362a06e"
   },
   "outputs": [],
   "source": [
    "columns = X_test.columns\n",
    "base = X[columns].mean().values\n",
    "faithulness6 = []\n",
    "x_=[]\n",
    "for i in range(0,10):\n",
    "  x = np.array(X_test.iloc[i,:])\n",
    "  coefs = lime_attribs_LR[i]\n",
    "  f = faithfulness_metric(model, x, coefs, base)\n",
    "  x_.append(i)\n",
    "  print(f)\n",
    "  faithulness6.append(f)\n"
   ]
  },
  {
   "cell_type": "markdown",
   "metadata": {
    "id": "X4-_p5UK_-Wd"
   },
   "source": [
    "LIME Random forest"
   ]
  },
  {
   "cell_type": "code",
   "execution_count": null,
   "metadata": {
    "colab": {
     "base_uri": "https://localhost:8080/"
    },
    "id": "O2xZK0cN_Orf",
    "outputId": "1e417f73-0d72-4ff1-c30a-13f85463d384"
   },
   "outputs": [],
   "source": [
    "columns = X_test.columns\n",
    "base = X[columns].mean().values\n",
    "faithulness7 = []\n",
    "x_=[]\n",
    "for i in range(0,10):\n",
    "  x = np.array(X_test.iloc[i,:])\n",
    "  coefs = lime_attribs_rf\n",
    "  f = faithfulness_metric(rf_model, x, coefs, base)\n",
    "  x_.append(i)\n",
    "  print(f)\n",
    "  faithulness7.append(f)\n"
   ]
  },
  {
   "cell_type": "markdown",
   "metadata": {
    "id": "n-P2sS5DACPH"
   },
   "source": [
    "LIME SVR with scaling"
   ]
  },
  {
   "cell_type": "code",
   "execution_count": null,
   "metadata": {
    "colab": {
     "base_uri": "https://localhost:8080/"
    },
    "id": "FgCaeuTP_OXY",
    "outputId": "69445b41-1e93-4f83-ced1-cded81199d58"
   },
   "outputs": [],
   "source": [
    "columns = X_test.columns\n",
    "base = X[columns].mean().values\n",
    "faithulness8 = []\n",
    "x_=[]\n",
    "for i in range(0,10):\n",
    "  x = X_test_scaled[i,:]\n",
    "  coefs = lime_attribs_svr[i]\n",
    "  f = faithfulness_metric(svr_model, x, coefs, base)\n",
    "  x_.append(i)\n",
    "  print(f)\n",
    "  faithulness8.append(f)\n"
   ]
  },
  {
   "cell_type": "markdown",
   "metadata": {
    "id": "Zt-qh_2hAH3Q"
   },
   "source": [
    "LIME for SVR without scaling"
   ]
  },
  {
   "cell_type": "code",
   "execution_count": null,
   "metadata": {
    "colab": {
     "base_uri": "https://localhost:8080/"
    },
    "id": "7XsD1xjCAFl_",
    "outputId": "3890079e-0c3b-4d17-c905-186b6710fc7e"
   },
   "outputs": [],
   "source": [
    "columns = X_test.columns\n",
    "base = X[columns].mean().values\n",
    "faithulness9 = []\n",
    "x_=[]\n",
    "for i in range(0,10):\n",
    "  x = np.array(X_test.iloc[i,:])\n",
    "  coefs = lime_attribs_svr1[i]\n",
    "  f = faithfulness_metric(svr_model2, x, coefs, base)\n",
    "  x_.append(i)\n",
    "  print(f)\n",
    "  faithulness9.append(f)"
   ]
  },
  {
   "cell_type": "markdown",
   "metadata": {
    "id": "YWpixYuDATNA"
   },
   "source": [
    "PLOT"
   ]
  },
  {
   "cell_type": "code",
   "execution_count": null,
   "metadata": {
    "id": "qII2ecQBAVGK"
   },
   "outputs": [],
   "source": []
  },
  {
   "cell_type": "markdown",
   "metadata": {
    "id": "DYd1i2L1Anm9"
   },
   "source": [
    "Monotonicity"
   ]
  },
  {
   "cell_type": "code",
   "execution_count": null,
   "metadata": {
    "id": "2WRS1eXsV-qk"
   },
   "outputs": [],
   "source": [
    "def monotonicity_metric(model, x, coefs, base):\n",
    "  predict_ = model.predict(np.transpose(x.reshape(-1,1)))\n",
    "  x_copy = base.copy()\n",
    "  #print(x_copy)\n",
    "  #find indexs of coefficients in increasing order of value\n",
    "  ar = np.argsort(coefs)\n",
    "  #print(ar)\n",
    "  isPos = [False for i in range(len(ar))]\n",
    "  #print(isPos)\n",
    "  pred_tss = np.zeros(x.shape[0])\n",
    "  \n",
    "  for ind in np.nditer(ar):\n",
    "    if coefs[ind]<0:\n",
    "      isPos[ind] = False\n",
    "    else:\n",
    "      isPos[ind] = True\n",
    "    #print(x[ind])\n",
    "    #print(ind)\n",
    "    x_copy[ind] = x[ind]\n",
    "    #print(x_copy)\n",
    "    x_copy_pr = model.predict(np.transpose(x_copy.reshape(-1,1)))\n",
    "    pred_tss[ind] = x_copy_pr\n",
    "    #print(pred_tss[ind])\n",
    "  #print(\"============================================================\")\n",
    "  #print(pred_tss)\n",
    "  #print(np.diff(pred_tss[ar]))\n",
    "#   print(isPos)\n",
    "  diff = np.diff(pred_tss[ar])\n",
    "  final_ = []\n",
    "  for i in range(len(diff)):\n",
    "    if isPos[i] == False and diff[i] < 0:\n",
    "      final_.append(True)\n",
    "    elif isPos[i] == True and diff[i] >=0:\n",
    "      final_.append(True)\n",
    "    else:\n",
    "      final_.append(False)\n",
    "  return any(final_)\n",
    "  #return np.all(np.diff(pred_tss[ar]) >= 0)"
   ]
  },
  {
   "cell_type": "code",
   "execution_count": null,
   "metadata": {
    "colab": {
     "base_uri": "https://localhost:8080/"
    },
    "id": "eQCeQvzXBFuk",
    "outputId": "be2a6f11-e550-4299-e710-2dcb6d3bf1cc"
   },
   "outputs": [],
   "source": [
    "columns = X_test.columns\n",
    "base = X[columns].mean().values\n",
    "monotonicity1 = []\n",
    "x_=[]\n",
    "for i in range(0,10):\n",
    "  x = np.array(X_test.iloc[i,:])\n",
    "  coefs = shap_values_instance_LR[i].values\n",
    "  f = monotonicity_metric(model, x, coefs, base)\n",
    "  x_.append(i)\n",
    "  print(f)\n",
    "  monotonicity1.append(f)\n"
   ]
  },
  {
   "cell_type": "markdown",
   "metadata": {
    "id": "KI2Rv1NPBFuo"
   },
   "source": [
    "SHAP-Random Forest"
   ]
  },
  {
   "cell_type": "code",
   "execution_count": null,
   "metadata": {
    "colab": {
     "base_uri": "https://localhost:8080/"
    },
    "id": "aoLbLjhUBFuq",
    "outputId": "f7dd4e63-5936-442b-8295-6f4dfd294abb"
   },
   "outputs": [],
   "source": [
    "columns = X_test.columns\n",
    "base = X[columns].mean().values\n",
    "monotonicity2 = []\n",
    "x_=[]\n",
    "for i in range(0,10):\n",
    "  x = np.array(X_test.iloc[i,:])\n",
    "  coefs = shap_values_instance_rf[i].values\n",
    "  f = monotonicity_metric(rf_model, x, coefs, base)\n",
    "  x_.append(i)\n",
    "  print(f)\n",
    "  monotonicity2.append(f)\n"
   ]
  },
  {
   "cell_type": "markdown",
   "metadata": {
    "id": "HcUO4SdWBFuq"
   },
   "source": [
    "SHAP SVR with scaled i/p"
   ]
  },
  {
   "cell_type": "code",
   "execution_count": null,
   "metadata": {
    "colab": {
     "base_uri": "https://localhost:8080/"
    },
    "id": "9M5veo4YBFur",
    "outputId": "036dc5c6-2d02-43c3-b577-63f190ca542b"
   },
   "outputs": [],
   "source": [
    "columns = X_test.columns\n",
    "base = X[columns].mean().values\n",
    "monotonicity3 = []\n",
    "x_=[]\n",
    "for i in range(0,10):\n",
    "  x = X_test_scaled[i,:]\n",
    "  coefs = shap_values_instance_svr[i].values\n",
    "  f = monotonicity_metric(svr_model, x, coefs, base)\n",
    "  x_.append(i)\n",
    "  print(f)\n",
    "  monotonicity3.append(f)\n"
   ]
  },
  {
   "cell_type": "markdown",
   "metadata": {
    "id": "kD0AvJWeBFus"
   },
   "source": [
    "SHAP-SVR wo scaled i/p"
   ]
  },
  {
   "cell_type": "code",
   "execution_count": null,
   "metadata": {
    "colab": {
     "base_uri": "https://localhost:8080/"
    },
    "id": "Xu6HcpMsBFus",
    "outputId": "49a9dc62-8746-4336-a849-a3ae8d56f4cd"
   },
   "outputs": [],
   "source": [
    "columns = X_test.columns\n",
    "base = X[columns].mean().values\n",
    "monotonicity4 = []\n",
    "x_=[]\n",
    "for i in range(0,10):\n",
    "  x = np.array(X_test.iloc[i,:])\n",
    "  coefs = shap_values_instance_svr_n[i].values\n",
    "  f = monotonicity_metric(svr_model2, x, coefs, base)\n",
    "  x_.append(i)\n",
    "  print(f)\n",
    "  monotonicity4.append(f)\n"
   ]
  },
  {
   "cell_type": "markdown",
   "metadata": {
    "id": "cGKJ-YJMBFut"
   },
   "source": [
    "TreeSHAP for Random forest"
   ]
  },
  {
   "cell_type": "code",
   "execution_count": null,
   "metadata": {
    "id": "X6IqVrFQBFut"
   },
   "outputs": [],
   "source": [
    "columns = X_test.columns\n",
    "base = X[columns].mean().values\n",
    "monotonicity5 = []\n",
    "x_=[]\n",
    "for i in range(0,10):\n",
    "  x = np.array(X_test.iloc[i,:])\n",
    "  coefs = shap_values[i].values\n",
    "  f = monotonicity_metric(rf_model, x, coefs, base)\n",
    "  x_.append(i)\n",
    "  print(f)\n",
    "  monotonicity5.append(f)\n"
   ]
  },
  {
   "cell_type": "markdown",
   "metadata": {
    "id": "SAuTqq-YBFuv"
   },
   "source": [
    "LIME Linear regression"
   ]
  },
  {
   "cell_type": "code",
   "execution_count": null,
   "metadata": {
    "id": "1lO27xs4BFuv"
   },
   "outputs": [],
   "source": [
    "columns = X_test.columns\n",
    "base = X[columns].mean().values\n",
    "monotonicity6 = []\n",
    "x_=[]\n",
    "for i in range(0,10):\n",
    "  x = np.array(X_test.iloc[i,:])\n",
    "  coefs = lime_attribs_LR[i]\n",
    "  f = monotonicity_metric(model, x, coefs, base)\n",
    "  x_.append(i)\n",
    "  print(f)\n",
    "  monotonicity6.append(f)\n"
   ]
  },
  {
   "cell_type": "markdown",
   "metadata": {
    "id": "w_XZisC8BFuw"
   },
   "source": [
    "LIME Random forest"
   ]
  },
  {
   "cell_type": "code",
   "execution_count": null,
   "metadata": {
    "id": "fvwSumSjBFuw"
   },
   "outputs": [],
   "source": [
    "columns = X_test.columns\n",
    "base = X[columns].mean().values\n",
    "monotonicity7 = []\n",
    "x_=[]\n",
    "for i in range(0,10):\n",
    "  x = np.array(X_test.iloc[i,:])\n",
    "  coefs = lime_attribs_rf[i]\n",
    "  f = monotonicity_metric(rf_model, x, coefs, base)\n",
    "  x_.append(i)\n",
    "  print(f)\n",
    "  monotonicity7.append(f)\n"
   ]
  },
  {
   "cell_type": "markdown",
   "metadata": {
    "id": "dbqhuJBpBFux"
   },
   "source": [
    "LIME SVR with scaling"
   ]
  },
  {
   "cell_type": "code",
   "execution_count": null,
   "metadata": {
    "id": "55Av4xjQBFux"
   },
   "outputs": [],
   "source": [
    "columns = X_test.columns\n",
    "base = X[columns].mean().values\n",
    "monotonicity8 = []\n",
    "x_=[]\n",
    "for i in range(0,10):\n",
    "  x = X_test_scaled[i,:]\n",
    "  coefs = lime_attribs_svr[i]\n",
    "  f = monotonicity_metric(svr_model, x, coefs, base)\n",
    "  x_.append(i)\n",
    "  print(f)\n",
    "  monotonicity8.append(f)\n"
   ]
  },
  {
   "cell_type": "markdown",
   "metadata": {
    "id": "OE5iPm80BFuy"
   },
   "source": [
    "LIME for SVR without scaling"
   ]
  },
  {
   "cell_type": "code",
   "execution_count": null,
   "metadata": {
    "id": "PWH_Ubz9BFuz"
   },
   "outputs": [],
   "source": [
    "columns = X_test.columns\n",
    "base = X[columns].mean().values\n",
    "monotonicity9 = []\n",
    "x_=[]\n",
    "for i in range(0,10):\n",
    "  x = np.array(X_test.iloc[i,:])\n",
    "  coefs = lime_attribs_svr1[i]\n",
    "  f = monotonicity_metric(svr_model2, x, coefs, base)\n",
    "  x_.append(i)\n",
    "  print(f)\n",
    "  monotonicity9.append(f)"
   ]
  },
  {
   "cell_type": "markdown",
   "metadata": {
    "id": "LSA76yKsBFu1"
   },
   "source": [
    "PLOT"
   ]
  },
  {
   "cell_type": "code",
   "execution_count": null,
   "metadata": {
    "id": "_hMEwq5iBFu2"
   },
   "outputs": [],
   "source": []
  },
  {
   "cell_type": "code",
   "execution_count": null,
   "metadata": {
    "id": "D_pD9V7o_A1O"
   },
   "outputs": [],
   "source": [
    "columns = X_test.columns\n",
    "base = X[columns].mean().values\n",
    "faithulness = []\n",
    "x_=[]\n",
    "for i in range(0,10):\n",
    "  x = np.array(X_test.iloc[i,:])\n",
    "  coefs = shap_values_instance_LR[i].values\n",
    "  f = faithfulness_metric(model, x, coefs, base)\n",
    "  x_.append(i)\n",
    "  print(f)\n",
    "  faithulness.append(f)\n"
   ]
  },
  {
   "cell_type": "code",
   "execution_count": null,
   "metadata": {
    "id": "0YupPea7V-qw"
   },
   "outputs": [],
   "source": [
    "shap_values_LR_K"
   ]
  },
  {
   "cell_type": "code",
   "execution_count": null,
   "metadata": {
    "id": "KT7UJ4puV-qw"
   },
   "outputs": [],
   "source": [
    "columns = X_test.columns\n",
    "base = X[columns].mean().values\n",
    "faithulness = []\n",
    "x_=[]\n",
    "i=0\n",
    "# for i in range(0,1):\n",
    "x = np.array(X_test.iloc[i,:])\n",
    "coefs = shap_values_LR_K\n",
    "f = faithfulness_metric(model, x, coefs, base)\n",
    "x_.append(i)\n",
    "# print(f)\n",
    "faithulness.append(f)\n",
    "print(\"mean fidelity:\",np.array(faithulness).mean())\n"
   ]
  },
  {
   "cell_type": "code",
   "execution_count": null,
   "metadata": {
    "id": "CWJg9FMXV-qx"
   },
   "outputs": [],
   "source": [
    "columns = X_test.columns\n",
    "base = X[columns].mean().values\n",
    "faithulness = []\n",
    "x_=[]\n",
    "for i in range(0,20):\n",
    "  x = np.array(X_test.iloc[i,:])\n",
    "  coefs = shap_values_instance_svr[i].values\n",
    "  f = faithfulness_metric(svr_model, x, coefs, base)\n",
    "  x_.append(i)\n",
    "  # print(f)\n",
    "  faithulness.append(f)\n",
    "print(\"mean fidelity:\",np.array(faithulness).mean())"
   ]
  },
  {
   "cell_type": "code",
   "execution_count": null,
   "metadata": {
    "id": "voEytmMtV-qx"
   },
   "outputs": [],
   "source": [
    "columns = X_test.columns\n",
    "base = X[columns].mean().values\n",
    "faithulness = []\n",
    "x_=[]\n",
    "for i in range(0,20):\n",
    "  x = np.array(X_test.iloc[i,:])\n",
    "  coefs = shap_values_instance_LR_k[i].values\n",
    "  f = faithfulness_metric(model, x, coefs, base)\n",
    "  x_.append(i)\n",
    "  # print(f)\n",
    "  faithulness.append(f)\n",
    "print(\"mean fidelity:\",np.array(faithulness).mean())"
   ]
  },
  {
   "cell_type": "code",
   "execution_count": null,
   "metadata": {
    "id": "9T9N2pjpV-qy"
   },
   "outputs": [],
   "source": [
    "columns = X_test.columns\n",
    "base = X[columns].mean().values\n",
    "faithulness = []\n",
    "x_=[]\n",
    "for i in range(0,20):\n",
    "  x = np.array(X_test.iloc[i,:])\n",
    "  coefs = shap_values_instance_rf_K[i].values\n",
    "  f = faithfulness_metric(rf_model, x, coefs, base)\n",
    "  x_.append(i)\n",
    "  # print(f)\n",
    "  faithulness.append(f)\n",
    "print(\"mean fidelity:\",np.array(faithulness).mean())"
   ]
  },
  {
   "cell_type": "code",
   "execution_count": null,
   "metadata": {
    "id": "iGjh915ZV-qz"
   },
   "outputs": [],
   "source": [
    "columns = X_test.columns\n",
    "base = X[columns].mean().values\n",
    "faithulness = []\n",
    "x_=[]\n",
    "for i in range(0,20):\n",
    "  x = np.array(X_test.iloc[i,:])\n",
    "  coefs = shap_values_instance_rf[i].values\n",
    "  f = faithfulness_metric(rf_model, x, coefs, base)\n",
    "  x_.append(i)\n",
    "  # print(f)\n",
    "  faithulness.append(f)\n",
    "print(\"mean fidelity:\",np.array(faithulness).mean())"
   ]
  },
  {
   "cell_type": "code",
   "execution_count": null,
   "metadata": {
    "id": "bu1F9mVRV-q0"
   },
   "outputs": [],
   "source": [
    "columns = X_test.columns\n",
    "base = X[columns].mean().values\n",
    "faithulness = []\n",
    "# for i in range(0,1):\n",
    "x = np.array(X_test.iloc[i,:])\n",
    "coefs = lime_attribs_LR\n",
    "f = faithfulness_metric(model, x, coefs, base)\n",
    "print(f)\n",
    "faithulness.append(f)\n",
    "print(\"mean fidelity:\",f.mean())"
   ]
  },
  {
   "cell_type": "code",
   "execution_count": null,
   "metadata": {
    "id": "wRHyQPp5V-q0"
   },
   "outputs": [],
   "source": [
    "import matplotlib.pyplot as plt\n",
    "%matplotlib inline\n",
    "plt.bar(x=x_ ,height= faithulness )"
   ]
  },
  {
   "cell_type": "code",
   "execution_count": null,
   "metadata": {
    "id": "hYCvzxonV-q0"
   },
   "outputs": [],
   "source": [
    "columns = X_test.columns\n",
    "base = X_test[columns].mean().values\n",
    "faithulness = []\n",
    "for i in range(0,10):\n",
    "  x = np.array(X_test.iloc[i,:])\n",
    "  coefs = shap_values[i].values\n",
    "  f = faithfulness_metric(rf_model, x, coefs, base)\n",
    "  #print(f)\n",
    "  faithulness.append(f)\n",
    "print(\"mean fidelity:\",f.mean())\n",
    "faithulness\n"
   ]
  },
  {
   "cell_type": "code",
   "execution_count": null,
   "metadata": {
    "id": "ZpHN_MRLV-q1"
   },
   "outputs": [],
   "source": [
    "columns = X_test.columns\n",
    "base = X_test[columns].mean().values\n",
    "faithulness = []\n",
    "for i in range(0,10):\n",
    "  x = np.array(X_test.iloc[i,:])\n",
    "  coefs = shap_values[i].values\n",
    "  f = faithfulness_metric(rf_model, x, coefs, base)\n",
    "  #print(f)\n",
    "  faithulness.append(f)\n",
    "print(\"mean fidelity:\",f.mean())\n",
    "faithulness"
   ]
  },
  {
   "cell_type": "code",
   "execution_count": null,
   "metadata": {
    "id": "rCR34MBZV-q1"
   },
   "outputs": [],
   "source": [
    "shap_values_instance_LR[0].values"
   ]
  },
  {
   "cell_type": "code",
   "execution_count": null,
   "metadata": {
    "id": "5-Ju7-BzV-q1"
   },
   "outputs": [],
   "source": [
    "columns = X_test.columns\n",
    "base = X[columns].mean().values\n",
    "faithulness = []\n",
    "for i in range(0,1):\n",
    "  x = np.array(X_test.iloc[i,:])\n",
    "  coefs = shap_values_instance_LR[i].values\n",
    "  f = faithfulness_metric(model, x, coefs, base)\n",
    "  #print(f)\n",
    "  faithulness.append(f)\n",
    "print(\"mean fidelity:\",np.array(faithulness).mean())\n"
   ]
  },
  {
   "cell_type": "markdown",
   "metadata": {
    "id": "hBIcAezOV-q2"
   },
   "source": [
    "Monotonicity"
   ]
  },
  {
   "cell_type": "code",
   "execution_count": null,
   "metadata": {
    "id": "Qud6r8EkV-q2"
   },
   "outputs": [],
   "source": [
    "columns = X_test.columns\n",
    "base = X[columns].mean().values\n",
    "mono = []\n",
    "x_=[]\n",
    "for i in range(0,20):\n",
    "  x = np.array(X_test.iloc[i,:])\n",
    "  coefs = shap_values_instance_rf[i].values\n",
    "  f = monotonicity_metric(rf_model, x, coefs, base)\n",
    "  x_.append(i)\n",
    "  # print(f)\n",
    "  mono.append(f)\n",
    "print(mono)"
   ]
  },
  {
   "cell_type": "code",
   "execution_count": null,
   "metadata": {
    "id": "09-2i6ZvV-q3"
   },
   "outputs": [],
   "source": [
    "#faithfulness for instance\n",
    "i = "
   ]
  },
  {
   "cell_type": "code",
   "execution_count": null,
   "metadata": {
    "colab": {
     "background_save": true
    },
    "id": "fUHhhQYRHHYJ"
   },
   "outputs": [],
   "source": [
    "c=[]\n",
    "x=[]\n",
    "for i in range(len(a)):\n",
    "  if i%2 == 0:\n",
    "    c.append(a[i])\n",
    "  else:\n",
    "    x.append(a[i])\n",
    "c,x"
   ]
  },
  {
   "cell_type": "code",
   "execution_count": null,
   "metadata": {
    "id": "M_uOgcIVFydB"
   },
   "outputs": [],
   "source": [
    "a=[[24.50550682], [-8.496701054230497],\n",
    "[22.34963777] ,[-3.9598088592476737],\n",
    "[25.17665769], [-2.93242726081649],\n",
    "[24.80939518], [-2.375697786810172],\n",
    "[23.39868844], [-2.074516433514018],\n",
    "[23.35255948], [-1.8126174490235212],\n",
    "[24.74906171], [-1.199475518813864],\n",
    "[25.44100819], [-0.5538293287168972],\n",
    "[24.422721], [-0.32634516908807915],\n",
    "[25.10941071], [-0.15067478546948257],\n",
    "[25.02527075] ,[0.08593488514720092],\n",
    "[27.06542653], [2.9998294990265872],\n",
    "[26.27946057],[ 3.494130215218465]]\n",
    "a"
   ]
  }
 ],
 "metadata": {
  "colab": {
   "collapsed_sections": [
    "FBwSdqWQwFyC"
   ],
   "name": "Superconductivity dataset.ipynb",
   "provenance": []
  },
  "kernelspec": {
   "display_name": "Python 3",
   "language": "python",
   "name": "python3"
  },
  "language_info": {
   "codemirror_mode": {
    "name": "ipython",
    "version": 3
   },
   "file_extension": ".py",
   "mimetype": "text/x-python",
   "name": "python",
   "nbconvert_exporter": "python",
   "pygments_lexer": "ipython3",
   "version": "3.6.9"
  },
  "widgets": {
   "application/vnd.jupyter.widget-state+json": {
    "0f7e3fa30b0e43e2a2a5b3043622f9be": {
     "model_module": "@jupyter-widgets/base",
     "model_module_version": "1.2.0",
     "model_name": "LayoutModel",
     "state": {
      "_model_module": "@jupyter-widgets/base",
      "_model_module_version": "1.2.0",
      "_model_name": "LayoutModel",
      "_view_count": null,
      "_view_module": "@jupyter-widgets/base",
      "_view_module_version": "1.2.0",
      "_view_name": "LayoutView",
      "align_content": null,
      "align_items": null,
      "align_self": null,
      "border": null,
      "bottom": null,
      "display": null,
      "flex": null,
      "flex_flow": null,
      "grid_area": null,
      "grid_auto_columns": null,
      "grid_auto_flow": null,
      "grid_auto_rows": null,
      "grid_column": null,
      "grid_gap": null,
      "grid_row": null,
      "grid_template_areas": null,
      "grid_template_columns": null,
      "grid_template_rows": null,
      "height": null,
      "justify_content": null,
      "justify_items": null,
      "left": null,
      "margin": null,
      "max_height": null,
      "max_width": null,
      "min_height": null,
      "min_width": null,
      "object_fit": null,
      "object_position": null,
      "order": null,
      "overflow": null,
      "overflow_x": null,
      "overflow_y": null,
      "padding": null,
      "right": null,
      "top": null,
      "visibility": null,
      "width": null
     }
    },
    "11eb998f6cfe4ae49917e0b21c0306c2": {
     "model_module": "@jupyter-widgets/controls",
     "model_module_version": "1.5.0",
     "model_name": "HBoxModel",
     "state": {
      "_dom_classes": [],
      "_model_module": "@jupyter-widgets/controls",
      "_model_module_version": "1.5.0",
      "_model_name": "HBoxModel",
      "_view_count": null,
      "_view_module": "@jupyter-widgets/controls",
      "_view_module_version": "1.5.0",
      "_view_name": "HBoxView",
      "box_style": "",
      "children": [
       "IPY_MODEL_b99ae73c841d429d994b9b8e764c2cc3",
       "IPY_MODEL_2ffb75a4dc2a47279088679613553519",
       "IPY_MODEL_dc381a2679b241428781eec9f062d39a"
      ],
      "layout": "IPY_MODEL_1a5ec13584ae45e3852e6b5756eb0f98"
     }
    },
    "1a5ec13584ae45e3852e6b5756eb0f98": {
     "model_module": "@jupyter-widgets/base",
     "model_module_version": "1.2.0",
     "model_name": "LayoutModel",
     "state": {
      "_model_module": "@jupyter-widgets/base",
      "_model_module_version": "1.2.0",
      "_model_name": "LayoutModel",
      "_view_count": null,
      "_view_module": "@jupyter-widgets/base",
      "_view_module_version": "1.2.0",
      "_view_name": "LayoutView",
      "align_content": null,
      "align_items": null,
      "align_self": null,
      "border": null,
      "bottom": null,
      "display": null,
      "flex": null,
      "flex_flow": null,
      "grid_area": null,
      "grid_auto_columns": null,
      "grid_auto_flow": null,
      "grid_auto_rows": null,
      "grid_column": null,
      "grid_gap": null,
      "grid_row": null,
      "grid_template_areas": null,
      "grid_template_columns": null,
      "grid_template_rows": null,
      "height": null,
      "justify_content": null,
      "justify_items": null,
      "left": null,
      "margin": null,
      "max_height": null,
      "max_width": null,
      "min_height": null,
      "min_width": null,
      "object_fit": null,
      "object_position": null,
      "order": null,
      "overflow": null,
      "overflow_x": null,
      "overflow_y": null,
      "padding": null,
      "right": null,
      "top": null,
      "visibility": null,
      "width": null
     }
    },
    "2ffb75a4dc2a47279088679613553519": {
     "model_module": "@jupyter-widgets/controls",
     "model_module_version": "1.5.0",
     "model_name": "FloatProgressModel",
     "state": {
      "_dom_classes": [],
      "_model_module": "@jupyter-widgets/controls",
      "_model_module_version": "1.5.0",
      "_model_name": "FloatProgressModel",
      "_view_count": null,
      "_view_module": "@jupyter-widgets/controls",
      "_view_module_version": "1.5.0",
      "_view_name": "ProgressView",
      "bar_style": "success",
      "description": "",
      "description_tooltip": null,
      "layout": "IPY_MODEL_0f7e3fa30b0e43e2a2a5b3043622f9be",
      "max": 1,
      "min": 0,
      "orientation": "horizontal",
      "style": "IPY_MODEL_a5ae8b8653d44aeb98c439122fc60da3",
      "value": 1
     }
    },
    "323e6eb482c14efb96957be9a976af44": {
     "model_module": "@jupyter-widgets/controls",
     "model_module_version": "1.5.0",
     "model_name": "DescriptionStyleModel",
     "state": {
      "_model_module": "@jupyter-widgets/controls",
      "_model_module_version": "1.5.0",
      "_model_name": "DescriptionStyleModel",
      "_view_count": null,
      "_view_module": "@jupyter-widgets/base",
      "_view_module_version": "1.2.0",
      "_view_name": "StyleView",
      "description_width": ""
     }
    },
    "4ff20c7daac240f2971ba8819b08ef57": {
     "model_module": "@jupyter-widgets/base",
     "model_module_version": "1.2.0",
     "model_name": "LayoutModel",
     "state": {
      "_model_module": "@jupyter-widgets/base",
      "_model_module_version": "1.2.0",
      "_model_name": "LayoutModel",
      "_view_count": null,
      "_view_module": "@jupyter-widgets/base",
      "_view_module_version": "1.2.0",
      "_view_name": "LayoutView",
      "align_content": null,
      "align_items": null,
      "align_self": null,
      "border": null,
      "bottom": null,
      "display": null,
      "flex": null,
      "flex_flow": null,
      "grid_area": null,
      "grid_auto_columns": null,
      "grid_auto_flow": null,
      "grid_auto_rows": null,
      "grid_column": null,
      "grid_gap": null,
      "grid_row": null,
      "grid_template_areas": null,
      "grid_template_columns": null,
      "grid_template_rows": null,
      "height": null,
      "justify_content": null,
      "justify_items": null,
      "left": null,
      "margin": null,
      "max_height": null,
      "max_width": null,
      "min_height": null,
      "min_width": null,
      "object_fit": null,
      "object_position": null,
      "order": null,
      "overflow": null,
      "overflow_x": null,
      "overflow_y": null,
      "padding": null,
      "right": null,
      "top": null,
      "visibility": null,
      "width": null
     }
    },
    "a5ae8b8653d44aeb98c439122fc60da3": {
     "model_module": "@jupyter-widgets/controls",
     "model_module_version": "1.5.0",
     "model_name": "ProgressStyleModel",
     "state": {
      "_model_module": "@jupyter-widgets/controls",
      "_model_module_version": "1.5.0",
      "_model_name": "ProgressStyleModel",
      "_view_count": null,
      "_view_module": "@jupyter-widgets/base",
      "_view_module_version": "1.2.0",
      "_view_name": "StyleView",
      "bar_color": null,
      "description_width": ""
     }
    },
    "a69e1b89fad340ebb3fbb330adb5c98f": {
     "model_module": "@jupyter-widgets/base",
     "model_module_version": "1.2.0",
     "model_name": "LayoutModel",
     "state": {
      "_model_module": "@jupyter-widgets/base",
      "_model_module_version": "1.2.0",
      "_model_name": "LayoutModel",
      "_view_count": null,
      "_view_module": "@jupyter-widgets/base",
      "_view_module_version": "1.2.0",
      "_view_name": "LayoutView",
      "align_content": null,
      "align_items": null,
      "align_self": null,
      "border": null,
      "bottom": null,
      "display": null,
      "flex": null,
      "flex_flow": null,
      "grid_area": null,
      "grid_auto_columns": null,
      "grid_auto_flow": null,
      "grid_auto_rows": null,
      "grid_column": null,
      "grid_gap": null,
      "grid_row": null,
      "grid_template_areas": null,
      "grid_template_columns": null,
      "grid_template_rows": null,
      "height": null,
      "justify_content": null,
      "justify_items": null,
      "left": null,
      "margin": null,
      "max_height": null,
      "max_width": null,
      "min_height": null,
      "min_width": null,
      "object_fit": null,
      "object_position": null,
      "order": null,
      "overflow": null,
      "overflow_x": null,
      "overflow_y": null,
      "padding": null,
      "right": null,
      "top": null,
      "visibility": null,
      "width": null
     }
    },
    "b99ae73c841d429d994b9b8e764c2cc3": {
     "model_module": "@jupyter-widgets/controls",
     "model_module_version": "1.5.0",
     "model_name": "HTMLModel",
     "state": {
      "_dom_classes": [],
      "_model_module": "@jupyter-widgets/controls",
      "_model_module_version": "1.5.0",
      "_model_name": "HTMLModel",
      "_view_count": null,
      "_view_module": "@jupyter-widgets/controls",
      "_view_module_version": "1.5.0",
      "_view_name": "HTMLView",
      "description": "",
      "description_tooltip": null,
      "layout": "IPY_MODEL_a69e1b89fad340ebb3fbb330adb5c98f",
      "placeholder": "​",
      "style": "IPY_MODEL_323e6eb482c14efb96957be9a976af44",
      "value": "100%"
     }
    },
    "cd106fa4d86d4059af82077f450ac5ea": {
     "model_module": "@jupyter-widgets/controls",
     "model_module_version": "1.5.0",
     "model_name": "DescriptionStyleModel",
     "state": {
      "_model_module": "@jupyter-widgets/controls",
      "_model_module_version": "1.5.0",
      "_model_name": "DescriptionStyleModel",
      "_view_count": null,
      "_view_module": "@jupyter-widgets/base",
      "_view_module_version": "1.2.0",
      "_view_name": "StyleView",
      "description_width": ""
     }
    },
    "dc381a2679b241428781eec9f062d39a": {
     "model_module": "@jupyter-widgets/controls",
     "model_module_version": "1.5.0",
     "model_name": "HTMLModel",
     "state": {
      "_dom_classes": [],
      "_model_module": "@jupyter-widgets/controls",
      "_model_module_version": "1.5.0",
      "_model_name": "HTMLModel",
      "_view_count": null,
      "_view_module": "@jupyter-widgets/controls",
      "_view_module_version": "1.5.0",
      "_view_name": "HTMLView",
      "description": "",
      "description_tooltip": null,
      "layout": "IPY_MODEL_4ff20c7daac240f2971ba8819b08ef57",
      "placeholder": "​",
      "style": "IPY_MODEL_cd106fa4d86d4059af82077f450ac5ea",
      "value": " 1/1 [00:02&lt;00:00,  2.62s/it]"
     }
    }
   }
  }
 },
 "nbformat": 4,
 "nbformat_minor": 1
}
